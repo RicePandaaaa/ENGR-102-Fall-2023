{
 "cells": [
  {
   "cell_type": "markdown",
   "metadata": {},
   "source": [
    "<h2 style=\"color: orange;\"> Errors </h2>\n",
    "\n",
    "Your code will not always run correctly: in fact, your code may not always run at all. Usually when your code fails to execute, you get some sort of error message. The code below causes an error when executed:"
   ]
  },
  {
   "cell_type": "code",
   "execution_count": 29,
   "metadata": {},
   "outputs": [
    {
     "ename": "TypeError",
     "evalue": "can only concatenate str (not \"int\") to str",
     "output_type": "error",
     "traceback": [
      "\u001b[1;31m---------------------------------------------------------------------------\u001b[0m",
      "\u001b[1;31mTypeError\u001b[0m                                 Traceback (most recent call last)",
      "Cell \u001b[1;32mIn[29], line 3\u001b[0m\n\u001b[0;32m      1\u001b[0m \u001b[39m# Example E-1: Bad Code\u001b[39;00m\n\u001b[1;32m----> 3\u001b[0m \u001b[39mprint\u001b[39m(\u001b[39m\"\u001b[39;49m\u001b[39mA\u001b[39;49m\u001b[39m\"\u001b[39;49m \u001b[39m+\u001b[39;49m \u001b[39m2\u001b[39;49m)\n",
      "\u001b[1;31mTypeError\u001b[0m: can only concatenate str (not \"int\") to str"
     ]
    }
   ],
   "source": [
    "# Example E-1: Bad Code\n",
    "\n",
    "print(\"A\" + 2)"
   ]
  },
  {
   "cell_type": "markdown",
   "metadata": {},
   "source": [
    "Errors come in all sorts of formats but usually the error message has this format:\n",
    "- Something saying there's a traceback\n",
    "- The line Python was on when the error was raised (THIS IS NOT NECESSARILY THE SAME LINE THAT CAUSED THE ERROR)\n",
    "- The error type and the description of the error\n",
    "\n",
    "Another common error format you'll see is this:\n",
    "```python\n",
    "Traceback (most recent call last):\n",
    "  File \"c:\\Users\\antho\\Documents\\ENGR 102\\Lab 2\\more_linear_interpolation.py\", line 15, in <module>\n",
    "    print(\"A\" + 2)\n",
    "TypeError: can only concatenate str (not \"int\") to str\n",
    "```\n",
    "\n",
    "Again, the same template applies though. There's the line that says \"Traceback\", the location of where the error was found (again, not necessarily where the error actually is), and the error type and description. Being able to read these error messages can save you a bunch of time and recognizing the format is critical as the error messge has two pieces of critical information:\n",
    "- Where the error is (or around where): Usually the error is on the same line as listed but rarely, errors can cause the message to incorrect list on the next line, so always look a couple lines above and below the listed line to be sure \n",
    "- What the error actually is: This info can be really helpful in figuring out what you need to do to fix the bug\n",
    "\n",
    "In my case, the error is on the line `print(\"A\" + 2)` and the error says that Python `can only concatenate str (not \"int\") to str`. This means that I tried adding an integer and a string together. To resolve this, I will need to ensure that I convert the 2 to a string. The solution does depend on context (maybe I should have changed the string to a number beforehand somehow).\n",
    "\n",
    "Now this is the general way of dealing with errors. There is quite the list of common errors you will face, and I'll put them in some sort of organized fashion. Also note that these errors are well... common... so you can probably copy and paste the last line into Google and get a nice Stack Overflow link explaining the error and how to solve it."
   ]
  },
  {
   "cell_type": "markdown",
   "metadata": {},
   "source": [
    "<h2 style=\"color: orange;\"> String Errors </h2>"
   ]
  },
  {
   "cell_type": "markdown",
   "metadata": {},
   "source": [
    "<h4> Unterminated string literal (SyntaxError) </h4>\n",
    "\n",
    "This means that you did not close your string properly. Make sure that your text is enclosed by double quotes or single quotes (don't mix or you'll get the same error). If you have too many quotes, you'll get the same error as well (Example E-S2)."
   ]
  },
  {
   "cell_type": "code",
   "execution_count": 38,
   "metadata": {},
   "outputs": [
    {
     "ename": "SyntaxError",
     "evalue": "unterminated string literal (detected at line 2) (3004392590.py, line 2)",
     "output_type": "error",
     "traceback": [
      "\u001b[1;36m  Cell \u001b[1;32mIn[38], line 2\u001b[1;36m\u001b[0m\n\u001b[1;33m    print(\"a)\u001b[0m\n\u001b[1;37m          ^\u001b[0m\n\u001b[1;31mSyntaxError\u001b[0m\u001b[1;31m:\u001b[0m unterminated string literal (detected at line 2)\n"
     ]
    }
   ],
   "source": [
    "# Example E-S1: Unterminated String Literal\n",
    "print(\"a)"
   ]
  },
  {
   "cell_type": "code",
   "execution_count": 39,
   "metadata": {},
   "outputs": [
    {
     "ename": "SyntaxError",
     "evalue": "unterminated string literal (detected at line 2) (4233741673.py, line 2)",
     "output_type": "error",
     "traceback": [
      "\u001b[1;36m  Cell \u001b[1;32mIn[39], line 2\u001b[1;36m\u001b[0m\n\u001b[1;33m    print(\"a\"\")\u001b[0m\n\u001b[1;37m             ^\u001b[0m\n\u001b[1;31mSyntaxError\u001b[0m\u001b[1;31m:\u001b[0m unterminated string literal (detected at line 2)\n"
     ]
    }
   ],
   "source": [
    "# Example E-S2: Extra quote\n",
    "print(\"a\"\")"
   ]
  },
  {
   "cell_type": "markdown",
   "metadata": {},
   "source": [
    "<h4> Concatenating with non-strings (TypeError) </h4>\n",
    "\n",
    "When you are adding strings with plus signs (in other words, while performing string concatenation), the values left and right of the plus signs must be strings. If not, you get the error shown below, and Python will tell you what the unexpected value type is. Now it won't tell you which of the two is the wrong type, so you need to go find that out yourself."
   ]
  },
  {
   "cell_type": "code",
   "execution_count": 40,
   "metadata": {},
   "outputs": [
    {
     "ename": "TypeError",
     "evalue": "can only concatenate str (not \"int\") to str",
     "output_type": "error",
     "traceback": [
      "\u001b[1;31m---------------------------------------------------------------------------\u001b[0m",
      "\u001b[1;31mTypeError\u001b[0m                                 Traceback (most recent call last)",
      "Cell \u001b[1;32mIn[40], line 2\u001b[0m\n\u001b[0;32m      1\u001b[0m \u001b[39m# Example E-S3: Adding a string and a non-string\u001b[39;00m\n\u001b[1;32m----> 2\u001b[0m \u001b[39mprint\u001b[39m(\u001b[39m\"\u001b[39;49m\u001b[39mA\u001b[39;49m\u001b[39m\"\u001b[39;49m \u001b[39m+\u001b[39;49m \u001b[39m3\u001b[39;49m)\n",
      "\u001b[1;31mTypeError\u001b[0m: can only concatenate str (not \"int\") to str"
     ]
    }
   ],
   "source": [
    "# Example E-S3: Adding a string and a non-string\n",
    "print(\"A\" + 3)"
   ]
  },
  {
   "cell_type": "markdown",
   "metadata": {},
   "source": [
    "<h4> String does not support item assignment (TypeError) </h4>\n",
    "\n",
    "This comes back to a property of strings: they are immutable. You can never directly a change, but you can make a copy of a string with changes to it. The code below attempts to directly change the string itself with indexing. You can access a character with indices, but you may not change the contents in this fashion."
   ]
  },
  {
   "cell_type": "code",
   "execution_count": 43,
   "metadata": {},
   "outputs": [
    {
     "ename": "TypeError",
     "evalue": "'str' object does not support item assignment",
     "output_type": "error",
     "traceback": [
      "\u001b[1;31m---------------------------------------------------------------------------\u001b[0m",
      "\u001b[1;31mTypeError\u001b[0m                                 Traceback (most recent call last)",
      "Cell \u001b[1;32mIn[43], line 3\u001b[0m\n\u001b[0;32m      1\u001b[0m \u001b[39m# Example E-S4: Immutable String meets Wrong Code\u001b[39;00m\n\u001b[0;32m      2\u001b[0m letters \u001b[39m=\u001b[39m \u001b[39m\"\u001b[39m\u001b[39mABCDE\u001b[39m\u001b[39m\"\u001b[39m\n\u001b[1;32m----> 3\u001b[0m letters[\u001b[39m1\u001b[39;49m] \u001b[39m=\u001b[39m \u001b[39m\"\u001b[39m\u001b[39mG\u001b[39m\u001b[39m\"\u001b[39m\n",
      "\u001b[1;31mTypeError\u001b[0m: 'str' object does not support item assignment"
     ]
    }
   ],
   "source": [
    "# Example E-S4: Immutable String meets Wrong Code\n",
    "letters = \"ABCDE\"\n",
    "letters[1] = \"G\"\n",
    "\n"
   ]
  },
  {
   "cell_type": "markdown",
   "metadata": {},
   "source": [
    "<h4> Accidental Special Characters </h4>\n",
    "\n",
    "Be careful with using backwards slashes. By itself, it's used in conjunction with the letter next to it and it will negate that letter's special effect if possible. In E-S5, the backwards slash actually negates the double quote's ability to complete the string, which means Python think you forgot to close the string. This type of error can be rather tricky so pay careful attention whenever you're trying to use backwards slashes."
   ]
  },
  {
   "cell_type": "code",
   "execution_count": 42,
   "metadata": {},
   "outputs": [
    {
     "ename": "SyntaxError",
     "evalue": "unterminated string literal (detected at line 2) (720977833.py, line 2)",
     "output_type": "error",
     "traceback": [
      "\u001b[1;36m  Cell \u001b[1;32mIn[42], line 2\u001b[1;36m\u001b[0m\n\u001b[1;33m    print(\"\\\")\u001b[0m\n\u001b[1;37m          ^\u001b[0m\n\u001b[1;31mSyntaxError\u001b[0m\u001b[1;31m:\u001b[0m unterminated string literal (detected at line 2)\n"
     ]
    }
   ],
   "source": [
    "# Example E-S5: Special characters... or just wrong characters\n",
    "print(\"\\\")"
   ]
  },
  {
   "cell_type": "markdown",
   "metadata": {},
   "source": [
    "<h2 style=\"color: orange;\"> Typing Errors </h2>\n",
    "\n",
    "These are errors because you accidently mistyped something (added some extra characters there and there or removed some there and there). Although the error messages tend to be straight forward, these historically have been pretty painful to deal with at times since they're not very obviously spotted."
   ]
  },
  {
   "cell_type": "markdown",
   "metadata": {},
   "source": [
    "<h4> Missing or Extra Parentheses </h4>\n",
    "\n",
    "This can get a little tricky sometimes. Generally, if you're missing the first parentheses rather than the last one, you get an error similar to E-T2 and E-T3 (mismatching parenteheses). However, parentheses are also vital for functions, so you may get an error similar to E-T1 where your missing parentheses (generally end) looks like invalid function syntax. Check your code very carefully to ensure all your parentheses are properly paired with one another."
   ]
  },
  {
   "cell_type": "code",
   "execution_count": 41,
   "metadata": {},
   "outputs": [
    {
     "ename": "SyntaxError",
     "evalue": "incomplete input (532270733.py, line 2)",
     "output_type": "error",
     "traceback": [
      "\u001b[1;36m  Cell \u001b[1;32mIn[41], line 2\u001b[1;36m\u001b[0m\n\u001b[1;33m    print(((1 + 2) + 4)\u001b[0m\n\u001b[1;37m                       ^\u001b[0m\n\u001b[1;31mSyntaxError\u001b[0m\u001b[1;31m:\u001b[0m incomplete input\n"
     ]
    }
   ],
   "source": [
    "# Example E-T1: Missing parentheses\n",
    "print(((1 + 2) + 4)"
   ]
  },
  {
   "cell_type": "code",
   "execution_count": 44,
   "metadata": {},
   "outputs": [
    {
     "ename": "SyntaxError",
     "evalue": "unmatched ')' (1592459086.py, line 2)",
     "output_type": "error",
     "traceback": [
      "\u001b[1;36m  Cell \u001b[1;32mIn[44], line 2\u001b[1;36m\u001b[0m\n\u001b[1;33m    x = (1 + 2) + 4)\u001b[0m\n\u001b[1;37m                   ^\u001b[0m\n\u001b[1;31mSyntaxError\u001b[0m\u001b[1;31m:\u001b[0m unmatched ')'\n"
     ]
    }
   ],
   "source": [
    "# Example E-T2: Still missing parentheses\n",
    "x = (1 + 2) + 4)"
   ]
  },
  {
   "cell_type": "code",
   "execution_count": 45,
   "metadata": {},
   "outputs": [
    {
     "ename": "SyntaxError",
     "evalue": "unmatched ')' (2565420798.py, line 2)",
     "output_type": "error",
     "traceback": [
      "\u001b[1;36m  Cell \u001b[1;32mIn[45], line 2\u001b[1;36m\u001b[0m\n\u001b[1;33m    print(1+ 2))\u001b[0m\n\u001b[1;37m               ^\u001b[0m\n\u001b[1;31mSyntaxError\u001b[0m\u001b[1;31m:\u001b[0m unmatched ')'\n"
     ]
    }
   ],
   "source": [
    "# Example E-T3: One extra parentheses\n",
    "print(1+ 2))"
   ]
  },
  {
   "cell_type": "markdown",
   "metadata": {},
   "source": [
    "<h4> No module named \"blah blah blah\" (ModuleNotFoundError) </h4>\n",
    "\n",
    "You either forgot to install it with `pip` (I believe it's `python -m pip install {module_here}` for Windows and `python3 -m pip install {module_here}` for MacOS) or you misspelled the module name (without fail, someone will misspell `matplotlib` when we get to that unit). Ensure that the module is spelled correctly and that it is installed onto the version of Python you are using as the interpretter."
   ]
  },
  {
   "cell_type": "code",
   "execution_count": 46,
   "metadata": {},
   "outputs": [
    {
     "ename": "ModuleNotFoundError",
     "evalue": "No module named 'mathplotlib'",
     "output_type": "error",
     "traceback": [
      "\u001b[1;31m---------------------------------------------------------------------------\u001b[0m",
      "\u001b[1;31mModuleNotFoundError\u001b[0m                       Traceback (most recent call last)",
      "Cell \u001b[1;32mIn[46], line 2\u001b[0m\n\u001b[0;32m      1\u001b[0m \u001b[39m# Example E-T4: An attempt at importing matplotlib\u001b[39;00m\n\u001b[1;32m----> 2\u001b[0m \u001b[39mimport\u001b[39;00m \u001b[39mmathplotlib\u001b[39;00m\n",
      "\u001b[1;31mModuleNotFoundError\u001b[0m: No module named 'mathplotlib'"
     ]
    }
   ],
   "source": [
    "# Example E-T4: An attempt at importing matplotlib\n",
    "import mathplotlib"
   ]
  },
  {
   "cell_type": "markdown",
   "metadata": {},
   "source": [
    "<h4> Missing Comma (usually SyntaxError) </h4>\n",
    "\n",
    "So missing commas can break a lot of code, especially since commas are required to separate arguments from one another. Sometimes you'll get a nice error message like the one in E-T5 that's extremely straight forward, other times, Python is gonna tell you that it can't make sense of your values."
   ]
  },
  {
   "cell_type": "code",
   "execution_count": null,
   "metadata": {},
   "outputs": [
    {
     "ename": "SyntaxError",
     "evalue": "invalid syntax. Perhaps you forgot a comma? (559982825.py, line 2)",
     "output_type": "error",
     "traceback": [
      "\u001b[1;36m  Cell \u001b[1;32mIn[15], line 2\u001b[1;36m\u001b[0m\n\u001b[1;33m    print(\"YO\" 2)\u001b[0m\n\u001b[1;37m          ^\u001b[0m\n\u001b[1;31mSyntaxError\u001b[0m\u001b[1;31m:\u001b[0m invalid syntax. Perhaps you forgot a comma?\n"
     ]
    }
   ],
   "source": [
    "# Example E-T5: Missing comma\n",
    "print(\"YO\" 2)"
   ]
  },
  {
   "cell_type": "code",
   "execution_count": 47,
   "metadata": {},
   "outputs": [
    {
     "ename": "SyntaxError",
     "evalue": "invalid syntax. Perhaps you forgot a comma? (234919584.py, line 4)",
     "output_type": "error",
     "traceback": [
      "\u001b[1;36m  Cell \u001b[1;32mIn[47], line 4\u001b[1;36m\u001b[0m\n\u001b[1;33m    print(power(sin(radians) 3))\u001b[0m\n\u001b[1;37m                ^\u001b[0m\n\u001b[1;31mSyntaxError\u001b[0m\u001b[1;31m:\u001b[0m invalid syntax. Perhaps you forgot a comma?\n"
     ]
    }
   ],
   "source": [
    "# Example E-T6: Where the comma at\n",
    "from math import sin, radians, power\n",
    "\n",
    "print(power(sin(radians) 3))"
   ]
  },
  {
   "cell_type": "markdown",
   "metadata": {},
   "source": [
    "<h4> ImportError </h4>\n",
    "\n",
    "This generally happens when you try to import something that doesn't exist. It's different from `ModuleNotFoundError` because this occurs when you try to import something from a module that does exist but the thing you're trying to import does not. This time, ensure that you spelled the name of the thing you're importing correctly and that you are importing from the correct module."
   ]
  },
  {
   "cell_type": "code",
   "execution_count": 48,
   "metadata": {},
   "outputs": [
    {
     "ename": "ImportError",
     "evalue": "cannot import name 'tang' from 'math' (unknown location)",
     "output_type": "error",
     "traceback": [
      "\u001b[1;31m---------------------------------------------------------------------------\u001b[0m",
      "\u001b[1;31mImportError\u001b[0m                               Traceback (most recent call last)",
      "Cell \u001b[1;32mIn[48], line 2\u001b[0m\n\u001b[0;32m      1\u001b[0m \u001b[39m# Example E-T7: Ah yes, sin/cos = tang\u001b[39;00m\n\u001b[1;32m----> 2\u001b[0m \u001b[39mfrom\u001b[39;00m \u001b[39mmath\u001b[39;00m \u001b[39mimport\u001b[39;00m tang\n\u001b[0;32m      4\u001b[0m \u001b[39mprint\u001b[39m(tang(\u001b[39m3\u001b[39m))\n",
      "\u001b[1;31mImportError\u001b[0m: cannot import name 'tang' from 'math' (unknown location)"
     ]
    }
   ],
   "source": [
    "# Example E-T7: Ah yes, sin/cos = tang\n",
    "from math import tang\n",
    "\n",
    "print(tang(3))"
   ]
  },
  {
   "cell_type": "code",
   "execution_count": 49,
   "metadata": {},
   "outputs": [
    {
     "ename": "ImportError",
     "evalue": "cannot import name 'cos' from 'turtle' (c:\\Users\\antho\\AppData\\Local\\Programs\\Python\\Python310\\lib\\turtle.py)",
     "output_type": "error",
     "traceback": [
      "\u001b[1;31m---------------------------------------------------------------------------\u001b[0m",
      "\u001b[1;31mImportError\u001b[0m                               Traceback (most recent call last)",
      "Cell \u001b[1;32mIn[49], line 2\u001b[0m\n\u001b[0;32m      1\u001b[0m \u001b[39m# Example E-T8: Right function, wrong module\u001b[39;00m\n\u001b[1;32m----> 2\u001b[0m \u001b[39mfrom\u001b[39;00m \u001b[39mturtle\u001b[39;00m \u001b[39mimport\u001b[39;00m cos\n",
      "\u001b[1;31mImportError\u001b[0m: cannot import name 'cos' from 'turtle' (c:\\Users\\antho\\AppData\\Local\\Programs\\Python\\Python310\\lib\\turtle.py)"
     ]
    }
   ],
   "source": [
    "# Example E-T8: Right function, wrong module\n",
    "from turtle import cos"
   ]
  },
  {
   "cell_type": "markdown",
   "metadata": {},
   "source": [
    "<h4> NameError </h4>\n",
    "\n",
    "As the name suggests, there's an error with the name of something. Usually this happens because you misspelled a variable or function name. Ultimately, you will get this error if you reference something (like a variable or function) by name and Python can't find it in your code. Some other times, you will get the error if you forget to import the module it comes in or forget to prefix the function or constant with `module_name.` (examples E-T11 and E-T12)."
   ]
  },
  {
   "cell_type": "code",
   "execution_count": 50,
   "metadata": {},
   "outputs": [
    {
     "ename": "NameError",
     "evalue": "name 'howy' is not defined",
     "output_type": "error",
     "traceback": [
      "\u001b[1;31m---------------------------------------------------------------------------\u001b[0m",
      "\u001b[1;31mNameError\u001b[0m                                 Traceback (most recent call last)",
      "Cell \u001b[1;32mIn[50], line 6\u001b[0m\n\u001b[0;32m      3\u001b[0m \u001b[39mdef\u001b[39;00m \u001b[39mhowdy\u001b[39m():\n\u001b[0;32m      4\u001b[0m     \u001b[39mprint\u001b[39m(\u001b[39m\"\u001b[39m\u001b[39mHowdy!\u001b[39m\u001b[39m\"\u001b[39m)\n\u001b[1;32m----> 6\u001b[0m howy()\n",
      "\u001b[1;31mNameError\u001b[0m: name 'howy' is not defined"
     ]
    }
   ],
   "source": [
    "# Example E-T9: Misspelled function\n",
    "\n",
    "def howdy():\n",
    "    print(\"Howdy!\")\n",
    "\n",
    "howy()"
   ]
  },
  {
   "cell_type": "code",
   "execution_count": 51,
   "metadata": {},
   "outputs": [
    {
     "ename": "NameError",
     "evalue": "name 'my_rizz_level' is not defined",
     "output_type": "error",
     "traceback": [
      "\u001b[1;31m---------------------------------------------------------------------------\u001b[0m",
      "\u001b[1;31mNameError\u001b[0m                                 Traceback (most recent call last)",
      "Cell \u001b[1;32mIn[51], line 3\u001b[0m\n\u001b[0;32m      1\u001b[0m \u001b[39m# Example E-T10: Variable never defined\u001b[39;00m\n\u001b[1;32m----> 3\u001b[0m \u001b[39mprint\u001b[39m(my_rizz_level)\n",
      "\u001b[1;31mNameError\u001b[0m: name 'my_rizz_level' is not defined"
     ]
    }
   ],
   "source": [
    "# Example E-T10: Variable never defined\n",
    "\n",
    "print(my_rizz_level)"
   ]
  },
  {
   "cell_type": "markdown",
   "metadata": {},
   "source": [
    "<h2 style=\"color: orange;\"> None Errors </h2>\n",
    "\n",
    "Surprisingly yes, there's actually a lot of errors you get when you try to do stuff with `None`. 99% of the time, this is unintentional: you try to do something but it unexpectedly returns `None` (the default behavior of a function with no return type or the general behavior of a function that's supposed to return nothing back to you). \n",
    "\n",
    "Most of the time, these errors can be resolved by fixing the code before it that returned a `None` in the first place rather than the list or dictionary or string or whatever it is you were actually expecting. But I will show some examples of `None` being youtr not-so-best friend."
   ]
  },
  {
   "cell_type": "markdown",
   "metadata": {},
   "source": [
    "<h4> Forgot to Return </h4>\n",
    "\n",
    "You have a function that's supposed to return something. Keywords here being \"supposed to\". If you read the function `getHour` I made below for Example E-N1, you can see that I even type hinted that the function is supposed to return an integer (with `-> int`). Obviously, you can see that I didn't put any sort of `return` statement, which means this function returns `None`.\n",
    "\n",
    "I use the function as if I made it correctly and I use the value that was supposed to be return to compare to another number to see if the time is for the morning or the afternoon. I get an error that I cannot compare `NoneType` and `int`. 12 is obviously an integer, so `getHour(time)` must be `None` and thus I must have forgot a `return` statement somewhere.\n",
    "\n",
    "This is especially important for programs with any sort of nesting (nested conditionals and nested loops) as if your function is supposed to return something, you must ensure that every possible path through the branches/nests leads to a `return` statement. This problem is demonstrated in Example E-N2. \n",
    "\n",
    "(If you are curious what the solution is for E-N1, I just need to add `return hour` to the end of the function. For E-N2, I need to add `return tax` in the `else` block.)"
   ]
  },
  {
   "cell_type": "code",
   "execution_count": 53,
   "metadata": {},
   "outputs": [
    {
     "ename": "TypeError",
     "evalue": "'<' not supported between instances of 'NoneType' and 'int'",
     "output_type": "error",
     "traceback": [
      "\u001b[1;31m---------------------------------------------------------------------------\u001b[0m",
      "\u001b[1;31mTypeError\u001b[0m                                 Traceback (most recent call last)",
      "Cell \u001b[1;32mIn[53], line 8\u001b[0m\n\u001b[0;32m      5\u001b[0m     hour \u001b[39m=\u001b[39m time\u001b[39m.\u001b[39msplit(\u001b[39m\"\u001b[39m\u001b[39m:\u001b[39m\u001b[39m\"\u001b[39m)[\u001b[39m0\u001b[39m]\n\u001b[0;32m      7\u001b[0m time \u001b[39m=\u001b[39m \u001b[39minput\u001b[39m(\u001b[39m\"\u001b[39m\u001b[39mEnter the time: \u001b[39m\u001b[39m\"\u001b[39m)\n\u001b[1;32m----> 8\u001b[0m \u001b[39mif\u001b[39;00m getHour(time) \u001b[39m<\u001b[39;49m \u001b[39m12\u001b[39;49m:\n\u001b[0;32m      9\u001b[0m     \u001b[39mprint\u001b[39m(\u001b[39m\"\u001b[39m\u001b[39mIt\u001b[39m\u001b[39m'\u001b[39m\u001b[39ms the morning!\u001b[39m\u001b[39m\"\u001b[39m)\n\u001b[0;32m     10\u001b[0m \u001b[39melse\u001b[39;00m:\n",
      "\u001b[1;31mTypeError\u001b[0m: '<' not supported between instances of 'NoneType' and 'int'"
     ]
    }
   ],
   "source": [
    "# Example E-N1: The classic forgot to return\n",
    "\n",
    "def getHour(time: str) -> int:\n",
    "    \"\"\" Gets the hour from a time given in 24HR, HH:MM format \"\"\"\n",
    "    hour = int(time.split(\":\")[0])\n",
    "\n",
    "time = input(\"Enter the time: \")\n",
    "if getHour(time) < 12:\n",
    "    print(\"It's the morning!\")\n",
    "else:\n",
    "    print(\"It's the afternoon!\")"
   ]
  },
  {
   "cell_type": "code",
   "execution_count": 54,
   "metadata": {},
   "outputs": [
    {
     "ename": "TypeError",
     "evalue": "unsupported operand type(s) for +: 'float' and 'NoneType'",
     "output_type": "error",
     "traceback": [
      "\u001b[1;31m---------------------------------------------------------------------------\u001b[0m",
      "\u001b[1;31mTypeError\u001b[0m                                 Traceback (most recent call last)",
      "Cell \u001b[1;32mIn[54], line 9\u001b[0m\n\u001b[0;32m      6\u001b[0m         tax \u001b[39m=\u001b[39m cost \u001b[39m*\u001b[39m \u001b[39m1.0825\u001b[39m\n\u001b[0;32m      8\u001b[0m iceCreamCost \u001b[39m=\u001b[39m \u001b[39m2.00\u001b[39m\n\u001b[1;32m----> 9\u001b[0m \u001b[39mif\u001b[39;00m iceCreamCost \u001b[39m+\u001b[39;49m getTax(iceCreamCost) \u001b[39m>\u001b[39m \u001b[39m2.05\u001b[39m:\n\u001b[0;32m     10\u001b[0m     \u001b[39mprint\u001b[39m(\u001b[39m\"\u001b[39m\u001b[39mToo expensive!\u001b[39m\u001b[39m\"\u001b[39m)\n\u001b[0;32m     11\u001b[0m \u001b[39melse\u001b[39;00m:\n",
      "\u001b[1;31mTypeError\u001b[0m: unsupported operand type(s) for +: 'float' and 'NoneType'"
     ]
    }
   ],
   "source": [
    "# Example E-N2: Nesting inside a function\n",
    "def getTax(cost: float) -> float:\n",
    "    if cost <= 0:\n",
    "        return 0\n",
    "    else:\n",
    "        tax = cost * 1.0825\n",
    "\n",
    "iceCreamCost = 2.00\n",
    "if iceCreamCost + getTax(iceCreamCost) > 2.05:\n",
    "    print(\"Too expensive!\")\n",
    "else:\n",
    "    print(\"Let's get ice cream!\")"
   ]
  },
  {
   "cell_type": "markdown",
   "metadata": {},
   "source": [
    "<h4> Invalid Data </h4>\n",
    "\n",
    "This tends to be a more advanced error since this is reliant on you using code that returns unexpected results. There's also the occasional slip up of using `None` as a variable's default value and forgetting to update it later. Example E-N3 shows the default value scenario, and E-N4 should should show the unexpected results scenario. It won't be as straight-forward usually, but I want to highlight again that `NoneType` errors typically occur from edge cases you didn't consider or just code that's not working as intended."
   ]
  },
  {
   "cell_type": "code",
   "execution_count": 57,
   "metadata": {},
   "outputs": [
    {
     "ename": "TypeError",
     "evalue": "can only concatenate str (not \"NoneType\") to str",
     "output_type": "error",
     "traceback": [
      "\u001b[1;31m---------------------------------------------------------------------------\u001b[0m",
      "\u001b[1;31mTypeError\u001b[0m                                 Traceback (most recent call last)",
      "Cell \u001b[1;32mIn[57], line 10\u001b[0m\n\u001b[0;32m      5\u001b[0m \u001b[39m\"\"\"\"\u001b[39;00m\n\u001b[0;32m      6\u001b[0m \u001b[39mBunch of code here...\u001b[39;00m\n\u001b[0;32m      7\u001b[0m \u001b[39m\"\"\"\u001b[39;00m\n\u001b[0;32m      9\u001b[0m \u001b[39mif\u001b[39;00m ice_cream_flavor \u001b[39m!=\u001b[39m \u001b[39m\"\u001b[39m\u001b[39mchocolate\u001b[39m\u001b[39m\"\u001b[39m:\n\u001b[1;32m---> 10\u001b[0m     \u001b[39mprint\u001b[39m(\u001b[39m\"\u001b[39;49m\u001b[39mI\u001b[39;49m\u001b[39m'\u001b[39;49m\u001b[39mm a chocolate fan, but I would support \u001b[39;49m\u001b[39m\"\u001b[39;49m \u001b[39m+\u001b[39;49m ice_cream_flavor \u001b[39m+\u001b[39m \u001b[39m\"\u001b[39m\u001b[39m!\u001b[39m\u001b[39m\"\u001b[39m)\n",
      "\u001b[1;31mTypeError\u001b[0m: can only concatenate str (not \"NoneType\") to str"
     ]
    }
   ],
   "source": [
    "# Example E-N3: Default None value\n",
    "\n",
    "ice_cream_flavor = None\n",
    "\n",
    "\"\"\"\"\n",
    "Bunch of code here...\n",
    "\"\"\"\n",
    "\n",
    "if ice_cream_flavor != \"chocolate\":\n",
    "    print(\"I'm a chocolate fan, but I would support \" + ice_cream_flavor + \"!\")"
   ]
  },
  {
   "cell_type": "code",
   "execution_count": 58,
   "metadata": {},
   "outputs": [
    {
     "name": "stdout",
     "output_type": "stream",
     "text": [
      "Aww.\n"
     ]
    },
    {
     "ename": "TypeError",
     "evalue": "can only concatenate str (not \"NoneType\") to str",
     "output_type": "error",
     "traceback": [
      "\u001b[1;31m---------------------------------------------------------------------------\u001b[0m",
      "\u001b[1;31mTypeError\u001b[0m                                 Traceback (most recent call last)",
      "Cell \u001b[1;32mIn[58], line 9\u001b[0m\n\u001b[0;32m      6\u001b[0m         \u001b[39mprint\u001b[39m(\u001b[39m\"\u001b[39m\u001b[39mAww.\u001b[39m\u001b[39m\"\u001b[39m)\n\u001b[0;32m      8\u001b[0m favorite_flavor \u001b[39m=\u001b[39m \u001b[39minput\u001b[39m(\u001b[39m\"\u001b[39m\u001b[39mEnter your favorite flavor: \u001b[39m\u001b[39m\"\u001b[39m)\n\u001b[1;32m----> 9\u001b[0m \u001b[39mprint\u001b[39m(\u001b[39m\"\u001b[39;49m\u001b[39mAnthony replied with: \u001b[39;49m\u001b[39m\"\u001b[39;49m \u001b[39m+\u001b[39;49m is_chocolate(favorite_flavor))\n",
      "\u001b[1;31mTypeError\u001b[0m: can only concatenate str (not \"NoneType\") to str"
     ]
    }
   ],
   "source": [
    "# Example E_N4: Printed instead of returned\n",
    "def is_chocolate(flavor: str) -> str:\n",
    "    if flavor == \"chocolate\":\n",
    "        return \"Yay!\"\n",
    "    else:\n",
    "        print(\"Aww.\")\n",
    "    \n",
    "favorite_flavor = input(\"Enter your favorite flavor: \")\n",
    "print(\"Anthony replied with: \" + is_chocolate(favorite_flavor))"
   ]
  },
  {
   "cell_type": "markdown",
   "metadata": {},
   "source": [
    "These examples are non-realistic and pretty forced, but again, they just serve to demonstrate that techncially correct code can lead to logic errors and undesired results that will cause errors in other places of your code. "
   ]
  },
  {
   "cell_type": "markdown",
   "metadata": {},
   "source": [
    "<h2 style=\"color: orange;\"> Collections (Lists, Dictionaries, etc.) </h2>\n",
    "\n",
    "Structures such as lists and dictionaries and strings (already mentioned) have their fair share of common errors. Most of these errors end up being `IndexError`, but there are some others that occasionally get run into."
   ]
  },
  {
   "cell_type": "markdown",
   "metadata": {},
   "source": [
    "<h4> Index out of range (IndexError) </h4>\n",
    "\n",
    "If you try to access outside the range of the collection, you will get this error. It's as simple as that. Ensure you are aware that Python uses zero-indexing and that your collection is not missing any values. Of course, also ensure you are using the correct index."
   ]
  },
  {
   "cell_type": "code",
   "execution_count": 59,
   "metadata": {},
   "outputs": [
    {
     "ename": "IndexError",
     "evalue": "list index out of range",
     "output_type": "error",
     "traceback": [
      "\u001b[1;31m---------------------------------------------------------------------------\u001b[0m",
      "\u001b[1;31mIndexError\u001b[0m                                Traceback (most recent call last)",
      "Cell \u001b[1;32mIn[59], line 3\u001b[0m\n\u001b[0;32m      1\u001b[0m \u001b[39m# Example E-C1: Index out of range\u001b[39;00m\n\u001b[0;32m      2\u001b[0m names \u001b[39m=\u001b[39m [\u001b[39m\"\u001b[39m\u001b[39mAnthony\u001b[39m\u001b[39m\"\u001b[39m, \u001b[39m\"\u001b[39m\u001b[39mSophie\u001b[39m\u001b[39m\"\u001b[39m]\n\u001b[1;32m----> 3\u001b[0m \u001b[39mprint\u001b[39m(names[\u001b[39m2\u001b[39;49m])\n",
      "\u001b[1;31mIndexError\u001b[0m: list index out of range"
     ]
    }
   ],
   "source": [
    "# Example E-C1: Index out of range\n",
    "names = [\"Anthony\", \"Sophie\"]\n",
    "print(names[2])"
   ]
  },
  {
   "cell_type": "markdown",
   "metadata": {},
   "source": [
    "<h4> The infamous adding a list to a non-list </h4>\n",
    "\n",
    "This happens a lot in ENGR 102. And it's fine because it's usually easy to fix. Usually you're looping through a list, and instead of accessing the value at an index or using the value from the list, you use the actual list itself and do stuff to it. A lot of times, this makes Python unhappy such as with Example E-C2. Though this example is for lists, you will see this a lot with any sort of loopable collection."
   ]
  },
  {
   "cell_type": "code",
   "execution_count": 60,
   "metadata": {},
   "outputs": [
    {
     "ename": "TypeError",
     "evalue": "can only concatenate str (not \"list\") to str",
     "output_type": "error",
     "traceback": [
      "\u001b[1;31m---------------------------------------------------------------------------\u001b[0m",
      "\u001b[1;31mTypeError\u001b[0m                                 Traceback (most recent call last)",
      "Cell \u001b[1;32mIn[60], line 6\u001b[0m\n\u001b[0;32m      3\u001b[0m letters \u001b[39m=\u001b[39m [\u001b[39m\"\u001b[39m\u001b[39mA\u001b[39m\u001b[39m\"\u001b[39m, \u001b[39m\"\u001b[39m\u001b[39mB\u001b[39m\u001b[39m\"\u001b[39m, \u001b[39m\"\u001b[39m\u001b[39mC\u001b[39m\u001b[39m\"\u001b[39m, \u001b[39m\"\u001b[39m\u001b[39mD\u001b[39m\u001b[39m\"\u001b[39m, \u001b[39m\"\u001b[39m\u001b[39mE\u001b[39m\u001b[39m\"\u001b[39m, \u001b[39m\"\u001b[39m\u001b[39mF\u001b[39m\u001b[39m\"\u001b[39m]\n\u001b[0;32m      5\u001b[0m \u001b[39mfor\u001b[39;00m letter \u001b[39min\u001b[39;00m letters:\n\u001b[1;32m----> 6\u001b[0m     \u001b[39mprint\u001b[39m(\u001b[39m\"\u001b[39;49m\u001b[39mThe current letter is: \u001b[39;49m\u001b[39m\"\u001b[39;49m \u001b[39m+\u001b[39;49m letters)\n",
      "\u001b[1;31mTypeError\u001b[0m: can only concatenate str (not \"list\") to str"
     ]
    }
   ],
   "source": [
    "# Example E-C2: Adding a list (this always happens)\n",
    "\n",
    "letters = [\"A\", \"B\", \"C\", \"D\", \"E\", \"F\"]\n",
    "\n",
    "for letter in letters:\n",
    "    print(\"The current letter is: \" + letters)"
   ]
  },
  {
   "cell_type": "markdown",
   "metadata": {},
   "source": [
    "<h4> {insert some type here} is not subscriptable </h4>\n",
    "\n",
    "It means whatever you just tried to access like a list, is indeed not a list (or similar type such as string). This usually gets complicated when you use functions that return something you can loop over but not necessarily are able to subscript. Ensure that you cast the object to `list` (if legal) before trying to subscript it."
   ]
  },
  {
   "cell_type": "code",
   "execution_count": 64,
   "metadata": {},
   "outputs": [
    {
     "ename": "TypeError",
     "evalue": "'generator' object is not subscriptable",
     "output_type": "error",
     "traceback": [
      "\u001b[1;31m---------------------------------------------------------------------------\u001b[0m",
      "\u001b[1;31mTypeError\u001b[0m                                 Traceback (most recent call last)",
      "Cell \u001b[1;32mIn[64], line 7\u001b[0m\n\u001b[0;32m      4\u001b[0m         \u001b[39myield\u001b[39;00m i \u001b[39m*\u001b[39m\u001b[39m*\u001b[39m \u001b[39m2\u001b[39m\n\u001b[0;32m      6\u001b[0m squares \u001b[39m=\u001b[39m get_squares(\u001b[39m5\u001b[39m)\n\u001b[1;32m----> 7\u001b[0m \u001b[39mprint\u001b[39m(squares[\u001b[39m1\u001b[39;49m])\n",
      "\u001b[1;31mTypeError\u001b[0m: 'generator' object is not subscriptable"
     ]
    }
   ],
   "source": [
    "# Example E-C3: A list but not actually a list\n",
    "def get_squares(n: int):\n",
    "    for i in range(n+1):\n",
    "        yield i ** 2\n",
    "\n",
    "squares = get_squares(5)\n",
    "print(squares[1])"
   ]
  },
  {
   "cell_type": "markdown",
   "metadata": {},
   "source": [
    "<h4> List Indices must be integers or slices (TypeError) </h4>\n",
    "\n",
    "This is a self-explanatory error: you're using something under numeric indices or list slicing to access a list. Sometimes, you may be confusing data structures (such as with Example E-C4) or you mistyped the variable name (meant to use `scores` instead of `names` for example if still using E-C4). This is also a popular error that happens, so make sure you're accessing the list correctly and you're actually wanting to access a list in the first place."
   ]
  },
  {
   "cell_type": "code",
   "execution_count": 67,
   "metadata": {},
   "outputs": [
    {
     "ename": "TypeError",
     "evalue": "list indices must be integers or slices, not str",
     "output_type": "error",
     "traceback": [
      "\u001b[1;31m---------------------------------------------------------------------------\u001b[0m",
      "\u001b[1;31mTypeError\u001b[0m                                 Traceback (most recent call last)",
      "Cell \u001b[1;32mIn[67], line 6\u001b[0m\n\u001b[0;32m      3\u001b[0m scores \u001b[39m=\u001b[39m {\u001b[39m\"\u001b[39m\u001b[39mAnthony\u001b[39m\u001b[39m\"\u001b[39m: \u001b[39m1\u001b[39m}\n\u001b[0;32m      4\u001b[0m names \u001b[39m=\u001b[39m [\u001b[39m\"\u001b[39m\u001b[39mAnthony\u001b[39m\u001b[39m\"\u001b[39m]\n\u001b[1;32m----> 6\u001b[0m \u001b[39mprint\u001b[39m(names[\u001b[39m\"\u001b[39;49m\u001b[39mAnthony\u001b[39;49m\u001b[39m\"\u001b[39;49m])\n",
      "\u001b[1;31mTypeError\u001b[0m: list indices must be integers or slices, not str"
     ]
    }
   ],
   "source": [
    "# Example E-C4: Wrong list slice\n",
    "\n",
    "scores = {\"Anthony\": 1}\n",
    "names = [\"Anthony\"]\n",
    "\n",
    "print(names[\"Anthony\"])"
   ]
  },
  {
   "cell_type": "markdown",
   "metadata": {},
   "source": [
    "<h4> KeyError </h4>\n",
    "\n",
    "Something is wrong with your key. In this case, it simply doesn't exist in the dictionary. Remember that you add a key-value pair into a dictionary using assignment (`dict[key] = value`) even though the key doesn't exist since Python is smart enough to add it in there for you. However, if you're purely accessing a value at a key that doesn't exist, you will get an error. Ensure that your dictionary has the key you want to access."
   ]
  },
  {
   "cell_type": "code",
   "execution_count": 68,
   "metadata": {},
   "outputs": [
    {
     "ename": "KeyError",
     "evalue": "'TAO'",
     "output_type": "error",
     "traceback": [
      "\u001b[1;31m---------------------------------------------------------------------------\u001b[0m",
      "\u001b[1;31mKeyError\u001b[0m                                  Traceback (most recent call last)",
      "Cell \u001b[1;32mIn[68], line 4\u001b[0m\n\u001b[0;32m      1\u001b[0m \u001b[39m# Example E-C5: Missing dictionary key\u001b[39;00m\n\u001b[0;32m      2\u001b[0m scores \u001b[39m=\u001b[39m {\u001b[39m\"\u001b[39m\u001b[39mAnthony\u001b[39m\u001b[39m\"\u001b[39m: \u001b[39m1\u001b[39m}\n\u001b[1;32m----> 4\u001b[0m \u001b[39mprint\u001b[39m(scores[\u001b[39m\"\u001b[39;49m\u001b[39mTAO\u001b[39;49m\u001b[39m\"\u001b[39;49m])\n",
      "\u001b[1;31mKeyError\u001b[0m: 'TAO'"
     ]
    }
   ],
   "source": [
    "# Example E-C5: Missing dictionary key\n",
    "scores = {\"Anthony\": 1}\n",
    "\n",
    "print(scores[\"TAO\"])"
   ]
  },
  {
   "cell_type": "markdown",
   "metadata": {},
   "source": [
    "<h4> 'tuple' object doesn't support item assignment (TypeError) </h4>\n",
    "\n",
    "You can't cannot change the structure or the size of a tuple. Note how I didn't say you can't change the values of a tuple. This is because, you can change mutable items within the tuple. This distinction is shown in Example E-C7: I can access the inner list and change the values within it (without changing the size), but I cannot do anything that affects the tuple structure wise or size wise.\n",
    "\n",
    "The output shows that the inner list was indeed modified but attempting to change the structure (swapping out the string for another one) is unacceptable. Imagine a tuple as a max-security, max-capacity prison: you can't exchange prisoners, take prisoners out, or even put prisoners in. However, you're free to edit each prisoner individually: maybe give them different clothes, a new haircut, whatever. Structurally, the prison is the same and the size of the prison is the same as well, so you have not violated any rules."
   ]
  },
  {
   "cell_type": "code",
   "execution_count": 69,
   "metadata": {},
   "outputs": [
    {
     "ename": "TypeError",
     "evalue": "'tuple' object does not support item assignment",
     "output_type": "error",
     "traceback": [
      "\u001b[1;31m---------------------------------------------------------------------------\u001b[0m",
      "\u001b[1;31mTypeError\u001b[0m                                 Traceback (most recent call last)",
      "Cell \u001b[1;32mIn[69], line 4\u001b[0m\n\u001b[0;32m      1\u001b[0m \u001b[39m# Example E-C6: Trying to change a tuple\u001b[39;00m\n\u001b[0;32m      2\u001b[0m data \u001b[39m=\u001b[39m (\u001b[39m1\u001b[39m, \u001b[39m2\u001b[39m, \u001b[39m3\u001b[39m)\n\u001b[1;32m----> 4\u001b[0m data[\u001b[39m1\u001b[39;49m] \u001b[39m=\u001b[39m \u001b[39m4\u001b[39m\n",
      "\u001b[1;31mTypeError\u001b[0m: 'tuple' object does not support item assignment"
     ]
    }
   ],
   "source": [
    "# Example E-C6: Trying to change a tuple\n",
    "data = (1, 2, 3)\n",
    "\n",
    "data[1] = 4"
   ]
  },
  {
   "cell_type": "code",
   "execution_count": 70,
   "metadata": {},
   "outputs": [
    {
     "name": "stdout",
     "output_type": "stream",
     "text": [
      "([0, 2], '1')\n"
     ]
    },
    {
     "ename": "TypeError",
     "evalue": "'tuple' object does not support item assignment",
     "output_type": "error",
     "traceback": [
      "\u001b[1;31m---------------------------------------------------------------------------\u001b[0m",
      "\u001b[1;31mTypeError\u001b[0m                                 Traceback (most recent call last)",
      "Cell \u001b[1;32mIn[70], line 7\u001b[0m\n\u001b[0;32m      5\u001b[0m data[\u001b[39m0\u001b[39m][\u001b[39m0\u001b[39m] \u001b[39m=\u001b[39m \u001b[39m0\u001b[39m\n\u001b[0;32m      6\u001b[0m \u001b[39mprint\u001b[39m(data)\n\u001b[1;32m----> 7\u001b[0m data[\u001b[39m1\u001b[39;49m] \u001b[39m=\u001b[39m \u001b[39m\"\u001b[39m\u001b[39m2\u001b[39m\u001b[39m\"\u001b[39m\n\u001b[0;32m      8\u001b[0m \u001b[39mprint\u001b[39m(data)\n",
      "\u001b[1;31mTypeError\u001b[0m: 'tuple' object does not support item assignment"
     ]
    }
   ],
   "source": [
    "# Example E-C7: Changing mutable item\n",
    "\n",
    "data = ([1, 2], \"1\")\n",
    "\n",
    "data[0][0] = 0\n",
    "print(data)\n",
    "data[1] = \"2\"\n",
    "print(data)"
   ]
  }
 ],
 "metadata": {
  "kernelspec": {
   "display_name": "Python 3",
   "language": "python",
   "name": "python3"
  },
  "language_info": {
   "codemirror_mode": {
    "name": "ipython",
    "version": 3
   },
   "file_extension": ".py",
   "mimetype": "text/x-python",
   "name": "python",
   "nbconvert_exporter": "python",
   "pygments_lexer": "ipython3",
   "version": "3.10.6"
  },
  "orig_nbformat": 4
 },
 "nbformat": 4,
 "nbformat_minor": 2
}
