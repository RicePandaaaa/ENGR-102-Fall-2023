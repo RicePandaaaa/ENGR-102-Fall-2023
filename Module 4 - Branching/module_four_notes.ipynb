{
 "cells": [
  {
   "cell_type": "markdown",
   "metadata": {},
   "source": [
    "<h2 style=\"color: orange;\"> Boolean Expressions and Conditionals </h2>\n",
    "\n",
    "What if you only wanted code to execute if a certain condition is met (or in some cases, not met)? Well you can with the very neatly-named conditionals. Everytime you say something along the lines of \"if {this is true} then do {this}\", that is when you would use a conditional. \n",
    "\n",
    "A very basic example is if you were deciding where to eat for lunch. This was my thought process yesterday as psuedocode:\n",
    "\n",
    "```python\n",
    "if hungry\n",
    "    if craving tacos and have money\n",
    "        go to velvet taco\n",
    "    else, if craving sandwiches\n",
    "        go to potbelly\n",
    "    else\n",
    "        cook at home\n",
    "else\n",
    "    force myself to eat lunch at closest restaurant\n",
    "```\n",
    "\n",
    "So you can see that I have a lot of thought processes: I have to decide if I'm hungry or not and based on that decision, I have some more decisions to make to decide what to actually do. Python has keywords to represent each scenario keyword:\n",
    "- `if`: For the `if` statements... literally\n",
    "- `elif`: For other choices that you decide if the original `if` is not what you want (the `else, if`)\n",
    "- `else`: For the choice you default to if you decide against all the other conditions\n",
    "\n",
    "I'll write the code for above as Example 4-1, and you can play around with the boolean variables to see how they influence the results."
   ]
  },
  {
   "cell_type": "code",
   "execution_count": 1,
   "metadata": {},
   "outputs": [
    {
     "name": "stdout",
     "output_type": "stream",
     "text": [
      "We getting Potbelly!\n"
     ]
    }
   ],
   "source": [
    "# Example 4-1: Anthony's Weird Lunch Decision Tree\n",
    "hungry = True\n",
    "craving_tacos = True\n",
    "craving_sandwiches = True\n",
    "have_money = False\n",
    "\n",
    "if hungry:\n",
    "    if craving_tacos and have_money:\n",
    "        print(\"We getting Velvet Taco!\")\n",
    "    elif craving_sandwiches:\n",
    "        print(\"We getting Potbelly!\")\n",
    "    else:\n",
    "        print(\"We got food at home, :copium:\")\n",
    "else:\n",
    "    print(\"Go eat for once bruh\")"
   ]
  },
  {
   "cell_type": "markdown",
   "metadata": {},
   "source": [
    "<h3 style=\"color: orange;\"> Boolean Expressions </h3>\n",
    "\n",
    "These are any expressions that evaluate to `True` or `False`, hence the name, \"boolean\" expressions. With math, you can perform basic mathematical operations to get numeric outputs (rarely strings). With booleans, they have their own set of operations you can use to create boolean expressions.\n",
    "\n",
    "Before I dive into these operations (and their associated operators), I want to do a quick English example. Let's say I went shopping and I only want to buy a sandwich if it meets these conditions:\n",
    "- Less than 5 USD in cost\n",
    "- Hasn't expired yet\n",
    "- Is actually a sandwich or at least has bread as a major component\n",
    "\n",
    "As one sentence, I would say that I only get a sandwich if and only if it is less than 5 USD in cost, and it hasn't expired yet, and either it is a sandwich or has bread as a major component. As psuedocode, this would be:\n",
    "```python\n",
    "if (cost less than 5 USD) and (has not expired) and (is sandwich or has bread)\n",
    "```\n",
    "\n",
    "Note that however I write this, there are only two possibilities, either the entire condition is `True` or the entire condition is `False`. In English, it is pretty obvious how I can calculate the final result of the above expression: just substitute in `True` or `False` for the conditions and simplify. For example, if I bought a 3 USD bread soup that hasn't expired, I would get:\n",
    "```python\n",
    "if True and True and (False or True)\n",
    "if (True and True) and (False or True)\n",
    "if (True) and (True) => True\n",
    "```\n",
    "\n",
    "You can determine for yourself given the information that I would indeed buy the bread soup since it fits all my criteria. Now, this is a very basic example: you can create (and later simplify) complex expressions. These expressions may not be necessarily complex in terms of difficulty but rather in length. \n",
    "\n",
    "<h3 style=\"color: orange;\"> Relational and Boolean Operators </h3>\n",
    "\n",
    "You have two types of operators: relational and boolean. Despite their different names, they both are used to form conditionals and boolean expressions. In other words, they will output a boolean after evaluation. These operators are as follows:\n",
    "\n",
    "Relational:\n",
    "- < (less than)\n",
    "- <= (less than or equal to)\n",
    "- == (equal to)\n",
    "- \\> (greater than)\n",
    "- \\>= (greater than or equal to)\n",
    "\n",
    "Boolean:\n",
    "- `not` (negation)\n",
    "- `and`\n",
    "- `or`\n",
    "\n",
    "All these operators are more or less self-explanatory. For the relational operators, if the expression is true, then `True` is the result, otherwise, the result is `False`. For the boolean operators:\n",
    "- `not` is attached to the start of an expression and reverses the output\n",
    "- `and` returns `True` if and only if both values to the left and right of it evaluate to `True`, else it returns `False`\n",
    "- `or` returns `True` if and only if at least one value out of the two (the one to its left and the one to its right) is `True`\n",
    "\n",
    "The truth tables are shown below:\n",
    "\n",
    "```java\n",
    "| a | b | not a | a or b | a and b |\n",
    "+---+---+-------+--------+---------+\n",
    "| T | T |   F   |   T    |    T    |\n",
    "| T | F |   F   |   T    |    F    |\n",
    "| F | T |   T   |   T    |    F    |\n",
    "| F | F |   T   |   F    |    F    |\n",
    "```\n",
    "\n",
    "The tricky thing with the relational operators is that different types have different behaviors. Comparing two numbers works exactly the same as real life (for example, `9 < 10` is `True`). However, what happens if we compare two strings using a relational operator?"
   ]
  },
  {
   "cell_type": "code",
   "execution_count": 9,
   "metadata": {},
   "outputs": [
    {
     "name": "stdout",
     "output_type": "stream",
     "text": [
      "True\n",
      "True\n"
     ]
    }
   ],
   "source": [
    "# Example 4-2: String comparison\n",
    "print(\"2\" > \"10\")\n",
    "print(\"12\" < \"3\")"
   ]
  },
  {
   "cell_type": "markdown",
   "metadata": {},
   "source": [
    "As seen with Example 4-2, they both evaluate to `True`! Numerically, this is false, however, we are not comparing numeric values but rather text values. I will not discuss how Python orders strings, but this is a common source of error for students: they forget to cast their `input()` to `int` or `float` before comparing the value to some other number.\n",
    "\n",
    "If you want to chain multiple conditions, you can use a boolean operator. For example, if you wanted to ensure a variable is between two numbers, you would do:\n",
    "```python\n",
    "x < num_max and x > num_min\n",
    "```\n",
    "\n",
    "for example. There is one detail that does separate Python from other languages though: you can directly chain the relational operators. In other words, I can actually rewrite the above as:\n",
    "```python\n",
    "num_min < x < num_max\n",
    "```\n",
    "\n",
    "and the two expressions would be the same. This exists for boolean operators too, mainly for `and` and `or`:\n",
    "```python\n",
    "a and b and c or d and e\n",
    "```\n",
    "\n",
    "Now that does get confusing so typically parentheses are used to help determine what actually is the left side of an operator and what actually is the right side of that same operator. Also note that these operators are processed in a certain order:\n",
    "```\n",
    "Parentheses -> Mathematical operators -> Relational operators -> Boolean operators (not -> and -> or)\n",
    "```\n",
    "\n",
    "For example:\n",
    "```python\n",
    "1. not ((1 + 2) > 3) and (3 < 5 or 1 + 3 * 9 > 3) or 3 > 10\n",
    "2. not (3 > 3) and (3 < 5 or 28 > 3) or 3 > 10\n",
    "3. not (False) and (True or True) or 3 > 10\n",
    "4. not (False) and True or 3 > 10\n",
    "5. not False and True or False\n",
    "6. True and True or False\n",
    "7. True or False\n",
    "8. True\n",
    "```\n",
    "\n",
    "The color coding is kinda jank, but hopefully it helps with reading the text. As seen with Example 4-3, my result is correct. My steps are as follows:\n",
    "1. Initial expression\n",
    "2. Evaluate math in parentheses\n",
    "3. Evaluate the relational operations in parentheses\n",
    "4. Evaluate the boolean operation (`or`) in parentheses\n",
    "5. Evaluate the remaining relation operation (not in parentheses)\n",
    "6. Evaluate the `not`\n",
    "7. Evaluate the `and`\n",
    "8. Evaluate the `or`\n",
    "\n",
    "As with math, anything in parentheses takes precedence. It's normal PEDMAS except you add relational operators and then boolean operators at the end."
   ]
  },
  {
   "cell_type": "code",
   "execution_count": 11,
   "metadata": {},
   "outputs": [
    {
     "name": "stdout",
     "output_type": "stream",
     "text": [
      "True\n"
     ]
    }
   ],
   "source": [
    "# Example 4-3: Verifying my result\n",
    "print(not ((1 + 2) > 3) and (3 < 5 or 1 + 3 * 9 > 3) or 3 > 10)"
   ]
  },
  {
   "cell_type": "markdown",
   "metadata": {},
   "source": [
    "<h3 style=\"color: orange;\"> If/Elif/Else </h3>\n",
    "\n",
    "To let Python know to make decisions, we have to use specific statements:\n",
    "- `if`: the initial condition\n",
    "- `elif`: other conditions to check if the initial condition is `False`\n",
    "- `else`: executed when all the above conditions are incorrect\n",
    "\n",
    "You do not need `elif` or `else` in all cases, but you must always have `if` since `elif` and `else` have a dependency on `if`. The structures for the three can be represented with Example 4-4."
   ]
  },
  {
   "cell_type": "code",
   "execution_count": 13,
   "metadata": {},
   "outputs": [
    {
     "name": "stdout",
     "output_type": "stream",
     "text": [
      "Hi!\n",
      "Hello!\n",
      "Howdy!\n",
      "bye\n",
      "Howdy!\n"
     ]
    }
   ],
   "source": [
    "# Example 4-4: If-elif-else, all combinations\n",
    "\n",
    "a, b, c = True, True, True\n",
    "# just if\n",
    "if a:\n",
    "    print(\"Hi!\")\n",
    "\n",
    "# if + elif\n",
    "if not a:\n",
    "    print(\"Hi\")\n",
    "elif b:\n",
    "    print(\"Hello!\")\n",
    "\n",
    "# if + mutliple elif\n",
    "if not a:\n",
    "    print(\"Hi\")\n",
    "elif not b:\n",
    "    print(\"Hello!\")\n",
    "elif c:\n",
    "    print(\"Howdy!\")\n",
    "\n",
    "# if + elif + else\n",
    "if not a:\n",
    "    print(\"Hi\")\n",
    "elif not b:\n",
    "    print(\"Hello!\")\n",
    "else:\n",
    "    print(\"bye\")\n",
    "\n",
    "# if + multiple elif + else\n",
    "if not a:\n",
    "    print(\"Hi\")\n",
    "elif not b:\n",
    "    print(\"Hello!\")\n",
    "elif c:\n",
    "    print(\"Howdy!\")\n",
    "else:\n",
    "    print(\"bye\")"
   ]
  },
  {
   "cell_type": "markdown",
   "metadata": {},
   "source": [
    "Note that every `if` statement starts a decision that Python has to make: if you want Python to make alternate decisons based on other conditions in case the `if` statement, use `elif`, and if you want Python to make a decision if all the alternates and main conditions fail, use `else`.\n",
    "\n",
    "Furthermore, note that the `print` statements are all indented. In order for Python to know what belongs in the `if`/`elif`/`else` block, the code must be one indentation level higher than the `if`/`elif`/`else`. Once you go back to a regular indentation level, that's how Python knows that's the end of the code block."
   ]
  },
  {
   "cell_type": "code",
   "execution_count": 17,
   "metadata": {},
   "outputs": [
    {
     "name": "stdout",
     "output_type": "stream",
     "text": [
      "Yo!\n",
      "Hello!\n"
     ]
    }
   ],
   "source": [
    "# Example 4-5: If blocks\n",
    "a, b, c = True, True, True\n",
    "\n",
    "if not a:\n",
    "    print(\"Hi\")\n",
    "else:\n",
    "    print(\"Yo!\")\n",
    "if not b:\n",
    "    print(\"Howdy!\")\n",
    "elif c:\n",
    "    print(\"Hello!\")\n",
    "else:\n",
    "    print(\"Meow!\")"
   ]
  },
  {
   "cell_type": "markdown",
   "metadata": {},
   "source": [
    "As demonstrated by Example 4-5, the `elif` and `else` belong to the nearest `if` statement above it. The first `else` belongs to and depends on the first `if` and the first `elif` and second `else` belongs to and depend on the first `if`."
   ]
  },
  {
   "cell_type": "markdown",
   "metadata": {},
   "source": [
    "<h3 style=\"color: orange;\"> \"pass\" keyword </h3>\n",
    "\n",
    "The `pass` keyword is a placeholder: it tells Python to go pass by it and go to the next line of code. This is really handy if you just want to make the `if`/`elif`/`else` structure without having to worry about Python yelling at you for indentation error or not having any executable code in your conditionals. Example 4-6 highlights `pass` in action."
   ]
  },
  {
   "cell_type": "code",
   "execution_count": 15,
   "metadata": {},
   "outputs": [],
   "source": [
    "# Example 4-6: pass keyword\n",
    "\n",
    "if 4 > 3:\n",
    "    pass"
   ]
  },
  {
   "cell_type": "markdown",
   "metadata": {},
   "source": [
    "As you can see, nothing is outputted or done although the conditional's expression evaluates to `True`."
   ]
  }
 ],
 "metadata": {
  "kernelspec": {
   "display_name": "Python 3",
   "language": "python",
   "name": "python3"
  },
  "language_info": {
   "codemirror_mode": {
    "name": "ipython",
    "version": 3
   },
   "file_extension": ".py",
   "mimetype": "text/x-python",
   "name": "python",
   "nbconvert_exporter": "python",
   "pygments_lexer": "ipython3",
   "version": "3.10.6"
  },
  "orig_nbformat": 4
 },
 "nbformat": 4,
 "nbformat_minor": 2
}
