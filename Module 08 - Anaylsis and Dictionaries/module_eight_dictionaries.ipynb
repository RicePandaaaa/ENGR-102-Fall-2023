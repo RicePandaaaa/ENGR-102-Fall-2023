{
 "cells": [
  {
   "cell_type": "markdown",
   "metadata": {},
   "source": [
    "<h2 style=\"color: #EC4000;\"> Dictionaries </h2>\n",
    "\n",
    "Dictionaries are pretty much just like a dictionary in real life: they relate a value to another value. Formally, we say that there are *key-value pairs*: in other words, each *key* has an associated *value*. Each key must be unique and hashable (I'll talk more about this later), but there aren't really any restrictions on values. The use case for dictionaries is pretty much whenever you have a set of values that are associated with a unique set of keys."
   ]
  },
  {
   "cell_type": "markdown",
   "metadata": {},
   "source": [
    "<h5 style=\"color: #EC4000;\">  </h5>\n",
    "\n",
    "Making a dictionary is quite simple:"
   ]
  },
  {
   "cell_type": "markdown",
   "metadata": {},
   "source": [
    "<h5 style=\"color: #EC4000;\"> Valid Keys </h5>\n",
    "\n",
    "Technically speaking, keys can only be of a hashable data type. But what does it mean to be hashable? It means to have an hash value (id) that never changes no matter what. For simplicity's sake, you can just assume that you can only use immutable data types such as `int` and `str`. Lists and other dictionaries are not valid to be used as keys as they are mutable. If you are curious about the hash values, Example 8d-1 gives an example:"
   ]
  },
  {
   "cell_type": "code",
   "execution_count": 12,
   "metadata": {},
   "outputs": [
    {
     "name": "stdout",
     "output_type": "stream",
     "text": [
      "2423909195456\n",
      "2423907655216\n"
     ]
    }
   ],
   "source": [
    "# Example 8d-1: Hash values\n",
    "\n",
    "mutable = [1, 2, 3]\n",
    "print(id(mutable))\n",
    "\n",
    "name = \"Hi\"\n",
    "print(id(name))"
   ]
  },
  {
   "cell_type": "markdown",
   "metadata": {},
   "source": [
    "`id()` is the built-in function to get a value's hash value. If you run this mutliple times without restarting the kernel, you will see that the list's id changes each time but the name's id never changes."
   ]
  },
  {
   "cell_type": "markdown",
   "metadata": {},
   "source": [
    "<h5 style=\"color: #EC4000;\"> Making Dictionaries </h5>\n",
    "\n",
    "Making a dictionary is quite simple:"
   ]
  },
  {
   "cell_type": "code",
   "execution_count": null,
   "metadata": {},
   "outputs": [],
   "source": [
    "# Example 8d-2: Defining an empty dictionary\n",
    "\n",
    "names = {}"
   ]
  },
  {
   "cell_type": "markdown",
   "metadata": {},
   "source": [
    "Note that curly braces are used to make dictionaries. Do not use square braces, otherwise you would have made a list instead. If you wanted to instantiate a dictionary with some preset key-value pairs within it, you would insert pairs with the key and value separated by a colon and each pair separated by a comma:"
   ]
  },
  {
   "cell_type": "code",
   "execution_count": null,
   "metadata": {},
   "outputs": [],
   "source": [
    "# Example 8d-3: Instantiating a dictionary with preset pairs\n",
    "\n",
    "names = {\"Anthony\": \"Pham\", \"Kaladin\": \"Stormblessed\"}"
   ]
  },
  {
   "cell_type": "markdown",
   "metadata": {},
   "source": [
    "<h5 style=\"color: #EC4000;\"> Accessing Values </h5>\n",
    "\n",
    "To access a value in a dictionary, the key must be known. The general syntax is `dict_name[key]`. This is shown in action in Example 8d-4:"
   ]
  },
  {
   "cell_type": "code",
   "execution_count": 26,
   "metadata": {},
   "outputs": [
    {
     "name": "stdout",
     "output_type": "stream",
     "text": [
      "Pham\n",
      "Stormblessed\n"
     ]
    }
   ],
   "source": [
    "# Example 8d-4: Accessing a value in a key\n",
    "\n",
    "names = {\"Anthony\": \"Pham\", \"Kaladin\": \"Stormblessed\"}\n",
    "\n",
    "print(names[\"Anthony\"])\n",
    "print(names[\"Kaladin\"])"
   ]
  },
  {
   "cell_type": "markdown",
   "metadata": {},
   "source": [
    "You must know the key beforehand in order to access the value. If you use an invalid key, you will get an `KeyError`. This is shown in Example 8d-5:"
   ]
  },
  {
   "cell_type": "code",
   "execution_count": 27,
   "metadata": {},
   "outputs": [
    {
     "ename": "KeyError",
     "evalue": "'Adolin'",
     "output_type": "error",
     "traceback": [
      "\u001b[1;31m---------------------------------------------------------------------------\u001b[0m",
      "\u001b[1;31mKeyError\u001b[0m                                  Traceback (most recent call last)",
      "Cell \u001b[1;32mIn[27], line 5\u001b[0m\n\u001b[0;32m      1\u001b[0m \u001b[38;5;66;03m# Example 5: KeyError\u001b[39;00m\n\u001b[0;32m      3\u001b[0m names \u001b[38;5;241m=\u001b[39m {\u001b[38;5;124m\"\u001b[39m\u001b[38;5;124mAlana\u001b[39m\u001b[38;5;124m\"\u001b[39m: \u001b[38;5;124m\"\u001b[39m\u001b[38;5;124mShallan\u001b[39m\u001b[38;5;124m\"\u001b[39m}\n\u001b[1;32m----> 5\u001b[0m \u001b[38;5;28mprint\u001b[39m(\u001b[43mnames\u001b[49m\u001b[43m[\u001b[49m\u001b[38;5;124;43m\"\u001b[39;49m\u001b[38;5;124;43mAdolin\u001b[39;49m\u001b[38;5;124;43m\"\u001b[39;49m\u001b[43m]\u001b[49m)\n",
      "\u001b[1;31mKeyError\u001b[0m: 'Adolin'"
     ]
    }
   ],
   "source": [
    "# Example 8d-5: KeyError\n",
    "\n",
    "names = {\"Alana\": \"Shallan\"}\n",
    "\n",
    "print(names[\"Adolin\"])"
   ]
  },
  {
   "cell_type": "markdown",
   "metadata": {},
   "source": [
    "If you just want all the values, then you can use `.values()` to obtain a `dict_values` of all the values. `dict_values` looks like a list, but it's not actually a list! If you're just looking to loop over all the keys, then you don't need to do anything else since `dict_values` can be iterated over. However, if you need an actual list of values then you can just cast to `list()`."
   ]
  },
  {
   "cell_type": "code",
   "execution_count": 32,
   "metadata": {},
   "outputs": [
    {
     "name": "stdout",
     "output_type": "stream",
     "text": [
      "dict_values(['Shallan', 'Navani'])\n",
      "<class 'dict_values'>\n",
      "Shallan Navani \n",
      "dict_values(['Shallan', 'Navani'])\n",
      "<class 'list'>\n"
     ]
    }
   ],
   "source": [
    "# Example 8d-6: values() and iterable vs. list\n",
    "\n",
    "couples = {\"Adolin\": \"Shallan\", \"Dalinar\": \"Navani\"}\n",
    "\n",
    "values = couples.values()\n",
    "\n",
    "print(values)\n",
    "print(type(values))\n",
    "\n",
    "for value in values:\n",
    "    print(value, end=\" \")\n",
    "\n",
    "\n",
    "print()\n",
    "list_values = list(values)\n",
    "print(values)\n",
    "print(type(list_values))"
   ]
  },
  {
   "cell_type": "markdown",
   "metadata": {},
   "source": [
    "<h5 style=\"color: #EC4000;\"> Accessing Keys </h5>\n",
    "\n",
    "Accessing keys requires you to use `.keys()` (if you want all the keys immediately) or to loop over the dictionary (if you want to go through each key one by one). This is shown in Example 8d-7:"
   ]
  },
  {
   "cell_type": "code",
   "execution_count": 36,
   "metadata": {},
   "outputs": [
    {
     "name": "stdout",
     "output_type": "stream",
     "text": [
      "dict_keys(['Adolin', 'Dalinar'])\n",
      "<class 'dict_keys'>\n",
      "Adolin Shallan\n",
      "Dalinar Navani\n"
     ]
    }
   ],
   "source": [
    "# Example 8d-7: Using keys() and a for loop\n",
    "\n",
    "couples = {\"Adolin\": \"Shallan\", \"Dalinar\": \"Navani\"}\n",
    "\n",
    "keys = couples.keys()\n",
    "\n",
    "print(keys)\n",
    "print(type(keys))\n",
    "\n",
    "for key in couples:\n",
    "    print(key, couples[key])"
   ]
  },
  {
   "cell_type": "markdown",
   "metadata": {},
   "source": [
    "Note something important here: when you loop over a dictionary, it assumes you want the keys! This means you can simply loop over a dictionary to access each key-value pair one-by-one. "
   ]
  },
  {
   "cell_type": "markdown",
   "metadata": {},
   "source": [
    "<h5 style=\"color: #EC4000;\"> Adding to a dictionary </h5>\n",
    "\n",
    "If you want to add to a dictionary, simply assign a value to a key that doesn't exist:"
   ]
  },
  {
   "cell_type": "code",
   "execution_count": 37,
   "metadata": {},
   "outputs": [
    {
     "name": "stdout",
     "output_type": "stream",
     "text": [
      "Before addition:  {'fries': 'honey bbq', 'salad': 'ranch'}\n",
      "After addition:  {'fries': 'honey bbq', 'salad': 'ranch', 'milk': 'hot sauce'}\n"
     ]
    }
   ],
   "source": [
    "# Example 8d-8: Adding to a dictonary\n",
    "\n",
    "sauce_pairings = {\"fries\": \"honey bbq\", \"salad\": \"ranch\"}\n",
    "print(\"Before addition: \", sauce_pairings)\n",
    "\n",
    "sauce_pairings[\"milk\"] = \"hot sauce\"\n",
    "print(\"After addition: \", sauce_pairings)"
   ]
  },
  {
   "cell_type": "markdown",
   "metadata": {},
   "source": [
    "I would like to clarify that I do not add hot sauce to my milk. I mostly abide by the food edition of the Geneva Conventions."
   ]
  },
  {
   "cell_type": "markdown",
   "metadata": {},
   "source": [
    "<h5 style=\"color: #EC4000;\"> Editing a key-value pair </h5>\n",
    "\n",
    "Editing a value assigned to a pre-exisitng key actually has the same format as adding to a dictionary, except the key already exists:"
   ]
  },
  {
   "cell_type": "code",
   "execution_count": 38,
   "metadata": {},
   "outputs": [
    {
     "name": "stdout",
     "output_type": "stream",
     "text": [
      "Before edition:  {'fries': 'honey bbq', 'salad': 'ranch'}\n",
      "After edition:  {'fries': 'hot sauce', 'salad': 'ranch'}\n"
     ]
    }
   ],
   "source": [
    "# Example 8d-9: Editing a key-value pair\n",
    "\n",
    "sauce_pairings = {\"fries\": \"honey bbq\", \"salad\": \"ranch\"}\n",
    "print(\"Before edition: \", sauce_pairings)\n",
    "\n",
    "sauce_pairings[\"fries\"] = \"hot sauce\"\n",
    "print(\"After edition: \", sauce_pairings)"
   ]
  },
  {
   "cell_type": "markdown",
   "metadata": {},
   "source": [
    "Note that you cannot directly edit a key. If you would like to assign a value to a new key, you would have to add a new pair (consisting of the desired value and the new key) and then remove the old key-value pair. Removing is shown in the next section."
   ]
  },
  {
   "cell_type": "markdown",
   "metadata": {},
   "source": [
    "<h5 style=\"color: #EC4000;\"> Removing a key-value pair </h5>\n",
    "\n",
    "There are two main ways to remove a key-value pair:\n",
    "- `.pop()` - useful for when the removed value needs to be saved\n",
    "- `del` - useful for when you don't care about the removed value\n",
    "\n",
    "Both will do the same task, but the main difference is that `.pop()` will return the removed *value*. Note that `.pop()` is a function used on the dictionary while `del` is just a keyword. Example 8d-10 will demonstrate how to use `.pop()` and Example 8d-11 will demonstrate how to use `del`.\n",
    "\n"
   ]
  },
  {
   "cell_type": "code",
   "execution_count": 39,
   "metadata": {},
   "outputs": [
    {
     "name": "stdout",
     "output_type": "stream",
     "text": [
      "Before deletion:  {'anthony': 'stuff', 'alana': 'reading'}\n",
      "After deletion:  {'anthony': 'stuff'}\n",
      "Removed value:  reading\n"
     ]
    }
   ],
   "source": [
    "# Example 8d-10: Using pop()\n",
    "\n",
    "hobbies = {\"anthony\": \"stuff\", \"alana\": \"reading\"}\n",
    "print(\"Before deletion: \", hobbies)\n",
    "\n",
    "removed_value = hobbies.pop(\"alana\")\n",
    "print(\"After deletion: \", hobbies)\n",
    "print(\"Removed value: \", removed_value)"
   ]
  },
  {
   "cell_type": "code",
   "execution_count": 40,
   "metadata": {},
   "outputs": [
    {
     "name": "stdout",
     "output_type": "stream",
     "text": [
      "Before deletion:  {'anthony': 'stuff', 'alana': 'reading'}\n",
      "After deletion:  {'anthony': 'stuff'}\n"
     ]
    }
   ],
   "source": [
    "# Example 8d-11: Using del\n",
    "\n",
    "hobbies = {\"anthony\": \"stuff\", \"alana\": \"reading\"}\n",
    "print(\"Before deletion: \", hobbies)\n",
    "\n",
    "del hobbies[\"alana\"]\n",
    "print(\"After deletion: \", hobbies)"
   ]
  },
  {
   "cell_type": "markdown",
   "metadata": {},
   "source": [
    "The argument for `.pop()` is just the key itself, and `del` must be followed up by `dict_name[key_to_be_removed]`. You can choose to not assign the value of `.pop()` to any value, but you cannot ever assign a `del` statement to a variable."
   ]
  }
 ],
 "metadata": {
  "kernelspec": {
   "display_name": "Python 3",
   "language": "python",
   "name": "python3"
  },
  "language_info": {
   "codemirror_mode": {
    "name": "ipython",
    "version": 3
   },
   "file_extension": ".py",
   "mimetype": "text/x-python",
   "name": "python",
   "nbconvert_exporter": "python",
   "pygments_lexer": "ipython3",
   "version": "3.11.5"
  }
 },
 "nbformat": 4,
 "nbformat_minor": 2
}
