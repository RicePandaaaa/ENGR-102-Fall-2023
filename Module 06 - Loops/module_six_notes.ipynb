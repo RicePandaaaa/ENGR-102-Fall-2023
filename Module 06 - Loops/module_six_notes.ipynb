{
 "cells": [
  {
   "cell_type": "markdown",
   "metadata": {},
   "source": [
    "<h2 style=\"color: #EC4000;\"> Loops </h2>\n",
    "\n",
    "Loops refer to structures (namely `for` and `while`) that allow you to repeat code over and over as long you still have a value to process (`for`) or the condition remains `True` (`while`). These two loops, although quite similar, have distinct advantages and disadvantages over each other and of course, are coded differently. \n",
    "\n"
   ]
  },
  {
   "cell_type": "markdown",
   "metadata": {},
   "source": [
    "<h3 style=\"color: #EC4000;\"> For Loops </h3>\n",
    "\n",
    "`for` loops are loops that iterate over something: in other words, they run as long they have some value to use. As an analogy, imagine you had to clean several items. You would clean each item one by one until you ran out of items to clean. \"Cleaning\" would be the code to perform and the \"items\" will be the values provided to the `for` loop. \n",
    "\n",
    "The basic `for` loop depends on a counter, mainly a generator called `range()`. `range()` takes at least one parameter:\n",
    "\n",
    "```python\n",
    "range(start, stop, step)\n",
    " - start: optional parameter, must be an integer, will be the first number generated (default: 0)\n",
    " - stop: mandatory parameter, must be an integer, dictates when the range function stops\n",
    " - step: optional parameter, must be an integer, dictates what number to add to the previous number to generate the upcoming number (default: 1)\n",
    "```\n",
    "\n",
    "Mathematically, you can think of `range()` as a function such that it returns a list of numbers within these boundaries: [start, stop). Examples of range are as follows with Example 6-1."
   ]
  },
  {
   "cell_type": "code",
   "execution_count": 4,
   "metadata": {},
   "outputs": [
    {
     "name": "stdout",
     "output_type": "stream",
     "text": [
      "Output of range(6):\t\t [0, 1, 2, 3, 4, 5]\n",
      "Output of range(1, 6):\t\t [1, 2, 3, 4, 5]\n",
      "Output of range(1, 6, 2): \t [1, 3, 5]\n"
     ]
    }
   ],
   "source": [
    "# Example 6-1: range()\n",
    "print(\"Output of range(6):\\t\\t\", list(range(6)))\n",
    "print(\"Output of range(1, 6):\\t\\t\", list(range(1, 6)))\n",
    "print(\"Output of range(1, 6, 2): \\t\", list(range(1, 6, 2)))"
   ]
  },
  {
   "cell_type": "markdown",
   "metadata": {},
   "source": [
    "As you can see, `range()` will never output `stop`, but `start` will always appear. Instead of adding 1 every time to get the next number, you can change `step` to be some other number. This is also how you count down instead of up. Note that `step` is always the third number: you cannot specify step by name, so you must always provide a start and stop value."
   ]
  },
  {
   "cell_type": "code",
   "execution_count": 9,
   "metadata": {},
   "outputs": [
    {
     "name": "stdout",
     "output_type": "stream",
     "text": [
      "Output of range(10, 0, -1):  [10, 9, 8, 7, 6, 5, 4, 3, 2, 1]\n"
     ]
    }
   ],
   "source": [
    "# Example 6-2: Backwards counting\n",
    "print(\"Output of range(10, 0, -1): \", list(range(10, 0, -1)))"
   ]
  },
  {
   "cell_type": "markdown",
   "metadata": {},
   "source": [
    "By now, hopefully you see that `range()` can help generate numbers needed for the `for` loop to iterate with. The format of a basic `for` loop looks like the following:\n",
    "```python\n",
    "for loop_variable in range(iterations):\n",
    "    pass    # Replace with code\n",
    "```\n",
    "\n",
    "`loop_varaible` technically can be a pre-existing variable, but it is recommended you use a variable name that hasn't been used (the `for` loop will create the variable for you without needing to assign it a value). In other words, if `loop_variable` does exist, that will be used to store the value from `range()`, but if it does not exist, Python will create a variable *local* to the `for` loop with that name to store the value from `range()`.\n",
    "\n",
    "A very basic `for` loop will be to count the first `n` numbers. It can look something like Example 6-3."
   ]
  },
  {
   "cell_type": "code",
   "execution_count": 10,
   "metadata": {},
   "outputs": [
    {
     "name": "stdout",
     "output_type": "stream",
     "text": [
      "1\n",
      "2\n",
      "3\n",
      "4\n",
      "5\n",
      "6\n",
      "7\n",
      "8\n",
      "9\n",
      "10\n"
     ]
    }
   ],
   "source": [
    "# Example 6-3: Counting the first n numbers\n",
    "number = int(input(\"Enter a number to count to: \"))\n",
    "\n",
    "for i in range(1, number+1):\n",
    "    print(i)"
   ]
  },
  {
   "cell_type": "markdown",
   "metadata": {},
   "source": [
    "So I inputted in \"10\" and you can see that the numbers from 1-10 are outputted. The reason I put `number+1` as my stop is due to the fact the stop value is *not included* in the list of numbers generated. To include it, I add 1 to it so it does end up being included. "
   ]
  },
  {
   "cell_type": "markdown",
   "metadata": {},
   "source": [
    "`for` loops will also work for any sort of iterable: anything that you can iterate over (more simply, anything you can index). This means that you can loop through strings and other data structures such as tuples, lists, and dictionaries (Modules 7 and 8)."
   ]
  },
  {
   "cell_type": "code",
   "execution_count": 1,
   "metadata": {},
   "outputs": [
    {
     "name": "stdout",
     "output_type": "stream",
     "text": [
      "A\n",
      "n\n",
      "t\n",
      "h\n",
      "o\n",
      "n\n",
      "y\n"
     ]
    }
   ],
   "source": [
    "# Example 6-4: Iterating over a string\n",
    "name = \"Anthony\"\n",
    "\n",
    "for letter in name:\n",
    "    print(letter)"
   ]
  },
  {
   "cell_type": "markdown",
   "metadata": {},
   "source": [
    "Sometimes this is referred to as a \"for-each\" loop. In English, you can interpret Example 6-4 as \"**for** **each** letter **in** name, print out the letter\". Note that in this case, `letter` doesn't store the index of the letter, it actually just stores the letter itself. This means that this type of loop is generally used only when you don't really care about the index, just the value itself.\n",
    "\n",
    "If you want both at the same time, then `enumerate()` becomes your best friend:"
   ]
  },
  {
   "cell_type": "code",
   "execution_count": 2,
   "metadata": {},
   "outputs": [
    {
     "name": "stdout",
     "output_type": "stream",
     "text": [
      "Letter \"A\" can be found at index 0\n",
      "Letter \"n\" can be found at index 1\n",
      "Letter \"t\" can be found at index 2\n",
      "Letter \"h\" can be found at index 3\n",
      "Letter \"o\" can be found at index 4\n",
      "Letter \"n\" can be found at index 5\n",
      "Letter \"y\" can be found at index 6\n"
     ]
    }
   ],
   "source": [
    "# Example 6-5: enumerate()\n",
    "\n",
    "name = \"Anthony\"\n",
    "\n",
    "for index, letter, in enumerate(name):\n",
    "    print(f\"Letter \\\"{letter}\\\" can be found at index {index}\")"
   ]
  },
  {
   "cell_type": "markdown",
   "metadata": {},
   "source": [
    "<h3 style=\"color: #EC4000\">While Loops</h3>\n",
    "\n",
    "`while` loops are loops that run *while* a condition is met. There are no limitations to how long a `while` loop can run other than the condition itself. The most basic loop taught is actually the infinite loop:"
   ]
  },
  {
   "cell_type": "code",
   "execution_count": 3,
   "metadata": {},
   "outputs": [
    {
     "ename": "KeyboardInterrupt",
     "evalue": "",
     "output_type": "error",
     "traceback": [
      "\u001b[1;31m---------------------------------------------------------------------------\u001b[0m",
      "\u001b[1;31mKeyboardInterrupt\u001b[0m                         Traceback (most recent call last)",
      "\u001b[1;32mc:\\Users\\antho\\Documents\\ENGR-102-Fall-2023\\Module 6\\module_six_notes.ipynb Cell 14\u001b[0m line \u001b[0;36m3\n\u001b[0;32m      <a href='vscode-notebook-cell:/c%3A/Users/antho/Documents/ENGR-102-Fall-2023/Module%206/module_six_notes.ipynb#X16sZmlsZQ%3D%3D?line=0'>1</a>\u001b[0m \u001b[39m# Example 6: Infinite Loop\u001b[39;00m\n\u001b[1;32m----> <a href='vscode-notebook-cell:/c%3A/Users/antho/Documents/ENGR-102-Fall-2023/Module%206/module_six_notes.ipynb#X16sZmlsZQ%3D%3D?line=2'>3</a>\u001b[0m \u001b[39mwhile\u001b[39;00m \u001b[39mTrue\u001b[39;00m:\n\u001b[0;32m      <a href='vscode-notebook-cell:/c%3A/Users/antho/Documents/ENGR-102-Fall-2023/Module%206/module_six_notes.ipynb#X16sZmlsZQ%3D%3D?line=3'>4</a>\u001b[0m     \u001b[39mpass\u001b[39;00m\n",
      "\u001b[1;31mKeyboardInterrupt\u001b[0m: "
     ]
    }
   ],
   "source": [
    "# Example 6-6: Infinite Loop\n",
    "\n",
    "while True:\n",
    "    pass"
   ]
  },
  {
   "cell_type": "markdown",
   "metadata": {},
   "source": [
    "As you can see, I had to physically stop the loop because it goes forever. The condition being given is `True`, which is a constant that cannot be changed. That means the code inside will run forever. `pass` is just a placeholder for any indented sections of code. I don't have anything to put inside the `while` loop yet, so I just put in `pass` to avoid any errors."
   ]
  },
  {
   "cell_type": "markdown",
   "metadata": {},
   "source": [
    "This being said, infinite loops are what you want to avoid. You want to use a `while` loop when you are not sure of the exact amount of iterations, but you know that you want code to be ran under a certain condition. \n",
    "\n",
    "For example, let's say I wanted to take input until I get a negative number. Assume all inputs are valid and are numeric. Since I grab input *until* I get a negative number, this means that I grab input *while* my input is non-negative (zero or positive). Remember that prompts generally tell you the stop condition: you need to negate the condition to get your `while` loop condition."
   ]
  },
  {
   "cell_type": "code",
   "execution_count": null,
   "metadata": {},
   "outputs": [],
   "source": [
    "# Example 6-7: Grabbing input until negative number is inputted\n",
    "\n",
    "number = int(input(\"Enter a number: \"))\n",
    "\n",
    "while number >= 0:\n",
    "    number = int(input(\"Enter a number: \"))"
   ]
  },
  {
   "cell_type": "markdown",
   "metadata": {},
   "source": [
    "Also note a very crucial detail: I ask for input *before* the `while` loop is executed. I need an initial condition for the condition to be `True`. Otherwise, Python has no idea what `number` is as it checks the condition first and then executes the code inside.\n",
    "\n",
    "The way I exit this loop is by inputting a negative number. I ensure this is possible by directly affecting the variable used in the condition within the `while` loop. "
   ]
  },
  {
   "cell_type": "markdown",
   "metadata": {},
   "source": [
    "<h5 style=\"color:orange\">\"break\" keyword</h5>\n",
    "\n",
    "In some scenarios, you want to immediately break out of the loop (either `for` or `while`). This is generally not ideal since it means you didn't create the `range` properly (for `for` loops) or you didn't correctly form the loop condition (for `while` loops). However, there are always special cases where you want to immediately break the loop. This is available with the `break` keyword.\n",
    "\n",
    "The second Python executes the `break` keyword, the *immediate* loop it is *inside* of is stopped. This is demonstrated in Example 6-8."
   ]
  },
  {
   "cell_type": "code",
   "execution_count": 9,
   "metadata": {},
   "outputs": [
    {
     "name": "stdout",
     "output_type": "stream",
     "text": [
      "0 0\n",
      "1 0\n",
      "2 0\n"
     ]
    }
   ],
   "source": [
    "# Example 6-8: using break\n",
    "\n",
    "for i in range(3):\n",
    "    for j in range(10):\n",
    "        if j >= 1:\n",
    "            break\n",
    "        print(i, j)"
   ]
  },
  {
   "cell_type": "markdown",
   "metadata": {},
   "source": [
    "As you can see, the `break` only affects the immediate loop it is inside of. In this case, it will only stop the `for` loop using `j`. The `for` loop that uses `i` does contain the `for` loop using `j`, but `break` belongs to just the `for` loop with `j` because it is directly contained by that loop."
   ]
  },
  {
   "cell_type": "markdown",
   "metadata": {},
   "source": [
    "<h5 style=\"color: #EC4000\">\"continue\" keyword</h5>\n",
    "\n",
    "Other times, you want to skip the current iteration and go to the next. This is good for when you're processing some type of data, and there are data points that you will want to skip. `continue` lets you skip to the next iteration. Example 6-9 highlights this."
   ]
  },
  {
   "cell_type": "code",
   "execution_count": 10,
   "metadata": {},
   "outputs": [
    {
     "name": "stdout",
     "output_type": "stream",
     "text": [
      "n\n",
      "t\n",
      "h\n",
      "n\n",
      "y\n"
     ]
    }
   ],
   "source": [
    "# Example 6-9: We don't like vowels\n",
    "name = \"Anthony\"\n",
    "\n",
    "for letter in name:\n",
    "    if letter.lower() in \"aeiou\":\n",
    "        continue\n",
    "    print(letter)"
   ]
  },
  {
   "cell_type": "markdown",
   "metadata": {},
   "source": [
    "As you can see, all the letters that matched with `\"aeiou\"` after being sent to lowercase. "
   ]
  },
  {
   "cell_type": "markdown",
   "metadata": {},
   "source": [
    "<h5 style=\"color: #EC4000\">\"range\" in detail</h5>\n",
    "\n",
    "`range()` is an interesting built-in function. For the purposes of ENGR 102, you're told that `range()` gives you a list of numbers... which is almost true but not quite. The differences between the actual type of `range()` and lists (which will be defined in Module 7) are for the most part insignificant. There are some clear differences but at least for this course, as long as you only use them for `for` loops, you'll be able to dodge the intricacies between the two. As said before, `range()` can take up to three parameters, which include:\n",
    "\n",
    "- `start`: the starting number (included in the numbers, defaults to 0 if not included)\n",
    "- `end`: the ending number (excluded from the numbers, must be given)\n",
    "- `step`: what number to be counting by (defautls to 1 if not included)\n",
    "\n",
    "You can provide one, two, or three numbers for `range()` but depending on how many you give it, it will assume different things about each number:\n",
    "\n",
    "- 1 number given: the number is the `end`\n",
    "- 2 numbers given: the first number is the `start` and the second number is the `end`\n",
    "- 3 numbers given: the first number is the `start`, the second number is the `end`, and the third number is the `end`\n",
    "\n",
    "Examples of this are shown below:"
   ]
  },
  {
   "cell_type": "code",
   "execution_count": 1,
   "metadata": {},
   "outputs": [
    {
     "name": "stdout",
     "output_type": "stream",
     "text": [
      "0\n",
      "1\n",
      "2\n",
      "3\n",
      "4\n",
      "5\n",
      "6\n",
      "7\n",
      "8\n",
      "9\n"
     ]
    }
   ],
   "source": [
    "# Example 6-10: One number only\n",
    "\n",
    "for i in range(10):\n",
    "    print(i)"
   ]
  },
  {
   "cell_type": "code",
   "execution_count": 2,
   "metadata": {},
   "outputs": [
    {
     "name": "stdout",
     "output_type": "stream",
     "text": [
      "1\n",
      "2\n",
      "3\n",
      "4\n",
      "5\n",
      "6\n",
      "7\n",
      "8\n",
      "9\n"
     ]
    }
   ],
   "source": [
    "# Example 6-11: Two numbers only\n",
    "\n",
    "for i in range(1, 10):\n",
    "    print(i)"
   ]
  },
  {
   "cell_type": "code",
   "execution_count": 3,
   "metadata": {},
   "outputs": [
    {
     "name": "stdout",
     "output_type": "stream",
     "text": [
      "1\n",
      "3\n",
      "5\n",
      "7\n",
      "9\n"
     ]
    }
   ],
   "source": [
    "# Example 6-12: All three given\n",
    "\n",
    "for i in range(1, 10, 2):\n",
    "    print(i)"
   ]
  },
  {
   "cell_type": "markdown",
   "metadata": {},
   "source": [
    "These three variations are essential to understand. You must know which number represents what type of value in order to properly determine the expected numbers that the `for` loop goes through. This sort of behavior will show up again in Module 7! Also note that Python always assumes you are going from a smaller number to a bigger number unless your step is negative (then you should have a `start` that is larger than your `end`). This is because the step value is assumed to be 1."
   ]
  },
  {
   "cell_type": "code",
   "execution_count": 5,
   "metadata": {},
   "outputs": [],
   "source": [
    "# Example 6-13: Assumed direction is small -> large so having start > end will not work!\n",
    "# As seen here, no output is shown\n",
    "\n",
    "for i in range(10, 1):\n",
    "    print(i)"
   ]
  },
  {
   "cell_type": "code",
   "execution_count": 6,
   "metadata": {},
   "outputs": [
    {
     "name": "stdout",
     "output_type": "stream",
     "text": [
      "10\n",
      "9\n",
      "8\n",
      "7\n",
      "6\n",
      "5\n",
      "4\n",
      "3\n",
      "2\n"
     ]
    }
   ],
   "source": [
    "# Example 6-14: Start > end but the step is negative\n",
    "\n",
    "for i in range(10, 1, -1):\n",
    "    print(i)"
   ]
  },
  {
   "cell_type": "markdown",
   "metadata": {},
   "source": [
    "<h5 style=\"color: #EC4000\">Nested Loops </h5>\n",
    "\n",
    "You can have a loop in a loop. This means that the inner loop is executed as many times as the outer loop is run. Let's see this in action."
   ]
  },
  {
   "cell_type": "code",
   "execution_count": 7,
   "metadata": {},
   "outputs": [
    {
     "name": "stdout",
     "output_type": "stream",
     "text": [
      "i=0, j=0\n",
      "i=0, j=1\n",
      "i=0, j=2\n",
      "i=0, j=3\n",
      "i=0, j=4\n",
      "i=1, j=0\n",
      "i=1, j=1\n",
      "i=1, j=2\n",
      "i=1, j=3\n",
      "i=1, j=4\n",
      "i=2, j=0\n",
      "i=2, j=1\n",
      "i=2, j=2\n",
      "i=2, j=3\n",
      "i=2, j=4\n",
      "i=3, j=0\n",
      "i=3, j=1\n",
      "i=3, j=2\n",
      "i=3, j=3\n",
      "i=3, j=4\n",
      "i=4, j=0\n",
      "i=4, j=1\n",
      "i=4, j=2\n",
      "i=4, j=3\n",
      "i=4, j=4\n"
     ]
    }
   ],
   "source": [
    "# Example 6-15: Basic nested loop\n",
    "\n",
    "for i in range(5):\n",
    "    for j in range(5):\n",
    "        print(f\"i={i}, j={j}\")"
   ]
  },
  {
   "cell_type": "markdown",
   "metadata": {},
   "source": [
    "As you can see, the inner loop (with variable `j`) goes all the way through before incrementing the outer loop (with variable `i`). This is handy when you deal with multi-dimensional data. This becomes more obvious when you deal with lists, but the most basic example that is usually given is the multiplication table: one loop is for the left hand side factor and one loop is for the right hand side factor."
   ]
  },
  {
   "cell_type": "code",
   "execution_count": 8,
   "metadata": {},
   "outputs": [
    {
     "name": "stdout",
     "output_type": "stream",
     "text": [
      "1 x 1 = 1\n",
      "1 x 2 = 2\n",
      "1 x 3 = 3\n",
      "1 x 4 = 4\n",
      "2 x 1 = 2\n",
      "2 x 2 = 4\n",
      "2 x 3 = 6\n",
      "2 x 4 = 8\n",
      "3 x 1 = 3\n",
      "3 x 2 = 6\n",
      "3 x 3 = 9\n",
      "3 x 4 = 12\n",
      "4 x 1 = 4\n",
      "4 x 2 = 8\n",
      "4 x 3 = 12\n",
      "4 x 4 = 16\n"
     ]
    }
   ],
   "source": [
    "# Example 6-16: Basic multiplication table\n",
    "\n",
    "for i in range(1, 5):\n",
    "    for j in range(1, 5):\n",
    "        print(f\"{i} x {j} = {i*j}\")"
   ]
  },
  {
   "cell_type": "markdown",
   "metadata": {},
   "source": [
    "Neatly enough, you can nest these loops infinitely (I don't recommend this though unless you have extremely compelling reasons to do so). Your nest could be three-deep (as in a loop in a loop in a loop), four-deep, etc. You might also hear these sort of loops be defined by how many \"dimensions\" (loops) they have. The nested loop from Example 16 has two loops so it would be considered 2D. A three-deep loop would be called 3D, a four-deep loop would be called 4D, etc. I'm not entirely sure if there's an actual term for how deeply nested a loop is, but people should understand you regardless."
   ]
  },
  {
   "cell_type": "markdown",
   "metadata": {},
   "source": [
    "<h5 style=\"color: #EC4000;\">Loop Variables are Variables!</h5>\n",
    "\n",
    "Don't forget that loop variables are just any variable... *including existing variables*. 99.99% of the time, you want to be using a new variable for the loop variable. Naming your loop variables so that they make sense is usually very helpful in this regard. However, you will commonly see these variable names used when making new loop variables:\n",
    "\n",
    "- i, j, k (rarely do people go past 3D)\n",
    "- a, b, c, d, ... (personally I see people start with `a` for 4D+)\n",
    "- _ (underscore is used as a placeholder when the loop variable is not being used)\n",
    "\n",
    "Reusing a pre-existing variable can be problematic, as seen in the following example."
   ]
  },
  {
   "cell_type": "code",
   "execution_count": 9,
   "metadata": {},
   "outputs": [
    {
     "name": "stdout",
     "output_type": "stream",
     "text": [
      "9\n"
     ]
    }
   ],
   "source": [
    "# Example 6-17: Reusing a variable\n",
    "\n",
    "counter = 100\n",
    "for counter in range(1, 10):\n",
    "    pass\n",
    "\n",
    "print(counter)"
   ]
  },
  {
   "cell_type": "markdown",
   "metadata": {},
   "source": [
    "Remember, `pass` does nothing, which means the only thing the loop does is assign the new number to the loop variable... which happens to be `counter`. The last integer to be stored in `counter` is 9 (because it's the largest integer between 1 and 10 but excluding 10). If `counter` was meant to be holding a different value, this override can lead to unexpected results although the code ran without errors.\n",
    "\n",
    "However, this can be leveraged in nested loops. `range()` accepts any integer values, including those stored in variables. This is actually the basis of the very famous triangle problem:"
   ]
  },
  {
   "cell_type": "code",
   "execution_count": 14,
   "metadata": {},
   "outputs": [
    {
     "name": "stdout",
     "output_type": "stream",
     "text": [
      "1\n",
      "22\n",
      "333\n",
      "4444\n",
      "55555\n"
     ]
    }
   ],
   "source": [
    "# Example 6-18: The triangle problem\n",
    "\"\"\"\n",
    "Create the following triangle:\n",
    "1\n",
    "22\n",
    "333\n",
    "4444\n",
    "55555\n",
    "\n",
    "Basically, each line should have the next number appear as many times as itself or in other words, the nth line should contain n number of 'n's\n",
    "\"\"\"\n",
    "\n",
    "for i in range(1, 6):\n",
    "    for j in range(i):\n",
    "        print(str(i), end=\"\")\n",
    "    print()"
   ]
  },
  {
   "cell_type": "markdown",
   "metadata": {},
   "source": [
    "As seen here, the second loop loops from 0 to `i`! `i` goes from 1-5 (not 6 because the last number is excluded). This means that each iteration of the *inner loop* will change based on the outer loop. This is broken down as such:\n",
    "\n",
    "- `i` is 1, `j` goes from 0-0 (just 0, so one loop)\n",
    "- `i` is 2, `j` goes from 0-1 (0, 1; so two loops)\n",
    "- `i` is 3, `j` goes from 0-2 (0, 1, 2; so three loops)\n",
    "- `i` is 4, `j` goes from 0-3 (0, 1, 2, 3; so four loops)\n",
    "- `i` is 5, `j` goes from 0-4 (0, 1, 2, 3, 4; so five loops)\n",
    "\n",
    "The `end=\"\"` prevents the `print()` from making the next `print()` start on the next line, allowing me to have all the numbers on the same line. If you remember string multiplication, then there's actually a solution involving just one loop:"
   ]
  },
  {
   "cell_type": "code",
   "execution_count": 15,
   "metadata": {},
   "outputs": [
    {
     "name": "stdout",
     "output_type": "stream",
     "text": [
      "1\n",
      "22\n",
      "333\n",
      "4444\n",
      "55555\n"
     ]
    }
   ],
   "source": [
    "# Example 6-19: One loop solution to triangle problem\n",
    "\n",
    "for i in range(1, 6):\n",
    "    print(str(i) * i)"
   ]
  }
 ],
 "metadata": {
  "kernelspec": {
   "display_name": "Python 3",
   "language": "python",
   "name": "python3"
  },
  "language_info": {
   "codemirror_mode": {
    "name": "ipython",
    "version": 3
   },
   "file_extension": ".py",
   "mimetype": "text/x-python",
   "name": "python",
   "nbconvert_exporter": "python",
   "pygments_lexer": "ipython3",
   "version": "3.11.5"
  },
  "orig_nbformat": 4
 },
 "nbformat": 4,
 "nbformat_minor": 2
}
