{
 "cells": [
  {
   "cell_type": "markdown",
   "metadata": {},
   "source": [
    "<h2 style=\"color: #EC4000;\"> Lists </h2>\n",
    "\n",
    "Lists are quite literally lists of items. Think about all the lists you might have used before such as a to-do list and a shopping list. A list in Python simply contains items. These items can be pretty much anything that has some sort of value attached to them. You can store raw values, variables, or both, and you can mix-and-match types, which means your list can contain multiple types of values at any given time.\n",
    "\n",
    "The syntax for a list is just square brackets with every item separated by a comma:"
   ]
  },
  {
   "cell_type": "code",
   "execution_count": null,
   "metadata": {},
   "outputs": [],
   "source": [
    "# Example 7-0: List Syntax\n",
    "\n",
    "example_list = [1, 2, \"Hi\"]"
   ]
  },
  {
   "cell_type": "markdown",
   "metadata": {},
   "source": [
    "Lists have quite a few things you can do to them which makes them very powerful data structures to use, which include but are not limited to:\n",
    "\n",
    "- Add (append) items\n",
    "- Remove items\n",
    "- Access specific items\n",
    "- Merge lists\n",
    "- Find their lengths\n",
    "- Loop through lists\n",
    "\n",
    "These seven are probably the most common list operations in ENGR 102. They will also be used when coding in general, not just this course. As I have said, lists are extremely powerful, so this module will be extremely important to understand and learn well in order to get good grades in the course and to code well should you continue coding past this course.\n"
   ]
  },
  {
   "cell_type": "markdown",
   "metadata": {},
   "source": [
    "<h5 style=\"color: #EC4000;\"> Accessing Specific Items </h5>\n",
    "\n",
    "Items in a list do have an order. Their location is determined by something called an \"index\", similar to the index section of a textbook. The way it is generally done in Python (and most other programming languages) is what is called zero-indexing: the first item is at location zero, the second is at location one, etc. The way you retrieve an item at a certain index is with square brackets."
   ]
  },
  {
   "cell_type": "code",
   "execution_count": 12,
   "metadata": {},
   "outputs": [
    {
     "name": "stdout",
     "output_type": "stream",
     "text": [
      "Anthony\n"
     ]
    },
    {
     "ename": "IndexError",
     "evalue": "list index out of range",
     "output_type": "error",
     "traceback": [
      "\u001b[1;31m---------------------------------------------------------------------------\u001b[0m",
      "\u001b[1;31mIndexError\u001b[0m                                Traceback (most recent call last)",
      "Cell \u001b[1;32mIn[12], line 6\u001b[0m\n\u001b[0;32m      3\u001b[0m names \u001b[38;5;241m=\u001b[39m [\u001b[38;5;124m\"\u001b[39m\u001b[38;5;124mAnthony\u001b[39m\u001b[38;5;124m\"\u001b[39m, \u001b[38;5;124m\"\u001b[39m\u001b[38;5;124mSam\u001b[39m\u001b[38;5;124m\"\u001b[39m]\n\u001b[0;32m      5\u001b[0m \u001b[38;5;28mprint\u001b[39m(names[\u001b[38;5;241m0\u001b[39m])\n\u001b[1;32m----> 6\u001b[0m \u001b[38;5;28mprint\u001b[39m(\u001b[43mnames\u001b[49m\u001b[43m[\u001b[49m\u001b[38;5;241;43m2\u001b[39;49m\u001b[43m]\u001b[49m)\n",
      "\u001b[1;31mIndexError\u001b[0m: list index out of range"
     ]
    }
   ],
   "source": [
    "# Example 7-1: Indexing a list (valid and invalid)\n",
    "\n",
    "names = [\"Anthony\", \"Sam\"]\n",
    "\n",
    "print(names[0])\n",
    "print(names[2])"
   ]
  },
  {
   "cell_type": "markdown",
   "metadata": {},
   "source": [
    "As you can see, `names` has two items (`\"Anthony\"` and `\"Sam\"`) at indices zero and one respectively. Accessing an index that does not exist will cause an error as seen in Example 7-1."
   ]
  },
  {
   "cell_type": "markdown",
   "metadata": {},
   "source": [
    "<h5 style=\"color: #EC4000;\"> Modifying a List </h5>\n",
    "\n",
    "Lists are what we call mutable: you can directly change their value. Values like ints and strings are immutable: you can't directly change the value of an int or a string, you can only assign a new int or string to the variable holding the value. The most obvious way to modify a list is to append (add) or remove items from a list. \n",
    "\n",
    "Appending to a list requires using `.append(item)`. `item` can be anything you want. If it can be stored in a variable, it can be stored in a list.  "
   ]
  },
  {
   "cell_type": "code",
   "execution_count": 1,
   "metadata": {},
   "outputs": [
    {
     "name": "stdout",
     "output_type": "stream",
     "text": [
      "['Anthony', 'Sam']\n"
     ]
    }
   ],
   "source": [
    "# Example 7-2: Appending to a list\n",
    "\n",
    "names = [\"Anthony\"]\n",
    "names.append(\"Sam\")\n",
    "\n",
    "print(names)"
   ]
  },
  {
   "cell_type": "markdown",
   "metadata": {},
   "source": [
    "There is an important things to notice about Example 2. One is that there is no variable assignment. I did not write `names = names.append(\"Sam\")`. There is no need to do this because lists are mutable: just calling the `append()` function correctly will add the name `\"Sam\"` to the list for me. Once we learn more about functions, you will realize that trying to assign the result of `append()` to the variable will actually *remove* the list."
   ]
  },
  {
   "cell_type": "code",
   "execution_count": 2,
   "metadata": {},
   "outputs": [
    {
     "name": "stdout",
     "output_type": "stream",
     "text": [
      "None\n"
     ]
    }
   ],
   "source": [
    "# Example 7-3: Variable Assignment\n",
    "\n",
    "names = [\"Anthony\"]\n",
    "names = names.append(\"Sam\")\n",
    "\n",
    "print(names)"
   ]
  },
  {
   "cell_type": "markdown",
   "metadata": {},
   "source": [
    "As seen above, `names` is now `None`, which is the data type for nothing. Remember that assignments will take the value of the right side and put it into the variable on the left side of the assignment operator. `.append()` doesn't give you a value which is why the resulting output is `None`. Do note that not all changes to a variable require an assignment: sometimes you can just directly change the variable if the data type is mutable. There's no trick to helping you with this. You just need to know what the operation you're doing actually does and whether it gives you a new value (needs an assignment) or directly modifies the value of your variable (does not want an assignment).\n",
    "\n",
    "Merging lists is as simple as literally adding lists together. As this is addition, the newly created list needs to be stored somewhere."
   ]
  },
  {
   "cell_type": "code",
   "execution_count": 6,
   "metadata": {},
   "outputs": [
    {
     "name": "stdout",
     "output_type": "stream",
     "text": [
      "['Anthony', 'Anthony', 'Sam']\n"
     ]
    }
   ],
   "source": [
    "# Example 7-4: Adding lists\n",
    "\n",
    "names = [\"Anthony\"]\n",
    "more_names = [\"Sam\"]\n",
    "\n",
    "all_names = names + names + more_names\n",
    "\n",
    "print(all_names)"
   ]
  },
  {
   "cell_type": "markdown",
   "metadata": {},
   "source": [
    "You add two lists and it creates a larger list. As I've done with Example 4, you can add more than two at a time as long they're all lists. Python gets very unhappy if they are not all of the same type (which is typical behavior).\n",
    "\n",
    "You can also insert into an index using `.insert(index, item)`."
   ]
  },
  {
   "cell_type": "code",
   "execution_count": 3,
   "metadata": {},
   "outputs": [
    {
     "name": "stdout",
     "output_type": "stream",
     "text": [
      "['Luna', 'Anthony', 'Sam', 'Luke']\n"
     ]
    }
   ],
   "source": [
    "# Example 7-5: Inserting into a list\n",
    "\n",
    "names = [\"Anthony\", \"Sam\"]\n",
    "names.insert(2, \"Luke\")\n",
    "names.insert(0, \"Luna\")\n",
    "\n",
    "print(names)"
   ]
  },
  {
   "cell_type": "markdown",
   "metadata": {},
   "source": [
    "Although there is no value at index two, Python understands that you want to insert the value to the end of the list (as index two comes right after index one, which was the current end index at the time). Also note that all affected elements move to the right (and never to the left).\n",
    "\n",
    "Removing from a list is weird though. There's actually three different ways to remove an item from a list and they all have different behaviors:\n",
    "\n",
    "- `.remove(item)`: directly removes `item` regardless of where it is\n",
    "- `del list[index]`: removes the item from `list` at index `index`\n",
    "- `.pop(index)`: removes the item from the list at index `index`, defaults to last item if `index` is not given; also returns the item removed\n",
    "\n",
    "All three will get the job done, but choosing which one depends on what information you have. If you know exactly what item you want to remove, you should use `.remove()`. If you only know where the item is (you only know the index), then use `del`. However, if you'd like to save the removed item for further processing, use `.pop()`. If you just want to remove the last item in the list, use `.pop()`. "
   ]
  },
  {
   "cell_type": "code",
   "execution_count": 7,
   "metadata": {},
   "outputs": [
    {
     "name": "stdout",
     "output_type": "stream",
     "text": [
      "['Anthony']\n"
     ]
    }
   ],
   "source": [
    "# Example 7-6: Using .remove()\n",
    "\n",
    "names = [\"Anthony\", \"Sam\"]\n",
    "names.remove(\"Sam\")\n",
    "\n",
    "print(names)"
   ]
  },
  {
   "cell_type": "code",
   "execution_count": 9,
   "metadata": {},
   "outputs": [
    {
     "name": "stdout",
     "output_type": "stream",
     "text": [
      "['Anthony']\n"
     ]
    }
   ],
   "source": [
    "# Example 7-7: Using del\n",
    "\n",
    "names = [\"Anthony\", \"Sam\"]\n",
    "del names[1]\n",
    "\n",
    "print(names)"
   ]
  },
  {
   "cell_type": "code",
   "execution_count": 11,
   "metadata": {},
   "outputs": [
    {
     "name": "stdout",
     "output_type": "stream",
     "text": [
      "['Sam']\n",
      "Last name in the list: Luke\n",
      "First name in the list: Anthony\n"
     ]
    }
   ],
   "source": [
    "# Example 7-8: Using .pop()\n",
    "\n",
    "names = [\"Anthony\", \"Sam\", \"Luke\"]\n",
    "\n",
    "last_name = names.pop()\n",
    "first_name = names.pop(0)\n",
    "\n",
    "print(names)\n",
    "print(\"Last name in the list:\", last_name)\n",
    "print(\"First name in the list:\", first_name)"
   ]
  },
  {
   "cell_type": "markdown",
   "metadata": {},
   "source": [
    "<h5 style=\"color: #EC4000;\"> Built-in Functions </h5>\n",
    "\n",
    "There are quite the number of built-in functions that you can use for lists. The functions I believe you will have the most use of in this course are the following:\n",
    "\n",
    "- `len()`\n",
    "- `max()` and `min()`\n",
    "- `sum()`\n",
    "\n",
    "Don't worry, these functions do exactly as they seem: `len()` gives you the length of the list, `max()` gives you the maximum value in the list, `min()` gives you the minimum value in the list, and `sum()` gives you the sum of all the items in the list."
   ]
  },
  {
   "cell_type": "code",
   "execution_count": 1,
   "metadata": {},
   "outputs": [
    {
     "name": "stdout",
     "output_type": "stream",
     "text": [
      "4 7 1 17\n"
     ]
    }
   ],
   "source": [
    "# Example 7-9: Using the built-in functions\n",
    "\n",
    "numbers = [1, 5, 7, 4]\n",
    "\n",
    "print(len(numbers), max(numbers), min(numbers), sum(numbers))"
   ]
  },
  {
   "cell_type": "markdown",
   "metadata": {},
   "source": [
    "<h5 style=\"color: #EC4000;\"> Looping through a List </h5>\n",
    "\n",
    "There are actually two ways to loop through a list: using `range()` and using the list itself. Using `range()` is probably the easiest way, going through index zero to the very last valid index. The easiest way to do this is to use `range(len(list))` because `len(list)` will be excluded and the last index of any non-empty list is the length minus one."
   ]
  },
  {
   "cell_type": "code",
   "execution_count": 2,
   "metadata": {},
   "outputs": [
    {
     "name": "stdout",
     "output_type": "stream",
     "text": [
      "5\n",
      "6\n",
      "7\n",
      "8\n"
     ]
    }
   ],
   "source": [
    "# Example 7-10: Looping through a list with range()\n",
    "\n",
    "numbers = [5, 6, 7, 8]\n",
    "\n",
    "for i in range(len(numbers)):\n",
    "    print(numbers[i])"
   ]
  },
  {
   "cell_type": "markdown",
   "metadata": {},
   "source": [
    "In Example 7-10, you can see that `i` holds in the indicies and the loop goes through the indicies and prints out each number in order. You can also just directly loop through the list though."
   ]
  },
  {
   "cell_type": "code",
   "execution_count": 3,
   "metadata": {},
   "outputs": [
    {
     "name": "stdout",
     "output_type": "stream",
     "text": [
      "5\n",
      "6\n",
      "7\n",
      "8\n"
     ]
    }
   ],
   "source": [
    "# Example 7-11: Looping through the list directly\n",
    "\n",
    "numbers = [5, 6, 7, 8]\n",
    "\n",
    "for number in numbers:\n",
    "    print(number)"
   ]
  },
  {
   "cell_type": "markdown",
   "metadata": {},
   "source": [
    "Now with Example 7-11, you can see that `number` actually holds the contents of the list, and the loop goes from left to right of the list. If you don't care about the index, then directly loop through the list. However, if the index is useful for whatever reason, then use `range()`."
   ]
  },
  {
   "cell_type": "markdown",
   "metadata": {},
   "source": [
    "<h5 style=\"color: #EC4000;\"> Replacing Items </h5>\n",
    "\n",
    "Instead of modifying the list by adding or removing, you can just replace items in the list. You can treat each *existing* index as a variable and just assign a new value."
   ]
  },
  {
   "cell_type": "code",
   "execution_count": 1,
   "metadata": {},
   "outputs": [
    {
     "name": "stdout",
     "output_type": "stream",
     "text": [
      "['Luke', 'Sam']\n"
     ]
    }
   ],
   "source": [
    "# Example 7-12: Replacing an item\n",
    "\n",
    "names = [\"Anthony\", \"Sam\"]\n",
    "names[0] = \"Luke\"\n",
    "\n",
    "print(names)"
   ]
  },
  {
   "cell_type": "markdown",
   "metadata": {},
   "source": [
    "Now like I said earlier, it must be a pre-existing index. In other words, you must be replacing a value at its index, not just inserting a new element. If you try to assign to an index that has no value, you will get an error."
   ]
  },
  {
   "cell_type": "code",
   "execution_count": 2,
   "metadata": {},
   "outputs": [
    {
     "ename": "IndexError",
     "evalue": "list assignment index out of range",
     "output_type": "error",
     "traceback": [
      "\u001b[1;31m---------------------------------------------------------------------------\u001b[0m",
      "\u001b[1;31mIndexError\u001b[0m                                Traceback (most recent call last)",
      "Cell \u001b[1;32mIn[2], line 4\u001b[0m\n\u001b[0;32m      1\u001b[0m \u001b[38;5;66;03m# Example 12: Replacing... nothing?\u001b[39;00m\n\u001b[0;32m      3\u001b[0m names \u001b[38;5;241m=\u001b[39m [\u001b[38;5;124m\"\u001b[39m\u001b[38;5;124mAnthony\u001b[39m\u001b[38;5;124m\"\u001b[39m, \u001b[38;5;124m\"\u001b[39m\u001b[38;5;124mSam\u001b[39m\u001b[38;5;124m\"\u001b[39m]\n\u001b[1;32m----> 4\u001b[0m \u001b[43mnames\u001b[49m\u001b[43m[\u001b[49m\u001b[38;5;241;43m2\u001b[39;49m\u001b[43m]\u001b[49m \u001b[38;5;241m=\u001b[39m \u001b[38;5;124m\"\u001b[39m\u001b[38;5;124mLuke\u001b[39m\u001b[38;5;124m\"\u001b[39m\n\u001b[0;32m      6\u001b[0m \u001b[38;5;28mprint\u001b[39m(names)\n",
      "\u001b[1;31mIndexError\u001b[0m: list assignment index out of range"
     ]
    }
   ],
   "source": [
    "# Example 7-13: Replacing... nothing?\n",
    "\n",
    "names = [\"Anthony\", \"Sam\"]\n",
    "names[2] = \"Luke\"\n",
    "\n",
    "print(names)"
   ]
  }
 ],
 "metadata": {
  "kernelspec": {
   "display_name": "Python 3",
   "language": "python",
   "name": "python3"
  },
  "language_info": {
   "codemirror_mode": {
    "name": "ipython",
    "version": 3
   },
   "file_extension": ".py",
   "mimetype": "text/x-python",
   "name": "python",
   "nbconvert_exporter": "python",
   "pygments_lexer": "ipython3",
   "version": "3.11.5"
  }
 },
 "nbformat": 4,
 "nbformat_minor": 2
}
