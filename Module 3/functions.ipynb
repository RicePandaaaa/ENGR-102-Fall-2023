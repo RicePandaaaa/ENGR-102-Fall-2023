{
 "cells": [
  {
   "cell_type": "markdown",
   "metadata": {},
   "source": [
    "<h2 style=\"color: orange;\"> Functions </h2>\n",
    "\n",
    "This is part of Module 3 (well the basics of functions are part of Module 3), but I would like to go more in-depth about this topic, so I made a separate ipynb file for this topic since the main Module 3 notebook is quite lengthy anyways.\n",
    "\n",
    "You can think of functions as an instruction manual: instead of re-writing all the instructions every single time someone needs them to do something, you can refer that person to the instruction manual (which means you only needed to write the instructions once). Thus, functions are handy for code that is used over and over again: saving yourself a lot of time and making your code much more:\n",
    "- flexible (just change the function and you can change the whole code)\n",
    "- readable (less line of code overall)\n",
    "- debuggable (any bugs can be traced back to the function rather than the specific place you wrote out the code if you were to copy and paste the code over and over)\n",
    "\n",
    "You may have seen functions before but under a different name: methods. Languages such as Java and C refer to functions as methods (but they really do the same thing conceptually). Before I get into the technical side of things, I want to talk about what a function is. As I said before, it's a premade set of instructions that can be referred to over and over again, so you don't have to rewrite the code everytime.\n",
    "\n",
    "Now there are some parts we need to be aware about:\n",
    "- Name (name of the function)\n",
    "- Parameters (info passed into the function)\n",
    "- Body (the code the function has)\n",
    "- Return Statement (returning values)\n",
    "- Type Hinting (hint at what types the parameters and returned value are)\n",
    "\n",
    "In real life, an instruction manual has all five of these parts:\n",
    "- Name: the name of the manual/the name of the thing we are trying to do or build\n",
    "- Parameters: there's a list of parts you need before you start working\n",
    "- Body: the actual instructions telling you what to do\n",
    "- Return Statement: usually that's the end result and giving it to the person that it's meant for\n",
    "- Type Hinting: tells you exactly what tools you need and what the end product will be\n",
    "\n",
    "<h3 style=\"color: orange;\"> Another Analogy </h3>\n",
    "If that is confusing, imagine you are the Python interpretter. But this time, a friend wants you to deliver them a cake made according to a recipe. This recipe is basically a function: a premade set of instructions for you to follow in order to make your cake. Using the same template above, we can relate a recipe to a function:\n",
    "\n",
    "- Name: the name of the recipe\n",
    "- Parameters: the ingredients list\n",
    "- Body: the instructions list\n",
    "- Return Statement: how the cake is delivered to your friend\n",
    "- Type Hinting: tells you what exact ingredients are needed and what the cake should look like at the end\n",
    "\n",
    "I'll show a quick example of a full function and we'll go piece by piece:"
   ]
  },
  {
   "cell_type": "code",
   "execution_count": 1,
   "metadata": {},
   "outputs": [],
   "source": [
    "# Example 3-F1: A function example\n",
    "\n",
    "def add(a: float, b: float) -> float:\n",
    "    return a + b"
   ]
  },
  {
   "cell_type": "markdown",
   "metadata": {},
   "source": [
    "If you tried running the above, you'll see that nothing gets outputted. All I've done is create a function named `add` that takes two parameters, one named `a` and one named `b`, and I told Python that both will be floats or at least can be changed into floats (like integers). I've also said that the value that gets returned is a float (the `-> float` part). And the `return` is also the body of the function: all the function does is add up `a` and `b` and return that value to wherever the function was called. \n",
    "\n",
    "<h3 style=\"color: orange;\"> Function Breakdown </h3>\n",
    "\n",
    "So, piece by piece, this first part: \n",
    "```python\n",
    "def add(a: float, b: float) -> float:\n",
    "```\n",
    "\n",
    "The `def` keyword means I'm about to create a function. The next word I use (it's basically a variable name as function names follow variable naming conventions) will be the name of the function (in this case, `add` is the name). Then I put parentheses. These parentheses hold any parameters: if I want to send any information to the function, I need to store them somewhere. Thus parameters exist as local function variables that hold values assigned to it, so Python has the information it needs to properly execute the function. Otherwise, with the example I made, it's gonna be wondering what exactly it's supposed to be adding.\n",
    "\n",
    "The `: float` is type-hinting: telling Python what type this parameters will be. If Python gets something it can't immediately understand as a float, it will get mad and throw an error. This is optional of course but is very good coding practice and is good for yourself too since you know what type of data should be going through there. The `-> float` is also type-hinting but rather tells Python what type the returned value will be. If you're returning nothing (usually this is when there is no `return` statement), then the type is `None`.\n",
    "\n",
    "The next part:\n",
    "```python\n",
    "    return a + b\n",
    "```\n",
    "\n",
    "Note that this line is indented. Python doesn't know what belongs in the function and the way to do this is to have the lines indented. Once Python meets a line of code that is unindented, Python understands that the function is finished and that line is part of something else entirely. The body of the program can have several lines, but this is a rather simple program, so it's just one line. `return` literally returns the value back. This is essential if you're using the value from the function for a calculation because there is no other (good) way to get the value. There are some ways but they are extremely bad practice and generally ends up messing up your code, so I won't talk about them.  In this case, the value being returned is whatever the value of `a + b` is.\n",
    "\n",
    "<h3 style=\"color: orange;\"> Using the function </h3>\n",
    "\n",
    "Now we gotta use the function. We got the instructions written down, and now we just need Python to go ahead and use those instructions to do something for us (in this case, add two numbers). "
   ]
  }
 ],
 "metadata": {
  "kernelspec": {
   "display_name": "base",
   "language": "python",
   "name": "python3"
  },
  "language_info": {
   "codemirror_mode": {
    "name": "ipython",
    "version": 3
   },
   "file_extension": ".py",
   "mimetype": "text/x-python",
   "name": "python",
   "nbconvert_exporter": "python",
   "pygments_lexer": "ipython3",
   "version": "3.10.10"
  },
  "orig_nbformat": 4
 },
 "nbformat": 4,
 "nbformat_minor": 2
}
