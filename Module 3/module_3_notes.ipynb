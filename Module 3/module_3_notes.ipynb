{
 "cells": [
  {
   "cell_type": "markdown",
   "metadata": {},
   "source": [
    "<h3> Data Types </h3>\n",
    "\n",
    "In real life, we classify values as certain types and depending on the type of value, we can do different things to them. The same is done in Python: Python has types of data (some basic, some more complex) and depending on which type of data something is, you can perform certain things to them. Generally, you will be dealing with the four basic data types:\n",
    "\n",
    "- `str`: read as \"string\", this data type represents any sort of text enclosed by a pair (or three pairs) of double or single quotes\n",
    "- `int`: read as int or integer, this data type represents any mathematical integer\n",
    "- `float`: read as float, this data type represents any number that has a decimal point\n",
    "- `bool`: read as bool or more formally known as boolean, this data type represents either `True`, `False`, or any value that is equivalent to those two values\n",
    "\n",
    "I'll refer to these types as strings, integers, floats, and booleans, but I may interchange them with `str`, `int`, `float`, and `bool`. You've used these before (except for `bool`). In Module 1, we used `print` to output strings and in Modules 1 and 2, we used integers to do some basic math. The outputs of some code in Module 3 had numbers that ended with \".0\", which means that they are floats."
   ]
  },
  {
   "cell_type": "markdown",
   "metadata": {},
   "source": [
    "<h2> Strings </h2>\n",
    "\n",
    "Strings are just characters stringed together (bah-duh-tss). A string must have quotation marks on both sides of it to differentiate it from variable names or keywords. These quotation marks must also be the same:"
   ]
  },
  {
   "cell_type": "code",
   "execution_count": 1,
   "metadata": {},
   "outputs": [
    {
     "ename": "SyntaxError",
     "evalue": "unterminated string literal (detected at line 4) (3217586811.py, line 4)",
     "output_type": "error",
     "traceback": [
      "\u001b[1;36m  Cell \u001b[1;32mIn[1], line 4\u001b[1;36m\u001b[0m\n\u001b[1;33m    mixed_quotes = \"Hi!'\u001b[0m\n\u001b[1;37m                   ^\u001b[0m\n\u001b[1;31mSyntaxError\u001b[0m\u001b[1;31m:\u001b[0m unterminated string literal (detected at line 4)\n"
     ]
    }
   ],
   "source": [
    "# Example 3-1: Strings!\n",
    "double_quotes = \"Hi!\"\n",
    "single_quotes = 'Hi!'\n",
    "mixed_quotes = \"Hi!'"
   ]
  },
  {
   "cell_type": "markdown",
   "metadata": {},
   "source": [
    "As you can see, the first two variables were made just fine, but the third variable caused an error because I did not enclose the text in the same type of parentheses. This being said, since quotation marks are used to signifiy the start and end of a string, how do we use them in text?\n",
    "\n",
    "<h3> Escape and Special Characters </h3>\n",
    "\n",
    "Well, this problem is solved by attaching a `\\` to the start of the quotation mark. `\\` undos the special meaning of a character and when used with certain characters, you actually create a new special character. If you wanted to use `\\` as text, then you just... add another one in front of it:"
   ]
  },
  {
   "cell_type": "code",
   "execution_count": 2,
   "metadata": {},
   "outputs": [
    {
     "name": "stdout",
     "output_type": "stream",
     "text": [
      "\"Hello!\", said the dog.\n",
      "What's your name?\n",
      "9\\10\\2023\n"
     ]
    }
   ],
   "source": [
    "# Example 3-2: Escape Characters\n",
    "sentence = \"\\\"Hello!\\\", said the dog.\"\n",
    "question = 'What\\'s your name?'\n",
    "weird_date = \"9\\\\10\\\\2023\"\n",
    "\n",
    "print(sentence)\n",
    "print(question)\n",
    "print(weird_date)"
   ]
  },
  {
   "cell_type": "markdown",
   "metadata": {},
   "source": [
    "As you can see, characters such as `\"`, `'`, and `\\` were outputted onto the screen although individually, they serve special functions. There are other special characters, notably in text (you'll see these a lot in text files):\n",
    "\n",
    "- Newline: `\\n`\n",
    "- Carriage Return: `\\r`\n",
    "- Tab (spacing): `\\t`\n",
    "\n",
    "Newline is very useful in forcing the output to continue onto the next line. Tab spacing will be taught in the future and carriage return is something you don't quite need to know in ENGR 102, but you will have to acknowledge its existence."
   ]
  },
  {
   "cell_type": "code",
   "execution_count": 3,
   "metadata": {},
   "outputs": [
    {
     "name": "stdout",
     "output_type": "stream",
     "text": [
      "Howdy,\n",
      "World!\n"
     ]
    }
   ],
   "source": [
    "# Example 3-3: Newline\n",
    "print(\"Howdy,\\nWorld!\")"
   ]
  },
  {
   "cell_type": "markdown",
   "metadata": {},
   "source": [
    "<h2> The (Painful) Game of What Type is the Output? </h2>\n",
    "\n",
    "Python has some quirks when it comes to guessing the type of the output after certain operations. Usually types of hard-coded values are very easy to identify (note: you can use `type()` to check the type of a value!):"
   ]
  },
  {
   "cell_type": "code",
   "execution_count": 4,
   "metadata": {},
   "outputs": [
    {
     "name": "stdout",
     "output_type": "stream",
     "text": [
      "<class 'str'>\n",
      "<class 'int'>\n",
      "<class 'float'>\n",
      "<class 'bool'>\n"
     ]
    }
   ],
   "source": [
    "# Example 3-4: Basic types\n",
    "print(type(\"Hi!\"))\n",
    "print(type(1))\n",
    "print(type(1.0))\n",
    "print(type(True))"
   ]
  },
  {
   "cell_type": "markdown",
   "metadata": {},
   "source": [
    "Don't worry on why it says `class`: this distinction is irrelevant for this course and all you need to understand is that the desired type was outputted as the second word. But, what if you're given some calculations and you're asked what type gets outputted? This is often troublesome when dealing with numbers because it's not super straightforward. Generally, the rules go like this:\n",
    "- If you add, subtract, multiply, modulo, raise to a power, or floor divide with two integers, you get an integer\n",
    "- If you divide any two numbers, you get a float\n",
    "- If you add, subtract, multiply, modulo, raise to a power, or floor divide with two numbers where at least one of them is a float, you get a float\n",
    "\n",
    "You could shorten this list to:\n",
    "- If you use only integers, you only get integers except:\n",
    "  - If the operation only returns a float (such as division)\n",
    "- If you ever use a float, the output is a float except:\n",
    "  - If the operation only returns an integer (very very few exceptions)"
   ]
  },
  {
   "cell_type": "code",
   "execution_count": 6,
   "metadata": {},
   "outputs": [
    {
     "name": "stdout",
     "output_type": "stream",
     "text": [
      "<class 'int'>\n",
      "<class 'int'>\n",
      "<class 'int'>\n",
      "<class 'float'>\n",
      "<class 'int'>\n",
      "<class 'int'>\n",
      "<class 'int'>\n",
      "\n",
      "<class 'float'>\n",
      "<class 'float'>\n",
      "<class 'float'>\n",
      "<class 'float'>\n",
      "<class 'float'>\n",
      "<class 'float'>\n",
      "<class 'float'>\n"
     ]
    }
   ],
   "source": [
    "# Example 3-5: Outputs Galore!\n",
    "print(type(1 + 1))\n",
    "print(type(1 - 1))\n",
    "print(type(1 * 1))\n",
    "print(type(1 / 1))\n",
    "print(type(1 ** 1))\n",
    "print(type(1 // 1))\n",
    "print(type(1 % 1))\n",
    "\n",
    "print()\n",
    "\n",
    "print(type(1.0 + 1))\n",
    "print(type(1.0 - 1))\n",
    "print(type(1.0 * 1))\n",
    "print(type(1.0 / 1))\n",
    "print(type(1.0 ** 1))\n",
    "print(type(1.0 // 1))\n",
    "print(type(1.0 % 1))"
   ]
  }
 ],
 "metadata": {
  "kernelspec": {
   "display_name": "base",
   "language": "python",
   "name": "python3"
  },
  "language_info": {
   "codemirror_mode": {
    "name": "ipython",
    "version": 3
   },
   "file_extension": ".py",
   "mimetype": "text/x-python",
   "name": "python",
   "nbconvert_exporter": "python",
   "pygments_lexer": "ipython3",
   "version": "3.10.10"
  },
  "orig_nbformat": 4
 },
 "nbformat": 4,
 "nbformat_minor": 2
}
