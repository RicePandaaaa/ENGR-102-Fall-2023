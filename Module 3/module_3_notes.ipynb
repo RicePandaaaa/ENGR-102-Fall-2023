{
 "cells": [
  {
   "cell_type": "markdown",
   "metadata": {},
   "source": [
    "<h3> Data Types </h3>\n",
    "\n",
    "In real life, we classify values as certain types and depending on the type of value, we can do different things to them. The same is done in Python: Python has types of data (some basic, some more complex) and depending on which type of data something is, you can perform certain things to them. Generally, you will be dealing with the four basic data types:\n",
    "\n",
    "- `str`: read as \"string\", this data type represents any sort of text enclosed by a pair (or three pairs) of double or single quotes\n",
    "- `int`: read as int or integer, this data type represents any mathematical integer\n",
    "- `float`: read as float, this data type represents any number that has a decimal point\n",
    "- `bool`: read as bool or more formally known as boolean, this data type represents either `True`, `False`, or any value that is equivalent to those two values\n",
    "\n",
    "I'll refer to these types as strings, integers, floats, and booleans, but I may interchange them with `str`, `int`, `float`, and `bool`. You've used these before (except for `bool`). In Module 1, we used `print` to output strings and in Modules 1 and 2, we used integers to do some basic math. The outputs of some code in Module 3 had numbers that ended with \".0\", which means that they are floats."
   ]
  },
  {
   "cell_type": "markdown",
   "metadata": {},
   "source": [
    "<h2> Strings </h2>\n",
    "\n",
    "Strings are just characters stringed together (bah-duh-tss). A string must have quotation marks on both sides of it to differentiate it from variable names or keywords. These quotation marks must also be the same:"
   ]
  },
  {
   "cell_type": "code",
   "execution_count": 1,
   "metadata": {},
   "outputs": [
    {
     "ename": "SyntaxError",
     "evalue": "unterminated string literal (detected at line 4) (3217586811.py, line 4)",
     "output_type": "error",
     "traceback": [
      "\u001b[1;36m  Cell \u001b[1;32mIn[1], line 4\u001b[1;36m\u001b[0m\n\u001b[1;33m    mixed_quotes = \"Hi!'\u001b[0m\n\u001b[1;37m                   ^\u001b[0m\n\u001b[1;31mSyntaxError\u001b[0m\u001b[1;31m:\u001b[0m unterminated string literal (detected at line 4)\n"
     ]
    }
   ],
   "source": [
    "# Example 3-1: Strings!\n",
    "double_quotes = \"Hi!\"\n",
    "single_quotes = 'Hi!'\n",
    "mixed_quotes = \"Hi!'"
   ]
  },
  {
   "cell_type": "markdown",
   "metadata": {},
   "source": [
    "As you can see, the first two variables were made just fine, but the third variable caused an error because I did not enclose the text in the same type of parentheses. This being said, since quotation marks are used to signifiy the start and end of a string, how do we use them in text?\n",
    "\n",
    "<h3> Escape and Special Characters </h3>\n",
    "\n",
    "Well, this problem is solved by attaching a `\\` to the start of the quotation mark. `\\` undos the special meaning of a character and when used with certain characters, you actually create a new special character. If you wanted to use `\\` as text, then you just... add another one in front of it:"
   ]
  },
  {
   "cell_type": "code",
   "execution_count": 2,
   "metadata": {},
   "outputs": [
    {
     "name": "stdout",
     "output_type": "stream",
     "text": [
      "\"Hello!\", said the dog.\n",
      "What's your name?\n",
      "9\\10\\2023\n"
     ]
    }
   ],
   "source": [
    "# Example 3-2: Escape Characters\n",
    "sentence = \"\\\"Hello!\\\", said the dog.\"\n",
    "question = 'What\\'s your name?'\n",
    "weird_date = \"9\\\\10\\\\2023\"\n",
    "\n",
    "print(sentence)\n",
    "print(question)\n",
    "print(weird_date)"
   ]
  },
  {
   "cell_type": "markdown",
   "metadata": {},
   "source": [
    "As you can see, characters such as `\"`, `'`, and `\\` were outputted onto the screen although individually, they serve special functions. There are other special characters, notably in text (you'll see these a lot in text files):\n",
    "\n",
    "- Newline: `\\n`\n",
    "- Carriage Return: `\\r`\n",
    "- Tab (spacing): `\\t`\n",
    "\n",
    "Newline is very useful in forcing the output to continue onto the next line. Tab spacing will be taught in the future and carriage return is something you don't quite need to know in ENGR 102, but you will have to acknowledge its existence."
   ]
  },
  {
   "cell_type": "code",
   "execution_count": 3,
   "metadata": {},
   "outputs": [
    {
     "name": "stdout",
     "output_type": "stream",
     "text": [
      "Howdy,\n",
      "World!\n"
     ]
    }
   ],
   "source": [
    "# Example 3-3: Newline\n",
    "print(\"Howdy,\\nWorld!\")"
   ]
  },
  {
   "cell_type": "markdown",
   "metadata": {},
   "source": [
    "<h2> The (Painful) Game of What Type is the Output? </h2>\n",
    "\n",
    "Python has some quirks when it comes to guessing the type of the output after certain operations. Usually types of hard-coded values are very easy to identify (note: you can use `type()` to check the type of a value!):"
   ]
  },
  {
   "cell_type": "code",
   "execution_count": 4,
   "metadata": {},
   "outputs": [
    {
     "name": "stdout",
     "output_type": "stream",
     "text": [
      "<class 'str'>\n",
      "<class 'int'>\n",
      "<class 'float'>\n",
      "<class 'bool'>\n"
     ]
    }
   ],
   "source": [
    "# Example 3-4: Basic types\n",
    "print(type(\"Hi!\"))\n",
    "print(type(1))\n",
    "print(type(1.0))\n",
    "print(type(True))"
   ]
  },
  {
   "cell_type": "markdown",
   "metadata": {},
   "source": [
    "Don't worry on why it says `class`: this distinction is irrelevant for this course and all you need to understand is that the desired type was outputted as the second word. But, what if you're given some calculations and you're asked what type gets outputted? This is often troublesome when dealing with numbers because it's not super straightforward. Generally, the rules go like this:\n",
    "- If you add, subtract, multiply, modulo, raise to a power, or floor divide with two integers, you get an integer\n",
    "- If you divide any two numbers, you get a float\n",
    "- If you add, subtract, multiply, modulo, raise to a power, or floor divide with two numbers where at least one of them is a float, you get a float\n",
    "\n",
    "You could shorten this list to:\n",
    "- If you use only integers, you only get integers except:\n",
    "  - If the operation only returns a float (such as division)\n",
    "- If you ever use a float, the output is a float except:\n",
    "  - If the operation only returns an integer (very very few exceptions)"
   ]
  },
  {
   "cell_type": "code",
   "execution_count": 6,
   "metadata": {},
   "outputs": [
    {
     "name": "stdout",
     "output_type": "stream",
     "text": [
      "<class 'int'>\n",
      "<class 'int'>\n",
      "<class 'int'>\n",
      "<class 'float'>\n",
      "<class 'int'>\n",
      "<class 'int'>\n",
      "<class 'int'>\n",
      "\n",
      "<class 'float'>\n",
      "<class 'float'>\n",
      "<class 'float'>\n",
      "<class 'float'>\n",
      "<class 'float'>\n",
      "<class 'float'>\n",
      "<class 'float'>\n"
     ]
    }
   ],
   "source": [
    "# Example 3-5: Outputs Galore!\n",
    "print(type(1 + 1))\n",
    "print(type(1 - 1))\n",
    "print(type(1 * 1))\n",
    "print(type(1 / 1))\n",
    "print(type(1 ** 1))\n",
    "print(type(1 // 1))\n",
    "print(type(1 % 1))\n",
    "\n",
    "print()\n",
    "\n",
    "print(type(1.0 + 1))\n",
    "print(type(1.0 - 1))\n",
    "print(type(1.0 * 1))\n",
    "print(type(1.0 / 1))\n",
    "print(type(1.0 ** 1))\n",
    "print(type(1.0 // 1))\n",
    "print(type(1.0 % 1))"
   ]
  },
  {
   "cell_type": "markdown",
   "metadata": {},
   "source": [
    "<h3> String Concatenation </h3>\n",
    "\n",
    "This is the formal term for adding strings together. When you add two strings together, you take the second string and attach it to the first (simply speaking). Technically speaking, we make a new string and combine the first and second together in the order they are added from left to right. As long as they are strings, they will be combined together as text, regardless if the text can be represented as a number:"
   ]
  },
  {
   "cell_type": "code",
   "execution_count": 7,
   "metadata": {},
   "outputs": [
    {
     "name": "stdout",
     "output_type": "stream",
     "text": [
      "Hi, my name is Anthony!\n"
     ]
    }
   ],
   "source": [
    "# Example 3-6: String Concatenation\n",
    "print(\"Hi, \" + \"my name is\" + \" Anthony!\")"
   ]
  },
  {
   "cell_type": "markdown",
   "metadata": {},
   "source": [
    "Note that I manually had to space everything apart. If you choose not to space the strings from one another, they get combined:"
   ]
  },
  {
   "cell_type": "code",
   "execution_count": 9,
   "metadata": {},
   "outputs": [
    {
     "name": "stdout",
     "output_type": "stream",
     "text": [
      "Hi,my name isAnthony!\n",
      "12\n"
     ]
    }
   ],
   "source": [
    "# Example 3-6: String Concatenation, No Spaces\n",
    "print(\"Hi,\" + \"my name is\" + \"Anthony!\")\n",
    "print(\"1\" + \"2\")"
   ]
  },
  {
   "cell_type": "markdown",
   "metadata": {},
   "source": [
    "Another thing to note is that you can only add a string to another string. If you try adding a number to a string, you will get an error:"
   ]
  },
  {
   "cell_type": "code",
   "execution_count": 10,
   "metadata": {},
   "outputs": [
    {
     "ename": "TypeError",
     "evalue": "can only concatenate str (not \"int\") to str",
     "output_type": "error",
     "traceback": [
      "\u001b[1;31m---------------------------------------------------------------------------\u001b[0m",
      "\u001b[1;31mTypeError\u001b[0m                                 Traceback (most recent call last)",
      "Cell \u001b[1;32mIn[10], line 2\u001b[0m\n\u001b[0;32m      1\u001b[0m \u001b[39m# Example 3-7: Failing to add a string and a number together\u001b[39;00m\n\u001b[1;32m----> 2\u001b[0m \u001b[39mprint\u001b[39m(\u001b[39m\"\u001b[39;49m\u001b[39mHi\u001b[39;49m\u001b[39m\"\u001b[39;49m \u001b[39m+\u001b[39;49m \u001b[39m2\u001b[39;49m)\n",
      "\u001b[1;31mTypeError\u001b[0m: can only concatenate str (not \"int\") to str"
     ]
    }
   ],
   "source": [
    "# Example 3-7: Failing to add a string and a number together\n",
    "print(\"Hi\" + 2)"
   ]
  },
  {
   "cell_type": "markdown",
   "metadata": {},
   "source": [
    "However, you can multiply a string by a number! If you do this, the string gets added to itself as many times equal to the number used (think of it this way: multiplication is just repeated addition) The order doesn't matter as long one value is a number, and the other value is a string. Out of the basic math operators, you can only add two strings together and multiply a string and a number: if you try to use any of the others, you will get errors."
   ]
  },
  {
   "cell_type": "code",
   "execution_count": 12,
   "metadata": {},
   "outputs": [
    {
     "name": "stdout",
     "output_type": "stream",
     "text": [
      "HiHiHiHiHi\n",
      "HiHiHiHiHi\n",
      "HiHiHiHiHi\n"
     ]
    }
   ],
   "source": [
    "# Example 3-8: String multiplication\n",
    "print(\"Hi\" * 5)\n",
    "\n",
    "print(\"Hi\" + \"Hi\" + \"Hi\" + \"Hi\"+ \"Hi\")\n",
    "\n",
    "print(5 * \"Hi\")"
   ]
  },
  {
   "cell_type": "markdown",
   "metadata": {},
   "source": [
    "<h2> Type Conversion </h2>\n",
    "\n",
    "Sometimes, you need your value as a certain value. Usually you do this because a certain function or operation returns a value as one type, but you needed the value as another. There are a bunch of rules to remember when converting between the four primitive types, and they are the following:\n",
    "- You can only convert a string into an integer if the contents inside represent an actual number (basically if you remove the quotes, is it an integer?)\n",
    "- You can only convert a string into a float if the contents inside represent an actual number (basically if you remove the quotes, is it any number?)\n",
    "- If you convert an integer into a float, you get the same number but with `.0` at the end\n",
    "- If you convert a float into an integer, you only get the whole part (the entire decimal part gets discarded, no rounding occurs)\n",
    "- If you convert any value into a boolean:\n",
    "  - If the value is a string:\n",
    "    - If the string is empty (`\"\"`), then you get `False`\n",
    "    - Any other string gets you `True`\n",
    "  - If the value is a number:\n",
    "    - If the number is equal to 0, then you get `False`\n",
    "    - Any other number gets you `True`\n",
    "- If you convert `True` (the boolean) into a...:\n",
    "  - ...string, you get `\"True\"`\n",
    "  - ...integer, you get 1\n",
    "  - ...float, you get 1.0\n",
    "- If you convert `False` (the boolean) into a...:\n",
    "  - ...string, you get `\"False\"`\n",
    "  - ...integer, you get 0\n",
    "  - ...float, you get 0.0\n",
    "\n",
    "Though a lot of rules, you will soon memorize them pretty quickly. For strings to numbers, the string must clearly just be a number but put inside of quotes (for int, the number specifically has to be a valid integer). Between numbers, you either add the decimal point (integer to float) or remove it entirely (float to integer). There's not really a shorthand for the boolean rules, you'll just have to memorize those although you really won't run into them much if at all.\n",
    "\n",
    "To actually do the conversion, just use:\n",
    "- `str(value)`: Converts `value` to a string\n",
    "- `int(value)`: Converts `value` to an integer\n",
    "- `float(value)`: Converts `value` to a float\n",
    "- `bool(value)`: Converts `value` to a boolean"
   ]
  },
  {
   "cell_type": "code",
   "execution_count": 14,
   "metadata": {},
   "outputs": [
    {
     "name": "stdout",
     "output_type": "stream",
     "text": [
      "1\n",
      "1.0\n",
      "\n",
      "1.0\n",
      "1\n",
      "\n",
      "False\n",
      "True\n",
      "False\n",
      "False\n",
      "True\n",
      "True\n",
      "\n",
      "True\n",
      "False\n",
      "1\n",
      "0\n",
      "1.0\n",
      "0.0\n"
     ]
    }
   ],
   "source": [
    "# Example 3-9: Type Conversions\n",
    "print(int(\"1\"))\n",
    "print(float(\"1.0\"))\n",
    "print()\n",
    "\n",
    "print(float(1))\n",
    "print(int(1.1))\n",
    "print()\n",
    "\n",
    "print(bool(\"\"))\n",
    "print(bool(\"hi!\"))\n",
    "print(bool(0))\n",
    "print(bool(0.0))\n",
    "print(bool(1))\n",
    "print(bool(2.1))\n",
    "print()\n",
    "\n",
    "print(str(True))\n",
    "print(str(False))\n",
    "print(int(True))\n",
    "print(int(False))\n",
    "print(float(True))\n",
    "print(float(False))"
   ]
  },
  {
   "cell_type": "markdown",
   "metadata": {},
   "source": [
    "<h2> Fancier printing </h2>\n",
    "\n",
    "`print` can actually support multiple values: it's how you enter in these values that determines the formatting and result of the output. Generally speaking, you list multiple values if you are trying to:\n",
    "- Print multiple items on the same line together (automatically separates with a space)\n",
    "- Edit the ending\n",
    "- Edit the separator (for bullet one)\n",
    "\n",
    "**For advanced programmers:** This is something I like to explain to advanced programmers a little differently since I really love figuring out the underlying code/patterns/behaviors of well... stuff. If you are unaware of Python's `*args`, Java's varargs (passing an array without a set size as an argument), or anything equivalent, I would skip past this section.\n",
    "\n",
    "Very basically speaking, the `print` function takes three arguments:\n",
    "- A list of objects (all objects have a string representation with `__repr__()`): `*args`\n",
    "- An optional separator to separate each object should there be more than one (defaults to `\" \"`): `sep`\n",
    "- An optional ending to end the string with (defaults to `\"\\n\"`): `end`\n",
    "\n",
    "Thus using `print` is just like calling any other function: call `print` and pass in the necessary arguments to ensure the formatting is proper. Feel free to refer to the code below for an equivalent enough implementation of `print`. Personally I learn better through seeing code, so maybe this can help for more well-versed programmers.\n"
   ]
  },
  {
   "cell_type": "code",
   "execution_count": 19,
   "metadata": {},
   "outputs": [
    {
     "name": "stdout",
     "output_type": "stream",
     "text": [
      "Hi! | 2 | 3.0 | True[:D]\n"
     ]
    }
   ],
   "source": [
    "# Advanced Example 3-10: Printing from scratch\n",
    "import sys\n",
    "\n",
    "def basic_print(*args: type[object], sep: str=\" \", end: str=\"\\n\") -> None:\n",
    "    items = [str(arg) for arg in args]\n",
    "    new_string = sep.join(items) + end\n",
    "    sys.stdout.write(new_string)\n",
    "\n",
    "basic_print(\"Hi!\", 2, 3.0, True, sep=\" | \", end=\"[:D]\\n\")"
   ]
  },
  {
   "cell_type": "markdown",
   "metadata": {},
   "source": [
    "<h3> Printing Multiple Things </h3>\n",
    "\n",
    "Instead of adding all the strings together or perhaps converting some values to string and then adding them, you can literally list them in the `print` statement and have them outputted with a space in between them:"
   ]
  },
  {
   "cell_type": "code",
   "execution_count": 21,
   "metadata": {},
   "outputs": [
    {
     "name": "stdout",
     "output_type": "stream",
     "text": [
      "Hi! My age is 20 and my GPA is -4.0\n"
     ]
    }
   ],
   "source": [
    "# Example 3-11: Printing multiple things\n",
    "print(\"Hi! My age is\", 20, \"and my GPA is\", -4.0)"
   ]
  },
  {
   "cell_type": "markdown",
   "metadata": {},
   "source": [
    "Just separate the values with commas and there you go! Note though this auto-converts values to strings for you, you must be aware of what the string representation of each value is. Some more complex data types have very, very weird string representations and you will want to manually manipulate that value somehow to obtain the desired representation. If you don't want to spaces in between, just specify the separator with `sep=`:"
   ]
  },
  {
   "cell_type": "code",
   "execution_count": null,
   "metadata": {},
   "outputs": [],
   "source": [
    "# Example 3-12: Separating things my way\n",
    "print(\"Hi! My age is\", 20, \"and my GPA is\", -4.0, sep=\" | \")"
   ]
  },
  {
   "cell_type": "markdown",
   "metadata": {},
   "source": [
    "You can also specify the ending to be different (it defaults to newline, which is why usually every `print` statement makes the next line of output start on the next line) with `end=`:"
   ]
  },
  {
   "cell_type": "code",
   "execution_count": 22,
   "metadata": {},
   "outputs": [
    {
     "name": "stdout",
     "output_type": "stream",
     "text": [
      "Hi! My age is 20 and my GPA is -4.0 || It's Miss Rev!\n"
     ]
    }
   ],
   "source": [
    "# Example 3-12: Ending things my way\n",
    "print(\"Hi! My age is\", 20, \"and my GPA is\", -4.0, end=\" || \")\n",
    "print(\"It's Miss Rev!\")"
   ]
  },
  {
   "cell_type": "markdown",
   "metadata": {},
   "source": [
    "See, no newline this time and instead, the string I used for `end` is used to end the line. You can also use both `sep=` and `end=`. Do note that they must be the last items in the list (you will get an error if you use `end=` or `sep=` in the middle of your list of values). A valid example of using both is shown below:"
   ]
  },
  {
   "cell_type": "code",
   "execution_count": 23,
   "metadata": {},
   "outputs": [
    {
     "name": "stdout",
     "output_type": "stream",
     "text": [
      "Hi! My age is /\\ 20 /\\ and my GPA is /\\ -4.0 || It's Miss Rev!\n"
     ]
    }
   ],
   "source": [
    "# Example 3-13: Separatng and ending things my way\n",
    "print(\"Hi! My age is\", 20, \"and my GPA is\", -4.0, sep=\" /\\\\ \", end=\" || \")\n",
    "print(\"It's Miss Rev!\")"
   ]
  },
  {
   "cell_type": "markdown",
   "metadata": {},
   "source": [
    "<h2> F-Strings </h2>\n",
    "\n",
    "Although you can list multiple values to join them as shown above, there's actually a more user-friendly way to format strings in general: f-strings. F-strings, or formatted string literals, allow you to put in variable values inside the string and format them accordingly. The basic usage of f-string is as follows:"
   ]
  },
  {
   "cell_type": "code",
   "execution_count": 24,
   "metadata": {},
   "outputs": [
    {
     "name": "stdout",
     "output_type": "stream",
     "text": [
      "My name is Anthony\n"
     ]
    }
   ],
   "source": [
    "# Example 3-14: F-string basic usage\n",
    "name = \"Anthony\"\n",
    "print(f\"My name is {name}\")"
   ]
  },
  {
   "cell_type": "markdown",
   "metadata": {},
   "source": [
    "Note two key features:\n",
    "- The string starts with `f`: this defines the string to be a f-string\n",
    "- The variable is inserted into a pair of curly brackets\n",
    "\n",
    "It is within these curly brackets where you insert in a variable or some sort of value and then format that value so that it is displayed in a manner of your choosing. Generally, you want to use f-strings for one of two reasons (at least in this class):\n",
    "- Alignment + spacing (these two tend to go hand-in-hand)\n",
    "- Decimal precision\n",
    "\n",
    "Any formatting specifiers must be applied in this format: `{value:formatting stuff here}`. So within the curly brackets, the value being placed inside the string and formatted must be on the left side of the colon, and all the formatting specifiers must be on the right hand side of the colon. \n",
    "\n",
    "<h3> Alignment + Spacing </h3>\n",
    "\n",
    "You can choose how much space a value should have in the string and whether the value should be left-aligned, right-aligned, or centered:\n",
    "- Left-aligned (`<`)\n",
    "- Right-aligned (`>`)\n",
    "- Centered (`^`)\n",
    "\n",
    "Right after the colon, use one of those three to set the alignment and then insert a number to specify the width (how much spaces the value takes). Note that if you put a string inside a f-string, you must use quotes that are not the same as the original quotes (in other words, use single quotes if the f-string uses double quotes and vice versa):"
   ]
  },
  {
   "cell_type": "code",
   "execution_count": 26,
   "metadata": {},
   "outputs": [
    {
     "name": "stdout",
     "output_type": "stream",
     "text": [
      "|Hi!       |\n",
      "|       Hi!|\n",
      "|   Hi!    |\n",
      "|Hi!|\n"
     ]
    }
   ],
   "source": [
    "# Example 3-15: Alignment + spacing\n",
    "print(f\"|{'Hi!':<10}|\")\n",
    "print(f\"|{'Hi!':>10}|\")\n",
    "print(f\"|{'Hi!':^10}|\")\n",
    "print(f\"|{'Hi!':<1}|\")"
   ]
  },
  {
   "cell_type": "markdown",
   "metadata": {},
   "source": [
    "You can see that the alignment is done correctly (note that centering text prefers slightly to the left if the text cannot be perfectly centered), and that the appropriate amount of space is given. If you declared too little space, then the value will just take as much space as needed but no extra (this is as if you printed the value without alignment or spacing). You can also skip the alignment specifier and just do the number, which will adjust how much spacing is needed (and will default to left-align):"
   ]
  },
  {
   "cell_type": "code",
   "execution_count": 28,
   "metadata": {},
   "outputs": [
    {
     "name": "stdout",
     "output_type": "stream",
     "text": [
      "|Hi!       |\n"
     ]
    }
   ],
   "source": [
    "# Example 3-16: Just spacing\n",
    "print(f\"|{'Hi!':10}|\")"
   ]
  },
  {
   "cell_type": "markdown",
   "metadata": {},
   "source": [
    "<h3> Decimal Precision </h3>\n",
    "\n",
    "Number formatting is relatively straight-forward, here's the format: `{value:x.yf}`. `value` is of course, the value we want to put in and format (and in this case, has to be a number). `x` is the same as the spacing as mentioned above, except this time, it's number of digts (and defaults to right-align). As said before, if the number has more digits than `x`, then the number will take up just as much space as possible without taking extra space. `y` is how many decimal points to round to (this is proper rounding so will round down if < 0.5, round up otherwise). `f` is not actually a value but rather the letter: this signifies that this is float formatting, so it will output the decimal points."
   ]
  },
  {
   "cell_type": "code",
   "execution_count": 45,
   "metadata": {},
   "outputs": [
    {
     "name": "stdout",
     "output_type": "stream",
     "text": [
      "3.14\n",
      "  33.33333\n",
      "33.33333  \n"
     ]
    }
   ],
   "source": [
    "# Example 3-17: Decimal Precision\n",
    "print(f\"{3.1415:.2f}\")\n",
    "print(f\"{100/3:10.5f}\")\n",
    "print(f\"{100/3:<10.5f}\")"
   ]
  }
 ],
 "metadata": {
  "kernelspec": {
   "display_name": "base",
   "language": "python",
   "name": "python3"
  },
  "language_info": {
   "codemirror_mode": {
    "name": "ipython",
    "version": 3
   },
   "file_extension": ".py",
   "mimetype": "text/x-python",
   "name": "python",
   "nbconvert_exporter": "python",
   "pygments_lexer": "ipython3",
   "version": "3.10.10"
  },
  "orig_nbformat": 4
 },
 "nbformat": 4,
 "nbformat_minor": 2
}
