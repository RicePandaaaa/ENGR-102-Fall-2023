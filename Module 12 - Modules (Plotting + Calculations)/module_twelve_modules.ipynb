{
 "cells": [
  {
   "cell_type": "markdown",
   "metadata": {},
   "source": [
    "<h2 style=\"color: #EC4000;\"> Modules </h2>\n",
    "\n",
    "Modules, or libraries, are files containing Python code that can be executed by other programs when imported. In fact, you've used modules already, such as `math`. Once you import a module, you gain access to all public code, including functions that can help you do something that would be incredibly difficult to do manually. In fact, technically any Python file you have made so far can be a module, though whether they'd be useful or helpful is a whole another story.\n",
    "\n",
    "There exists two Python files in this folder: `oyoy.py` and `yoyo.py`. These are their contents:\n",
    "\n",
    "`oyoy.py`:\n",
    "```python\n",
    "def oy():\n",
    "    print(\"oy\")\n",
    "\n",
    "def yo():\n",
    "    print(\"yo oy\")\n",
    "\n",
    "print(\"OY OY\")\n",
    "```\n",
    "\n",
    "`yoyo.py`:\n",
    "```python\n",
    "def yo():\n",
    "    print(\"YO\")\n",
    "\n",
    "def yos():\n",
    "    print(\"YO YO YO\")\n",
    "\n",
    "\n",
    "if __name__ == \"__main__\":\n",
    "    print(\"YOOOOOOOO\")\n",
    "```\n",
    "\n",
    "They both have a function or two, but keep in mind the difference of where the `print` statement is located. This will be important in a minute."
   ]
  },
  {
   "cell_type": "markdown",
   "metadata": {},
   "source": [
    "<h5 style=\"color: #EC4000;\"> Importing Modules </h5>\n",
    "\n",
    "There are three ways to import modules, one uses `import` and the other two use `from` + `import`. You have used these already in previous labs, but I will still review these methods:\n",
    "\n",
    "- Import but must specify module in code: `import`\n",
    "- Import without specifying module in code: `from` + `import`\n",
    " - Import *everything*: `from module import *`\n",
    " - Import just what you need: `from module import func1, func2...`\n",
    "\n",
    "Generally, using `from module import *` is never recommended, if not just forbidden. It is a very unsafe practice since at a glance, you may not know which module a function comes from. This is a problem when you have a lot of modules being imported as it is harder to specify a function's usage (`log()` is a lot more vague than `math.log()`) and when modules have functions that share the same name (such as the two modules I have above). Let's go ahead and try importing the two modules first.\n"
   ]
  },
  {
   "cell_type": "code",
   "execution_count": 1,
   "metadata": {},
   "outputs": [
    {
     "name": "stdout",
     "output_type": "stream",
     "text": [
      "OY OY\n"
     ]
    }
   ],
   "source": [
    "# Example 12-1: Just the imports\n",
    "\n",
    "import yoyo, oyoy"
   ]
  },
  {
   "cell_type": "markdown",
   "metadata": {},
   "source": [
    "How come there's output? It seems that the \"OY OY\" output is only possible if the `print()` in `oyoy.py` was executed. This leads us to our next section.\n",
    "\n",
    "<h5 style=\"color: #EC4000;\"> if __name__ == \"__main__\" </h5>\n",
    "\n",
    "When Python imports a module, it *must* execute the file. This is how Python works. There's no way around it. So when I imported the two modules in Example 12-1, Python actually ran both files. It makes sense that when Python runs `oyoy.py` that it would output \"OY OY\" due to the `print()` statement. So why is there no output from `yoyo.py` although it too has a `print()` statement? What exactly does that `if` statement do.\n",
    "\n",
    "The `if` statement basically says, if the file I am *directly* running is indeed the same one Python is in, then Python will execute the code in the `if` statement. Now, if Python is in the file, but the original file being run is different, then the code in the `if` statement should be skipped. In my example above, the original code being run is the code block that contains Example 12-1, *not* `yoyo.py`. So when Python goes into `yoyo.py` to run it (because `yoyo` is being imported), Python notes that `yoyo.py` is not the original file that Python is running and skips the `if` statement and thus skips the `print` statement too.\n",
    "\n",
    "The less technical explanation is that the `if` statement prevents code inside to be run if the file is being imported."
   ]
  },
  {
   "cell_type": "markdown",
   "metadata": {},
   "source": [
    "<h5 style=\"color: #EC4000;\"> Actually importing stuff </h5>\n",
    "\n",
    "With Examples 12-2 and 12-3, I will demonstrate module imports using `from` and/or `import`. Remember that if you use `from`, you *must* also use `import`."
   ]
  },
  {
   "cell_type": "code",
   "execution_count": 2,
   "metadata": {},
   "outputs": [
    {
     "name": "stdout",
     "output_type": "stream",
     "text": [
      "YO\n",
      "YO YO YO\n"
     ]
    }
   ],
   "source": [
    "# Example 12-2: Classic import\n",
    "\n",
    "import yoyo\n",
    "\n",
    "yoyo.yo()\n",
    "yoyo.yos()"
   ]
  },
  {
   "cell_type": "code",
   "execution_count": 3,
   "metadata": {},
   "outputs": [
    {
     "name": "stdout",
     "output_type": "stream",
     "text": [
      "YO\n",
      "YO YO YO\n"
     ]
    }
   ],
   "source": [
    "# Example 12-3: Using from\n",
    "\n",
    "# You can just import one or the other if you wanted to, but I just wanted to show this so you have an example of importing multiple functions from the same module\n",
    "from yoyo import yo, yos\n",
    "\n",
    "yo()\n",
    "yos()"
   ]
  },
  {
   "cell_type": "markdown",
   "metadata": {},
   "source": [
    "<h5 style=\"color: #EC4000;\"> Name Conflicts </h5>\n",
    "\n",
    "Examples 12-4 and 12-5 show why it is dangerous to do `from module import *`. Even if you specified the function itself instead by replacing `import *` with `import yo`, you run into the same fundamental problem: two modules have a function that share the same name (Example 12-6)."
   ]
  },
  {
   "cell_type": "markdown",
   "metadata": {},
   "source": []
  },
  {
   "cell_type": "code",
   "execution_count": 1,
   "metadata": {},
   "outputs": [
    {
     "name": "stdout",
     "output_type": "stream",
     "text": [
      "OY OY\n",
      "yo oy\n"
     ]
    }
   ],
   "source": [
    "# Example 12-4: Function names are the same\n",
    "\n",
    "from yoyo import *\n",
    "from oyoy import *\n",
    "\n",
    "yo()"
   ]
  },
  {
   "cell_type": "code",
   "execution_count": 1,
   "metadata": {},
   "outputs": [
    {
     "name": "stdout",
     "output_type": "stream",
     "text": [
      "OY OY\n",
      "YO\n"
     ]
    }
   ],
   "source": [
    "# Example 12-5: Function names are the same but flipped order of import\n",
    "\n",
    "from oyoy import *\n",
    "from yoyo import *\n",
    "\n",
    "yo()"
   ]
  },
  {
   "cell_type": "code",
   "execution_count": 1,
   "metadata": {},
   "outputs": [
    {
     "name": "stdout",
     "output_type": "stream",
     "text": [
      "OY OY\n",
      "yo oy\n"
     ]
    }
   ],
   "source": [
    "# Example 12-6: Still a problem even if you specify the function\n",
    "\n",
    "from yoyo import yo\n",
    "from oyoy import yo\n",
    "\n",
    "yo()"
   ]
  },
  {
   "cell_type": "markdown",
   "metadata": {},
   "source": [
    "All in all, just stick to using `import module` or `from module import func1, func2, ...` as demonstrated in Examples 12-2 and 12-3 though if you use the `from` method, still double check that your functions don't share the same name with another function."
   ]
  },
  {
   "cell_type": "markdown",
   "metadata": {},
   "source": [
    "<h5 style=\"color: #EC4000;\"> Packages </h5>\n",
    "\n",
    "Packages are just folders that contain modules. You got cows and herds of cows. Now you got modules and packages of modules. As simple as that. You know how if you wanted to use a function from a module, you usually do `module.function()` assuming you imported using `import module`? If you want to grab a module from a package, then you do exactly that format:"
   ]
  },
  {
   "cell_type": "code",
   "execution_count": 1,
   "metadata": {},
   "outputs": [
    {
     "name": "stdout",
     "output_type": "stream",
     "text": [
      "Boo!\n"
     ]
    }
   ],
   "source": [
    "# Example 12-7: Using a module inside a package\n",
    "import fake_package.inside_a_package\n",
    "\n",
    "fake_package.inside_a_package.hi()"
   ]
  },
  {
   "cell_type": "markdown",
   "metadata": {},
   "source": [
    "Of course, using `from` will also work:"
   ]
  },
  {
   "cell_type": "code",
   "execution_count": 2,
   "metadata": {},
   "outputs": [
    {
     "name": "stdout",
     "output_type": "stream",
     "text": [
      "Boo!\n"
     ]
    }
   ],
   "source": [
    "# Example 12-8: Using \"from\" with a package\n",
    "from fake_package.inside_a_package import hi\n",
    "\n",
    "hi()"
   ]
  },
  {
   "cell_type": "markdown",
   "metadata": {},
   "source": [
    "However, I'm not particularly a fan of that since you still directly import the function and can use it without needing to specify from what module you got it from, so I rather just import only the module:"
   ]
  },
  {
   "cell_type": "code",
   "execution_count": 3,
   "metadata": {},
   "outputs": [
    {
     "name": "stdout",
     "output_type": "stream",
     "text": [
      "Boo!\n"
     ]
    }
   ],
   "source": [
    "# Example 12-9: Using \"from\" with a package but only for the module\n",
    "from fake_package import inside_a_package\n",
    "\n",
    "inside_a_package.hi()"
   ]
  },
  {
   "cell_type": "markdown",
   "metadata": {},
   "source": [
    "<h5 style=\"color: #EC4000;\"> \"as\" keyword </h5>\n",
    "\n",
    "What if your module name is super long? Imagine continuing with Example 12-7 and having to type `fake_package.inside_a_package` *every single time*. Even worse, when you're taking your *paper* exam, and you have to *write* it out by hand. Luckily, Python lets you use the `as` keyword to let you tell Python how you want to refer to the module when you import it:"
   ]
  },
  {
   "cell_type": "code",
   "execution_count": 4,
   "metadata": {},
   "outputs": [
    {
     "name": "stdout",
     "output_type": "stream",
     "text": [
      "Boo!\n"
     ]
    }
   ],
   "source": [
    "# Example 12-10: Using \"as\"\n",
    "import fake_package.inside_a_package as iap\n",
    "\n",
    "iap.hi()"
   ]
  },
  {
   "cell_type": "markdown",
   "metadata": {},
   "source": [
    "That's so much simpler to use. Note that whatever you name the reference as, the name must abide by the usual variable naming rules. And of course, it works with `from`:"
   ]
  },
  {
   "cell_type": "code",
   "execution_count": 5,
   "metadata": {},
   "outputs": [
    {
     "name": "stdout",
     "output_type": "stream",
     "text": [
      "Boo!\n"
     ]
    }
   ],
   "source": [
    "# Example 12-11: Using \"as\" with \"from\"\n",
    "from fake_package import inside_a_package as ins\n",
    "\n",
    "ins.hi()"
   ]
  },
  {
   "cell_type": "markdown",
   "metadata": {},
   "source": [
    "I do however recommend you don't do this with functions although it is possible:"
   ]
  },
  {
   "cell_type": "code",
   "execution_count": 6,
   "metadata": {},
   "outputs": [
    {
     "name": "stdout",
     "output_type": "stream",
     "text": [
      "Boo!\n"
     ]
    }
   ],
   "source": [
    "# Example 12-12: Using \"as\" for a function\n",
    "from fake_package.inside_a_package import hi as h\n",
    "\n",
    "h()"
   ]
  },
  {
   "cell_type": "markdown",
   "metadata": {},
   "source": [
    "However, if you do like pranking your friends, this is a very fun thing to do."
   ]
  },
  {
   "cell_type": "markdown",
   "metadata": {},
   "source": [
    "<h5 style=\"color: #EC4000;\"> Standard Library </h5>\n",
    "\n",
    "I won't go much into this at all. I think Zybooks (12.8) does a handy job, but I just wanted to refresh your mind about the existance of these libraries. Remember that modules such as `math` and `time` do not require you to install any additional files (with `pip`, `conda`, `pip3`, manual install, etc.) since they are part of Python's standard library. \n",
    "\n",
    "Sometimes it's hard keeping track of all of them, and you run into some weird behavior. Rarely, but it does happen, people name their file after a module in the standard library. Weirdly enough, it's usually `random.py`. There indeed is a `random` module, and yes, Python uses *your files* over the standard library. This can cause some trouble if you were looking to use the standard library's module. **If you are running Example 12-13 by yourself, note that I had to rename `random.py` to `not_random.py` so Jupyter Notebook would stop getting mad at me. You may have to rename the file back to `random.py` for Example 12-13 to \"work\" then change it back to `not_random.py` so the rest of the code cells will work.**"
   ]
  },
  {
   "cell_type": "code",
   "execution_count": null,
   "metadata": {},
   "outputs": [
    {
     "ename": "",
     "evalue": "",
     "output_type": "error",
     "traceback": [
      "\u001b[1;31mThe file 'Module 12 - Modules (Plotting + Calculations' seems to be overriding built in modules and interfering with the startup of the kernel. Consider renaming the file and starting the kernel again.\n",
      "\u001b[1;31mClick <a href='https://aka.ms/kernelFailuresOverridingBuiltInModules'>here</a> for more info."
     ]
    }
   ],
   "source": [
    "# Example 12-13: Using random... or are we?\n",
    "\n",
    "import random\n",
    "\n",
    "print(random.yo())"
   ]
  },
  {
   "cell_type": "markdown",
   "metadata": {},
   "source": [
    "Python itself is not this nice with the error message usually, but you can see that it is an issue that's recognized."
   ]
  },
  {
   "cell_type": "markdown",
   "metadata": {},
   "source": [
    "<h5 style=\"color: #EC4000;\"> Importing... itself? </h5>\n",
    "\n",
    "You might have thought of what happens if you import the module *within* itself. It's actually fine weirdly. I won't go through the details, but basically once Python imports it once, it's all good to go. I made `circle.py` to demonstrate this.\n",
    "\n",
    "`circle.py`:\n",
    "```python\n",
    "import circle\n",
    "\n",
    "def hi():\n",
    "    print(\"HI\")\n",
    "\n",
    "circle.hi()\n",
    "```\n",
    "\n",
    "Example 12-14 will put us in for a *round* of fun:"
   ]
  },
  {
   "cell_type": "code",
   "execution_count": 3,
   "metadata": {},
   "outputs": [
    {
     "name": "stdout",
     "output_type": "stream",
     "text": [
      "HI\n"
     ]
    }
   ],
   "source": [
    "# Example 12-14: Circular importing\n",
    "\n",
    "import circle\n",
    "\n",
    "circle.hi()"
   ]
  },
  {
   "cell_type": "markdown",
   "metadata": {},
   "source": [
    "There are potential issues when two modules import each other, but the requirements for this to become a circular import error include knowledge beyond the scope of this class, so for the most part, you won't have to worry about this. Do try to avoid having two modules import each other at all though, it can get a bit awkward at times. If you are curious about the circular import error, feel free to search \"circular import error example Python\" in your favorite search engine!"
   ]
  }
 ],
 "metadata": {
  "kernelspec": {
   "display_name": "Python 3",
   "language": "python",
   "name": "python3"
  },
  "language_info": {
   "codemirror_mode": {
    "name": "ipython",
    "version": 3
   },
   "file_extension": ".py",
   "mimetype": "text/x-python",
   "name": "python",
   "nbconvert_exporter": "python",
   "pygments_lexer": "ipython3",
   "version": "3.11.5"
  }
 },
 "nbformat": 4,
 "nbformat_minor": 2
}
