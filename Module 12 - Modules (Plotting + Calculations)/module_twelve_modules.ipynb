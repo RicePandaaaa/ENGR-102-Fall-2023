{
 "cells": [
  {
   "cell_type": "markdown",
   "metadata": {},
   "source": [
    "<h2 style=\"color: #EC4000;\"> Modules </h2>\n",
    "\n",
    "Modules, or libraries, are files containing Python code that can be executed by other programs when imported. In fact, you've used modules already, such as `math`. Once you import a module, you gain access to all public code, including functions that can help you do something that would be incredibly difficult to do manually. In fact, technically any Python file you have made so far can be a module, though whether they'd be useful or helpful is a whole another story.\n",
    "\n",
    "There exists two Python files in this folder: `oyoy.py` and `yoyo.py`. These are their contents:\n",
    "\n",
    "`oyoy.py`:\n",
    "```python\n",
    "def oy():\n",
    "    print(\"oy\")\n",
    "\n",
    "def yo():\n",
    "    print(\"yo oy\")\n",
    "\n",
    "print(\"OY OY\")\n",
    "```\n",
    "\n",
    "`yoyo.py`:\n",
    "```python\n",
    "def yo():\n",
    "    print(\"YO\")\n",
    "\n",
    "def yos():\n",
    "    print(\"YO YO YO\")\n",
    "\n",
    "\n",
    "if __name__ == \"__main__\":\n",
    "    print(\"YOOOOOOOO\")\n",
    "```\n",
    "\n",
    "They both have a function or two, but keep in mind the difference of where the `print` statement is located. This will be important in a minute."
   ]
  },
  {
   "cell_type": "markdown",
   "metadata": {},
   "source": [
    "<h5 style=\"color: #EC4000;\"> Importing Modules </h5>\n",
    "\n",
    "There are three ways to import modules, one uses `import` and the other two use `from` + `import`. You have used these already in previous labs, but I will still review these methods:\n",
    "\n",
    "- Import but must specify module in code: `import`\n",
    "- Import without specifying module in code: `from` + `import`\n",
    " - Import *everything*: `from module import *`\n",
    " - Import just what you need: `from module import func1, func2...`\n",
    "\n",
    "Generally, using `from module import *` is never recommended, if not just forbidden. It is a very unsafe practice since at a glance, you may not know which module a function comes from. This is a problem when you have a lot of modules being imported as it is harder to specify a function's usage (`log()` is a lot more vague than `math.log()`) and when modules have functions that share the same name (such as the two modules I have above). Let's go ahead and try importing the two modules first.\n"
   ]
  },
  {
   "cell_type": "code",
   "execution_count": 1,
   "metadata": {},
   "outputs": [
    {
     "name": "stdout",
     "output_type": "stream",
     "text": [
      "OY OY\n"
     ]
    }
   ],
   "source": [
    "# Example 12-1: Just the imports\n",
    "\n",
    "import yoyo, oyoy"
   ]
  },
  {
   "cell_type": "markdown",
   "metadata": {},
   "source": [
    "How come there's output? It seems that the \"OY OY\" output is only possible if the `print()` in `oyoy.py` was executed. This leads us to our next section.\n",
    "\n",
    "<h5 style=\"color: #EC4000;\"> if __name__ == \"__main__\" </h5>\n",
    "\n",
    "When Python imports a module, it *must* execute the file. This is how Python works. There's no way around it. So when I imported the two modules in Example 12-1, Python actually ran both files. It makes sense that when Python runs `oyoy.py` that it would output \"OY OY\" due to the `print()` statement. So why is there no output from `yoyo.py` although it too has a `print()` statement? What exactly does that `if` statement do.\n",
    "\n",
    "The `if` statement basically says, if the file I am *directly* running is indeed the same one Python is in, then Python will execute the code in the `if` statement. Now, if Python is in the file, but the original file being run is different, then the code in the `if` statement should be skipped. In my example above, the original code being run is the code block that contains Example 12-1, *not* `yoyo.py`. So when Python goes into `yoyo.py` to run it (because `yoyo` is being imported), Python notes that `yoyo.py` is not the original file that Python is running and skips the `if` statement and thus skips the `print` statement too.\n",
    "\n",
    "The less technical explanation is that the `if` statement prevents code inside to be run if the file is being imported."
   ]
  },
  {
   "cell_type": "markdown",
   "metadata": {},
   "source": [
    "<h5 style=\"color: #EC4000;\"> Actually importing stuff </h5>\n",
    "\n",
    "With Examples 12-2 and 12-3, I will demonstrate module imports using `from` and/or `import`. Remember that if you use `from`, you *must* also use `import`."
   ]
  },
  {
   "cell_type": "code",
   "execution_count": 2,
   "metadata": {},
   "outputs": [
    {
     "name": "stdout",
     "output_type": "stream",
     "text": [
      "YO\n",
      "YO YO YO\n"
     ]
    }
   ],
   "source": [
    "# Example 12-2: Classic import\n",
    "\n",
    "import yoyo\n",
    "\n",
    "yoyo.yo()\n",
    "yoyo.yos()"
   ]
  },
  {
   "cell_type": "code",
   "execution_count": 3,
   "metadata": {},
   "outputs": [
    {
     "name": "stdout",
     "output_type": "stream",
     "text": [
      "YO\n",
      "YO YO YO\n"
     ]
    }
   ],
   "source": [
    "# Example 12-3: Using from\n",
    "\n",
    "# You can just import one or the other if you wanted to, but I just wanted to show this so you have an example of importing multiple functions from the same module\n",
    "from yoyo import yo, yos\n",
    "\n",
    "yo()\n",
    "yos()"
   ]
  },
  {
   "cell_type": "markdown",
   "metadata": {},
   "source": [
    "<h5 style=\"color: #EC4000;\"> Name Conflicts </h5>\n",
    "\n",
    "Examples 12-4 and 12-5 show why it is dangerous to do `from module import *`. Even if you specified the function itself instead by replacing `import *` with `import yo`, you run into the same fundamental problem: two modules have a function that share the same name (Example 12-6)."
   ]
  },
  {
   "cell_type": "markdown",
   "metadata": {},
   "source": []
  },
  {
   "cell_type": "code",
   "execution_count": 1,
   "metadata": {},
   "outputs": [
    {
     "name": "stdout",
     "output_type": "stream",
     "text": [
      "OY OY\n",
      "yo oy\n"
     ]
    }
   ],
   "source": [
    "# Example 12-4: Function names are the same\n",
    "\n",
    "from yoyo import *\n",
    "from oyoy import *\n",
    "\n",
    "yo()"
   ]
  },
  {
   "cell_type": "code",
   "execution_count": 1,
   "metadata": {},
   "outputs": [
    {
     "name": "stdout",
     "output_type": "stream",
     "text": [
      "OY OY\n",
      "YO\n"
     ]
    }
   ],
   "source": [
    "# Example 12-5: Function names are the same but flipped order of import\n",
    "\n",
    "from oyoy import *\n",
    "from yoyo import *\n",
    "\n",
    "yo()"
   ]
  },
  {
   "cell_type": "code",
   "execution_count": 1,
   "metadata": {},
   "outputs": [
    {
     "name": "stdout",
     "output_type": "stream",
     "text": [
      "OY OY\n",
      "yo oy\n"
     ]
    }
   ],
   "source": [
    "# Example 12-6: Still a problem even if you specify the function\n",
    "\n",
    "from yoyo import yo\n",
    "from oyoy import yo\n",
    "\n",
    "yo()"
   ]
  },
  {
   "cell_type": "markdown",
   "metadata": {},
   "source": [
    "All in all, just stick to using `import module` or `from module import func1, func2, ...` as demonstrated in Examples 12-2 and 12-3 though if you use the `from` method, still double check that your functions don't share the same name with another function."
   ]
  }
 ],
 "metadata": {
  "kernelspec": {
   "display_name": "Python 3",
   "language": "python",
   "name": "python3"
  },
  "language_info": {
   "codemirror_mode": {
    "name": "ipython",
    "version": 3
   },
   "file_extension": ".py",
   "mimetype": "text/x-python",
   "name": "python",
   "nbconvert_exporter": "python",
   "pygments_lexer": "ipython3",
   "version": "3.11.5"
  }
 },
 "nbformat": 4,
 "nbformat_minor": 2
}
