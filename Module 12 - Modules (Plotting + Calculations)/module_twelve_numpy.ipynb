{
 "cells": [
  {
   "cell_type": "markdown",
   "metadata": {},
   "source": [
    "<h2 style=\"color: #EC4000;\"> numpy </h2>\n",
    "\n",
    "`numpy` is a popular module for mathematical calculations, and `matplotlib` is a popular module for data visualization and being misspelled as `mathplotlib`. Usually these two along with `pandas` form the trio of usual suspects when it comes to what you use for data processing. `pandas` is optional for this course though, so I won't be going over them. I will go over `numpy` (this set of notes) and `matplotlib` (the other set of notes named `module_twelve_matplotlib`), but it won't be incredibly in-depth. Questions asked involving those modules have historically been quite straight-forward: they're not anything super complex but still require you to have a good understanding of the basics.\n",
    "\n",
    "I will going over content *useful for this course* within the modules' quick start guides:\n",
    "- `numpy` quickstart guide: https://numpy.org/doc/stable/user/quickstart.html\n",
    "- `matplotlib` quickstart guide: https://matplotlib.org/stable/users/explain/quick_start.html\n",
    "\n",
    "Note that neither module are in the standard library, so you will have to install them. Generally, using the terminal to install using `pip`/`pip3`/`conda` is recommended.\n",
    "\n",
    "`pip` installation:\n",
    "\n",
    "```python\n",
    "pip install numpy\n",
    "pip install matplotlib\n",
    "```\n",
    "\n",
    "`pip3` installation:\n",
    "```python\n",
    "pip3 install numpy\n",
    "pip3 install matplotlib\n",
    "```\n",
    "\n",
    "`conda` installation:\n",
    "```python\n",
    "conda install numpy\n",
    "conda install matplotlib\n",
    "```\n",
    "\n",
    "There should be a PDF with instructions on how to install both modules in your Canvas course for your section."
   ]
  },
  {
   "cell_type": "markdown",
   "metadata": {},
   "source": [
    "<h5 style=\"color: #EC4000;\"> numpy overview </h5>\n",
    "\n",
    "The core of `numpy` lays in using multi-dimensional arrays (mathematically speaking, matrices). You have seen multi-dimensional arrays before in the form of nested/multi-dimensional lists. A list of lists is a 2D list specifically, and `numpy` allows you to make a 2D `numpy` array using a 2D list. I'll get more into the details in a bit, but just keep the last sentence in mind. Some students have mentioned in the past that mentally treating a `numpy` array as a super fancy Python list helped them learn this module more easily (and to be honest, a `numpy` array *is* a super fancy Python list)."
   ]
  },
  {
   "cell_type": "markdown",
   "metadata": {},
   "source": [
    "<h5 style=\"color: #EC4000;\"> Making the array </h5>\n",
    "\n",
    "An array in `numpy` can be created as the result of a `numpy` operation or directly using `numpy.array()`. The former will be discussed later, but for now, I will focus on the latter. Example 12N-1 showcases a 1D array and a 2D array:  "
   ]
  },
  {
   "cell_type": "code",
   "execution_count": 3,
   "metadata": {},
   "outputs": [
    {
     "name": "stdout",
     "output_type": "stream",
     "text": [
      "[2 0 2 5]\n",
      "[[1 2 3]\n",
      " [4 5 6]\n",
      " [7 8 9]]\n"
     ]
    }
   ],
   "source": [
    "# Example 12N-1: Making the data\n",
    "\n",
    "\"\"\"\n",
    "Since usually you will be using a lot of numpy functions (and thus, you have to type \"numpy.function()\" a LOT, it is easier to shorthand numpy as np to reduce visual clutter and to save your fingers from typing so much)\n",
    "\"\"\"\n",
    "import numpy as np\n",
    "\n",
    "a = np.array([2, 0, 2, 5])\n",
    "b = np.array([[1, 2, 3], \n",
    "             [4, 5, 6], \n",
    "             [7, 8, 9]])\n",
    "\n",
    "print(a)\n",
    "print(b)"
   ]
  },
  {
   "cell_type": "markdown",
   "metadata": {},
   "source": [
    "Note that there is always exactly *one* list that gets passed into `array()`. `a` is formed using one 1D list, and `b` is formed using one 2D list. If I use wrote `np.array(2, 0, 2, 5)` or `np.array([1, 2, 3], [4, 5, 6], [7, 8, 9])`, `numpy` would get angry at me. Also, my formatting for `b` is perfectly legal. For 2D lists, I like writing each inner list on a separate line since that makes visualizing the 2D list and its dimensions much more easier.\n",
    "\n",
    "Now the cool thing is, when I print the arrays, the commas are removed!"
   ]
  },
  {
   "cell_type": "markdown",
   "metadata": {},
   "source": [
    "<h5 style=\"color: #EC4000;\"> Array attributes </h5>\n",
    "\n",
    "`numpy` array attributes are just attributes of the array: accessing any one of them will give you the corresponding information about that attribute. Though the guide lists six of them, only the first four are relevant to us at the moment:\n",
    "\n",
    "- `ndim`: number of axes (dimensions)\n",
    "- `shape`: the dimensions of the array\n",
    "- `size`: the total number of elements within the whole array\n",
    "- `dtype`: the datatype of the elements within the array\n",
    "\n",
    "Note that for `ndim`, I introduced the term \"axes\" (plural form of \"axis\"). It is important to note that when we refer to the axes, we are just talking about the dimensions *themselves*, not the size of the dimensions (which are shown with `shape`). The following example showcases the four attributes:"
   ]
  },
  {
   "cell_type": "code",
   "execution_count": 6,
   "metadata": {},
   "outputs": [
    {
     "name": "stdout",
     "output_type": "stream",
     "text": [
      "ndim: 2\n",
      "shape: (2, 3)\n",
      "size: 6\n",
      "dtype: int32\n"
     ]
    }
   ],
   "source": [
    "# Example 12N-2: numpy attributes\n",
    "\n",
    "import numpy as np\n",
    "\n",
    "c = np.array([[1, 2, 3],\n",
    "              [4, 5, 6]])\n",
    "\n",
    "print(\"ndim:\", c.ndim)\n",
    "print(\"shape:\", c.shape)\n",
    "print(\"size:\", c.size)\n",
    "print(\"dtype:\", c.dtype)"
   ]
  },
  {
   "cell_type": "markdown",
   "metadata": {},
   "source": [
    "As expected of a 2D array, there are two dimensions. For a 2D array, the shape is defined as `(rows, columns)` or more typically as `(rows, cols)`.  Do not think of `(x, y)` since that would be `(cols, rows)`: just think of how you would process a 2D list normally. You would go through each inner list (each row) then each element (each column) in each row. `c` has 2 rows and 3 columns, and thus its shape is `(2, 3)`. The total number of elements is just the product of all the numbers in the `shape`, so 2x3 = 6. \n",
    "\n",
    "The important part of the `dtype` is the part before the number, so you just need to worry about the `int`. This shows that `c` consists of just `int` values. The 32 is the number of bits, which gives you more information about what *the size* of `int` (or any numeric data type). Generally speaking, the bigger the number, the larger the range of numbers the datatype can support. For `int`, this is better visualized if you consider the range of numbers is from `-(2^(n-1))` to `(2^(n-1)) - 1` where `n` is the number of bits. Do you really need to know the full range given `n` bits? Not now, but if you end up dealing with very large or very precise numbers, then ensuring the data type is large enough can be important."
   ]
  },
  {
   "cell_type": "markdown",
   "metadata": {},
   "source": [
    "<h5 style=\"color: #EC4000;\"> Zeroes and Ones </h5>\n",
    "\n",
    "What if you wanted to make an array with just zeroes or just ones given the array shape? Well, we actually have functions for those: `zeroes()` for zeroes and `ones()` for ones. These are great functions to quickly make a default array that you can adjust later."
   ]
  },
  {
   "cell_type": "code",
   "execution_count": 11,
   "metadata": {},
   "outputs": [
    {
     "name": "stdout",
     "output_type": "stream",
     "text": [
      "[[[0. 0. 0. 0.]\n",
      "  [0. 0. 0. 0.]\n",
      "  [0. 0. 0. 0.]]\n",
      "\n",
      " [[0. 0. 0. 0.]\n",
      "  [0. 0. 0. 0.]\n",
      "  [0. 0. 0. 0.]]]\n",
      "----\n",
      "[[[1. 1. 1. 1.]\n",
      "  [1. 1. 1. 1.]\n",
      "  [1. 1. 1. 1.]]\n",
      "\n",
      " [[1. 1. 1. 1.]\n",
      "  [1. 1. 1. 1.]\n",
      "  [1. 1. 1. 1.]]]\n"
     ]
    }
   ],
   "source": [
    "# Example 12N-3: Zeroes and Ones\n",
    "\n",
    "import numpy as np\n",
    "\n",
    "blank = np.zeros((2, 3, 4))\n",
    "full = np.ones((2, 3, 4))\n",
    "\n",
    "print(blank)\n",
    "print(\"----\")\n",
    "print(full)"
   ]
  },
  {
   "cell_type": "markdown",
   "metadata": {},
   "source": [
    "Using tuples instead of lists to pass in the shape is recommended for clarity. One, the `shape` attribute is a *tuple* (so it makes sense to pass one in for the shape though you can pass in a list and the code will be fine), and two, it's so you don't confuse the code with `np.array()` which directly turns your list into a `numpy` array. This is just a personal recommendation, but it's pretty common for people to use tuples for shapes (the quickstart guide also does this).\n",
    "\n",
    "The easiest way to read a shape is *backwards*. So using (2, 3, 4) as an example:\n",
    "1. Starting at the end, I see 4. This means I will start with a list of 4 elements\n",
    "2. I go backwards and I see 3. This means I want exactly 3 lists with 4 elements\n",
    "3. I go backwards and I see 2. This means I want exactly 2 lists of 3 lists with 4 elements each\n",
    "\n",
    "You can then form the array visually using this logic:\n",
    "\n",
    "```python\n",
    "# 1. List of four elements\n",
    "[0, 0, 0, 0]\n",
    "\n",
    "# 2. 3 of the above in a list\n",
    "[[0, 0, 0, 0],\n",
    " [0, 0, 0, 0],\n",
    " [0, 0, 0, 0]]\n",
    "\n",
    "# 3. 2 of the above in a list\n",
    "[[[0, 0, 0, 0],\n",
    "  [0, 0, 0, 0],\n",
    "  [0, 0, 0, 0]],\n",
    "  \n",
    " [[0, 0, 0, 0],\n",
    "  [0, 0, 0, 0],\n",
    "  [0, 0, 0, 0]]]\n",
    "```\n",
    "\n",
    "And that's the output for `blank` from Example 12N-3. Note that the actual output has `float`s instead of `int`s as with my typed-out output above. We can verify this with Example 12N-4."
   ]
  },
  {
   "cell_type": "code",
   "execution_count": 12,
   "metadata": {},
   "outputs": [
    {
     "name": "stdout",
     "output_type": "stream",
     "text": [
      "float64\n"
     ]
    }
   ],
   "source": [
    "# Example 12N-4: What dtype is blank?\n",
    "\n",
    "import numpy as np\n",
    "\n",
    "blank = np.zeros((2, 3, 4))\n",
    "print(blank.dtype)"
   ]
  },
  {
   "cell_type": "markdown",
   "metadata": {},
   "source": [
    "Generally `numpy` will default to floats, but if you really need 0s, then you can specify the datatype (which I don't believe you need to *memorize*, just recognize):"
   ]
  },
  {
   "cell_type": "code",
   "execution_count": 13,
   "metadata": {},
   "outputs": [
    {
     "name": "stdout",
     "output_type": "stream",
     "text": [
      "int64\n",
      "[[[0 0 0 0]\n",
      "  [0 0 0 0]\n",
      "  [0 0 0 0]]\n",
      "\n",
      " [[0 0 0 0]\n",
      "  [0 0 0 0]\n",
      "  [0 0 0 0]]]\n"
     ]
    }
   ],
   "source": [
    "# Example 12N-5: Specifiying the dtype\n",
    "\n",
    "import numpy as np\n",
    "\n",
    "blank = np.zeros((2, 3, 4), dtype=np.int64)\n",
    "print(blank.dtype)\n",
    "print(blank)"
   ]
  },
  {
   "cell_type": "markdown",
   "metadata": {},
   "source": [
    "The decimal points disappeared and the datatype is now `int64`. If you forget how to adjust the datatype, you can always manually create the multi-dimensional list, fill it with 0s (or whatever number), then make a `np.array()` with that list:"
   ]
  },
  {
   "cell_type": "code",
   "execution_count": 14,
   "metadata": {},
   "outputs": [
    {
     "name": "stdout",
     "output_type": "stream",
     "text": [
      "[[[0, 0, 0, 0], [0, 0, 0, 0], [0, 0, 0, 0]], [[0, 0, 0, 0], [0, 0, 0, 0], [0, 0, 0, 0]]]\n",
      "int32\n",
      "[[[0 0 0 0]\n",
      "  [0 0 0 0]\n",
      "  [0 0 0 0]]\n",
      "\n",
      " [[0 0 0 0]\n",
      "  [0 0 0 0]\n",
      "  [0 0 0 0]]]\n"
     ]
    }
   ],
   "source": [
    "# Example 12N-6: The hard way\n",
    "\n",
    "import numpy as np\n",
    "\n",
    "# Store information\n",
    "multi_dim_list = []\n",
    "shape = (2, 3, 4)\n",
    "\n",
    "for x in range(shape[0]):\n",
    "    # Store the lists of 0s\n",
    "    sub_list = []\n",
    "    for y in range(shape[1]):\n",
    "        # Make a list with shape[2] 0s\n",
    "        inner_most_list = [0] * shape[2]\n",
    "\n",
    "        # Add to sublist\n",
    "        sub_list.append(inner_most_list)\n",
    "    # Add sublist to main list\n",
    "    multi_dim_list.append(sub_list)\n",
    "\n",
    "print(multi_dim_list)\n",
    "\n",
    "# Form the array\n",
    "blank = np.array(multi_dim_list)\n",
    "print(blank.dtype)\n",
    "print(blank)\n"
   ]
  },
  {
   "cell_type": "markdown",
   "metadata": {},
   "source": [
    "Also notice that printing the 3D list results in a single line of text that is much less readable than the neatly formatted output when printing out the 3D array."
   ]
  },
  {
   "cell_type": "markdown",
   "metadata": {},
   "source": [
    "<h5 style=\"color: #EC4000;\"> arange and reshape </h5>\n",
    "\n",
    "You remember `range()` helping you effectively make a list of numbers that you can iterate over using a `for` loop? Well there's something similar in `numpy` called `arange()`, which does the same exact thing but you get an array instead. One key feature of `arange()` is that it accepts *floating point arguments*:"
   ]
  },
  {
   "cell_type": "code",
   "execution_count": 15,
   "metadata": {},
   "outputs": [
    {
     "name": "stdout",
     "output_type": "stream",
     "text": [
      "[0 1 2 3 4 5 6 7 8 9]\n",
      "---\n",
      "[1 2 3 4 5 6 7 8 9]\n",
      "---\n",
      "[1 3 5 7 9]\n"
     ]
    }
   ],
   "source": [
    "# Example 12N-7: arange()\n",
    "\n",
    "import numpy as np\n",
    "\n",
    "print(np.arange(10))\n",
    "print(\"---\")\n",
    "print(np.arange(1, 10))\n",
    "print(\"---\")\n",
    "print(np.arange(1, 10, 2))"
   ]
  },
  {
   "cell_type": "markdown",
   "metadata": {},
   "source": [
    "Now you may be thinking, this isn't super useful since it can only make 1D arrays. What if I wanted more dimensions? Remember how the `size` attribute gave you the number of elements and that it is equal to the product of the dimension sizes from the `shape` attribute? If you know how many elements you have, you can just define a valid shape that would give you the same `size`. For example, `np.arange(10)` has 10 elements, so a valid shape would be `(2, 5)` as a 2 by 5 array has 10 elements. The function you need to actually reshape this array is called `reshape()`:"
   ]
  },
  {
   "cell_type": "code",
   "execution_count": 17,
   "metadata": {},
   "outputs": [
    {
     "name": "stdout",
     "output_type": "stream",
     "text": [
      "[0 1 2 3 4 5 6 7 8 9]\n",
      "---\n",
      "[[0 1 2 3 4]\n",
      " [5 6 7 8 9]]\n",
      "---\n"
     ]
    },
    {
     "ename": "ValueError",
     "evalue": "cannot reshape array of size 10 into shape (3,4)",
     "output_type": "error",
     "traceback": [
      "\u001b[1;31m---------------------------------------------------------------------------\u001b[0m",
      "\u001b[1;31mValueError\u001b[0m                                Traceback (most recent call last)",
      "Cell \u001b[1;32mIn[17], line 9\u001b[0m\n\u001b[0;32m      7\u001b[0m \u001b[38;5;28mprint\u001b[39m(np\u001b[38;5;241m.\u001b[39marange(\u001b[38;5;241m10\u001b[39m)\u001b[38;5;241m.\u001b[39mreshape(\u001b[38;5;241m2\u001b[39m, \u001b[38;5;241m5\u001b[39m))\n\u001b[0;32m      8\u001b[0m \u001b[38;5;28mprint\u001b[39m(\u001b[38;5;124m\"\u001b[39m\u001b[38;5;124m---\u001b[39m\u001b[38;5;124m\"\u001b[39m)\n\u001b[1;32m----> 9\u001b[0m \u001b[38;5;28mprint\u001b[39m(\u001b[43mnp\u001b[49m\u001b[38;5;241;43m.\u001b[39;49m\u001b[43marange\u001b[49m\u001b[43m(\u001b[49m\u001b[38;5;241;43m10\u001b[39;49m\u001b[43m)\u001b[49m\u001b[38;5;241;43m.\u001b[39;49m\u001b[43mreshape\u001b[49m\u001b[43m(\u001b[49m\u001b[38;5;241;43m3\u001b[39;49m\u001b[43m,\u001b[49m\u001b[43m \u001b[49m\u001b[38;5;241;43m4\u001b[39;49m\u001b[43m)\u001b[49m)\n",
      "\u001b[1;31mValueError\u001b[0m: cannot reshape array of size 10 into shape (3,4)"
     ]
    }
   ],
   "source": [
    "# Example 12N-8: Reshaping a 1D array\n",
    "\n",
    "import numpy as np\n",
    "\n",
    "print(np.arange(10))\n",
    "print(\"---\")\n",
    "print(np.arange(10).reshape(2, 5))\n",
    "print(\"---\")\n",
    "print(np.arange(10).reshape(3, 4))"
   ]
  },
  {
   "cell_type": "markdown",
   "metadata": {},
   "source": [
    "As you can see from the error message, if your shape supports a different amount of elements than the number of elements generated by `arange()`, then you get an error because `numpy` either doesn't have enough space for all the elements or doesn't know what to fill the extra space with. With the above example, `(3, 4)` imples 12 elements (3 x 4 = 12), but I only have 10 elements in my array generated by `arange(10)`. Since there is a size mismtach, an error is thrown.\n",
    "\n",
    "By the way, if you have way too many elements to be realistically printed, then `numpy` will just give you the boundaries (the corners) of the array:"
   ]
  },
  {
   "cell_type": "code",
   "execution_count": 18,
   "metadata": {},
   "outputs": [
    {
     "name": "stdout",
     "output_type": "stream",
     "text": [
      "[[   0    1    2 ...   97   98   99]\n",
      " [ 100  101  102 ...  197  198  199]\n",
      " [ 200  201  202 ...  297  298  299]\n",
      " ...\n",
      " [9700 9701 9702 ... 9797 9798 9799]\n",
      " [9800 9801 9802 ... 9897 9898 9899]\n",
      " [9900 9901 9902 ... 9997 9998 9999]]\n"
     ]
    }
   ],
   "source": [
    "# Example 12N-9: Corners!\n",
    "\n",
    "import numpy as np\n",
    "\n",
    "print(np.arange(10000).reshape(100, 100))"
   ]
  },
  {
   "cell_type": "markdown",
   "metadata": {},
   "source": [
    "The \"...\" tells you that `numpy` has skipped the values between the value to its left and the value to its right or the value above it and the value below it."
   ]
  },
  {
   "cell_type": "markdown",
   "metadata": {},
   "source": [
    "<h5 style=\"color: #EC4000;\"> linspace </h5>\n",
    "\n",
    "`arange()` is very powerful, but it has one major flaw: floating point error. Python is always susceptible to floating point error (the rounding errors that plagued Labs 1 and 2), and `arange()` may give you strange results if you make it generate floats. The main issue is that this may also *change how many elements you have*. `linspace()` is a function very similar to `arange()` except for two things:\n",
    "- The ending number is *included*\n",
    "- The third argument is no longer the step but rather *the size*\n",
    "\n",
    "So `linspace()` (not `linespace()`, a common misspelling) gives you exactly the amount of numbers between two numbers inclusive, no matter what. It will control the spacing."
   ]
  },
  {
   "cell_type": "code",
   "execution_count": 5,
   "metadata": {},
   "outputs": [
    {
     "name": "stdout",
     "output_type": "stream",
     "text": [
      "[ 1.          3.85714286  6.71428571  9.57142857 12.42857143 15.28571429\n",
      " 18.14285714 21.        ]\n"
     ]
    }
   ],
   "source": [
    "# Example 12N-10: linspace\n",
    "\n",
    "import numpy as np\n",
    "\n",
    "print(np.linspace(1, 21, 8))"
   ]
  },
  {
   "cell_type": "markdown",
   "metadata": {},
   "source": [
    "This allows you to more safely use `reshape()` since you are certain what the `size` of the array is. The auto-spacing is also nice (the output has the decimal points aligned so the numbers are easier to read). Unline `arange()`, all three arguments must be provided (the starting number, the ending number, and the size)."
   ]
  },
  {
   "cell_type": "markdown",
   "metadata": {},
   "source": [
    "<h5 style=\"color: #EC4000;\"> Recognizing basic functions </h5>\n",
    "\n",
    "There are *a lot of functions* in `numpy`. Based on the most recent time I checked the quickstart guide (August 28, 2024), the quickstart guide lists:\n",
    "- 18 functions for array creation\n",
    "- 5 functions for conversions\n",
    "- 20 functions for manipulations\n",
    "- 4 for questions\n",
    "- 8 for ordering\n",
    "- 12 for operations\n",
    "- 4 for basic statistics\n",
    "- 5 for basic linear algebra\n",
    "\n",
    "And these is just the quickstart guide's *list of just some of the useful functions*. Do not panic, you do not need to memorize all of them (yet... nah I'm messing with you, you might only need to memorize a couple there and there), but you should recognize the obviously named ones. `max()` gives you the maximum value for example."
   ]
  },
  {
   "cell_type": "code",
   "execution_count": 6,
   "metadata": {},
   "outputs": [
    {
     "name": "stdout",
     "output_type": "stream",
     "text": [
      "5\n"
     ]
    }
   ],
   "source": [
    "# Example 12N-11: max()\n",
    "\n",
    "import numpy as np\n",
    "\n",
    "print(np.array([1, 5, 2, 3]).max())"
   ]
  },
  {
   "cell_type": "markdown",
   "metadata": {},
   "source": [
    "If you are reading a question and you don't recognize the function right away, make a good guess based on the name of the function. 99.99% of the time, your guess will be almost, if not exactly, correct. Feel free to play with some of the other functions mentioned in Zybooks, but I won't cover them myself. `array()`, `arange()`, `linspace()`, and `reshape()` are essential for forming and shaping your data and hence why I talked about them. But the others are more for manipulating and doing stuff with the data, so I think it's best not to go too in-depth with them all (it's quite a deep rabbit hole if I got to fully yap about everything)."
   ]
  },
  {
   "cell_type": "markdown",
   "metadata": {},
   "source": [
    "<h5 style=\"color: #EC4000;\"> Basic Operations </h5>"
   ]
  }
 ],
 "metadata": {
  "kernelspec": {
   "display_name": "Python 3",
   "language": "python",
   "name": "python3"
  },
  "language_info": {
   "codemirror_mode": {
    "name": "ipython",
    "version": 3
   },
   "file_extension": ".py",
   "mimetype": "text/x-python",
   "name": "python",
   "nbconvert_exporter": "python",
   "pygments_lexer": "ipython3",
   "version": "3.11.5"
  }
 },
 "nbformat": 4,
 "nbformat_minor": 2
}
