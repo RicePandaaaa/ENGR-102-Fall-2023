{
 "cells": [
  {
   "cell_type": "markdown",
   "metadata": {},
   "source": [
    "<h2 style=\"color: #EC4000\"> Print Statements </h2>\n",
    "\n",
    "The `print` statement is your primary method of outputting text or any sort of value onto the console. This is helpful for two reasons:\n",
    "- Debugging: You can visually check values and behaviors within your code\n",
    "- Output: You can show to the user the results of your code\n",
    "\n",
    "An example of the `print` statement can be seen below:\n",
    "\n"
   ]
  },
  {
   "cell_type": "code",
   "execution_count": 1,
   "metadata": {},
   "outputs": [
    {
     "name": "stdout",
     "output_type": "stream",
     "text": [
      "Howdy, World!\n"
     ]
    }
   ],
   "source": [
    "# Example 1-1: the print statement\n",
    "print(\"Howdy, World!\")"
   ]
  },
  {
   "cell_type": "markdown",
   "metadata": {},
   "source": [
    "Once you run the code above, you should have seen the sentence, \"Howdy, World!\", be displayed. Note that the `print` statement needs to know what to output into the screen. The \"stuff\" you put inside the parentheses is what ends up being outputted. In future lectures, you will be taught of different ways to format the contents that go into those parentheses. \n",
    "\n",
    "But for now, understand that the most basic function of `print` is to display text (the characters that appear in between a pair of double quotes (\"\") or single quotes ('')) or display numbers (does not require using quotations as Python understands how to output numbers).\n",
    "\n",
    "Try modifying the text in the below `print` statements if you wish to to play around with the `print` statement."
   ]
  },
  {
   "cell_type": "code",
   "execution_count": 2,
   "metadata": {},
   "outputs": [
    {
     "name": "stdout",
     "output_type": "stream",
     "text": [
      "CHANGE THIS TEXT WITHOUT REMOVING THE QUOTES\n",
      "5\n"
     ]
    }
   ],
   "source": [
    "# Example 1-2: the print statement (again)\n",
    "print(\"CHANGE THIS TEXT WITHOUT REMOVING THE QUOTES\")\n",
    "print(5)"
   ]
  },
  {
   "cell_type": "markdown",
   "metadata": {},
   "source": [
    "Also note that if you put nothing inside the parentheses, you get a blank line:"
   ]
  },
  {
   "cell_type": "code",
   "execution_count": 1,
   "metadata": {},
   "outputs": [
    {
     "name": "stdout",
     "output_type": "stream",
     "text": [
      "Howdy,\n",
      "\n",
      "World!\n"
     ]
    }
   ],
   "source": [
    "# Example 1-3: Blank Line\n",
    "print(\"Howdy,\")\n",
    "print()\n",
    "print(\"World!\")"
   ]
  },
  {
   "cell_type": "markdown",
   "metadata": {},
   "source": [
    "<h2 style=\"color: #EC4000\"> Basic Math </h2>\n",
    "\n",
    "Python does know some basic math. These operations include your fundemental four:\n",
    "- Addition (`+`)\n",
    "- Subtraction (`-`)\n",
    "- Multiplication (`*`)\n",
    "- Division (`/`)\n",
    "\n",
    "and three more useful operators:\n",
    "- Power (`**`)\n",
    "- Floor (Integer) Division (`//`)\n",
    "- Modulus (`%`)\n",
    "\n",
    "The first five listed (fundamental four + power) are self-explanatory. Floor/integer division divides two numbers and only returns the whole part: the remainder is thrown away. Modulus is the opposite of floor/integer division: the remainder is returned and the whole part is thrown away. The below example demonstrates the seven operations in action:"
   ]
  },
  {
   "cell_type": "code",
   "execution_count": 3,
   "metadata": {},
   "outputs": [
    {
     "name": "stdout",
     "output_type": "stream",
     "text": [
      "2\n",
      "0\n",
      "6\n",
      "1.3333333333333333\n",
      "81\n",
      "1\n",
      "1\n"
     ]
    }
   ],
   "source": [
    "# Example 1-4: The basic math stuff\n",
    "print(1 + 1)\n",
    "print(1 - 1)\n",
    "print(2 * 3)\n",
    "print(4 / 3)\n",
    "\n",
    "print(3 ** 4)\n",
    "print(4 // 3)\n",
    "print(4 % 3)"
   ]
  },
  {
   "cell_type": "markdown",
   "metadata": {},
   "source": [
    "<h2 style=\"color: #EC4000\"> Comments </h2>\n",
    "\n",
    "You may have noticed that in my examples so far, the first line doesn't seem to do anything. It surely says something, such as `# Example 1-3: The basic math stuff`, but Python seems to ignore the lines that start with a `#`. This is what we call a comment: any line that starts with a `#`. These comments are purposefully ignored by Python and serve to let us... put comments... on our code. \n",
    "\n",
    "Comments are integral to setting up the structure of your code and helping others understand your code. Learning how to code can lead to very messy solutions, which is completely fine! However, people may not be able to understand right away, especially with more complex solutions, so comments can help others (such as PTs like me) to understand your thought process and your code.\n",
    "\n",
    "<h3 style=\"color: #EC4000\"> Multi-Line Comments </h3>\n",
    "\n",
    "A special type of comment exists, and it's called a multi-line comment. Remember how with `print` statements, you had to surround text with a double (or single) quote on each side? If you do three quotes on each side instead, you get a multi-line (text that can go on multiple lines). If you start a line with a multi-line, then you have a multi-line comment. This distinction and definition is demonstrated in Example 1-4:\n"
   ]
  },
  {
   "cell_type": "code",
   "execution_count": 7,
   "metadata": {},
   "outputs": [
    {
     "name": "stdout",
     "output_type": "stream",
     "text": [
      "\n",
      "This is another multi-line,\n",
      "but this will be outputted.\n",
      " \n"
     ]
    }
   ],
   "source": [
    "# Example 1-5: Multi-lines\n",
    "\"\"\"\n",
    "This\n",
    "is a\n",
    "multi-line\n",
    "comment\n",
    "and will be ignored\n",
    "\"\"\"\n",
    "\n",
    "print(\"\"\"\n",
    "This is another multi-line,\n",
    "but this will be outputted.\n",
    " \"\"\")"
   ]
  }
 ],
 "metadata": {
  "kernelspec": {
   "display_name": "base",
   "language": "python",
   "name": "python3"
  },
  "language_info": {
   "codemirror_mode": {
    "name": "ipython",
    "version": 3
   },
   "file_extension": ".py",
   "mimetype": "text/x-python",
   "name": "python",
   "nbconvert_exporter": "python",
   "pygments_lexer": "ipython3",
   "version": "3.10.10"
  },
  "orig_nbformat": 4
 },
 "nbformat": 4,
 "nbformat_minor": 2
}
