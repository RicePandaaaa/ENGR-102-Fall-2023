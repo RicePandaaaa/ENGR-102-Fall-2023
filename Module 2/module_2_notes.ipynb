{
 "cells": [
  {
   "cell_type": "markdown",
   "metadata": {},
   "source": [
    "<h2> Variables </h2>\n",
    "\n",
    "So what if you wanted Python to remember a certain value? `print` will output stuff onto the screen, but the stuff on the screen is not stored into memory: you can't reuse it. If you wanted to re-use a value or just in general, have Python remember something, we use something called variables. You can refer to a variable as a box of memory: it has a name so Python knows which variable is which, and it stores some value inside of it."
   ]
  },
  {
   "cell_type": "markdown",
   "metadata": {},
   "source": [
    "<h3> Variable Assignment </h3>\n",
    "\n",
    "Now how do you make one? You name it, and you assign it something (usually a default value or an actual value). The usual format goes as follows: `name = value`. You can read this as the value stored inside the variable named \"name\" is equal to the value represented by \"value\". Here's a few examples of how this is done:"
   ]
  },
  {
   "cell_type": "code",
   "execution_count": 2,
   "metadata": {},
   "outputs": [
    {
     "name": "stdout",
     "output_type": "stream",
     "text": [
      "Anthony\n",
      "20\n"
     ]
    }
   ],
   "source": [
    "# Example 2-1: Variable Assignment\n",
    "name = \"Anthony\"\n",
    "age = 4 * 5\n",
    "\n",
    "print(name)\n",
    "print(age)"
   ]
  },
  {
   "cell_type": "markdown",
   "metadata": {},
   "source": [
    "Note that you can also change the values of variables with this! If the variable already exists, then Python will simply update that variable with the new value you gave it:"
   ]
  },
  {
   "cell_type": "code",
   "execution_count": 3,
   "metadata": {},
   "outputs": [
    {
     "name": "stdout",
     "output_type": "stream",
     "text": [
      "Anthony\n",
      "Tony\n",
      "2\n"
     ]
    }
   ],
   "source": [
    "# Example 2-2: Reassigning Variables\n",
    "name = \"Anthony\"\n",
    "print(name)\n",
    "name = \"Tony\"\n",
    "print(name)\n",
    "name = 1 * 2\n",
    "print(name)"
   ]
  },
  {
   "cell_type": "markdown",
   "metadata": {},
   "source": [
    "<h3> Sequential Steps </h3>\n",
    "\n",
    "Notice that the code above went in order: the first line executed, and then the second line executed, etc. Python executes code line-by-line starting from the top and going down. This means that the order in which you write your code matters! Keep this in mind when making your code (you may accidently `print` too early or too late. What if I moved all my `print` statements up by one line?)"
   ]
  },
  {
   "cell_type": "code",
   "execution_count": 6,
   "metadata": {},
   "outputs": [
    {
     "ename": "NameError",
     "evalue": "name 'hobby' is not defined",
     "output_type": "error",
     "traceback": [
      "\u001b[1;31m---------------------------------------------------------------------------\u001b[0m",
      "\u001b[1;31mNameError\u001b[0m                                 Traceback (most recent call last)",
      "Cell \u001b[1;32mIn[6], line 2\u001b[0m\n\u001b[0;32m      1\u001b[0m \u001b[39m# Example 2-3: Disaster\u001b[39;00m\n\u001b[1;32m----> 2\u001b[0m \u001b[39mprint\u001b[39m(hobby)\n\u001b[0;32m      3\u001b[0m hobby \u001b[39m=\u001b[39m \u001b[39m\"\u001b[39m\u001b[39mAnthony\u001b[39m\u001b[39m\"\u001b[39m\n\u001b[0;32m      4\u001b[0m \u001b[39mprint\u001b[39m(hobby)\n",
      "\u001b[1;31mNameError\u001b[0m: name 'hobby' is not defined"
     ]
    }
   ],
   "source": [
    "# Example 2-3: Disaster\n",
    "print(hobby)\n",
    "hobby = \"Anthony\"\n",
    "print(hobby)\n",
    "hobby = \"Tony\"\n",
    "print(hobby)\n",
    "hobby = 1 * 2"
   ]
  },
  {
   "cell_type": "markdown",
   "metadata": {},
   "source": [
    "As seen with Example 2-3, you get an error because I tried printing out a variable before it was defined. "
   ]
  },
  {
   "cell_type": "markdown",
   "metadata": {},
   "source": [
    "<h3> Naming Convention </h3>\n",
    "\n",
    "You can output variables as well with `print`: the values inside the variable will be outputted. Now, here comes another problem: what can we name our variables? Python has some rules you need to follow in regards to naming convention:\n",
    "- Variables can start only with a letter or an underscore\n",
    "- Variables can containly only letters, numbers, and underscores\n",
    "- Variables cannot be the same as a reserved keyword (these are words with special meanings built into Python)\n",
    "\n",
    "Every seasoned programmer will also tell you to name your variables appropriately such that the name of the variable immediately tells people (not just yourself) what the variable is used for. This prevents confusion if you ever look back at your code someday and saves others time trying to decipher your code. In other words, if someone random can't make a somewhat accurate guess of what value your variable should hold by just looking at the name, you need a better name. Obviously context does matter: if you're doing a math equation then `x` can be valid, but naming three numbers `a`, `aa`, and `aaa` generally is a very bad idea."
   ]
  },
  {
   "cell_type": "markdown",
   "metadata": {},
   "source": [
    "<h2> Math Assignment Operators </h2>\n",
    "\n",
    "If you want to apply some basic math operation to a variable, you can directly do it with a math assignment operator. These operators are as follows:\n",
    "- Addition (`+=`)\n",
    "- Subtraction (`-=`)\n",
    "- Multiplication (`*=`)\n",
    "- Division (`/=`)\n",
    "- Power (`**=`)\n",
    "- Floor Division (`//=`)\n",
    "- Modulus (`%=`)\n",
    "\n",
    "All we did was add the operator to the front of the assignment operator! Now the variable will have the operation applied to it using the right-hand value to compute. For example, assuming we have `x = 2`, then `x += 3` is the same as `x = x + 3` or `x **= 3` is the same as `x **= 3`. You can visually see that the right hand value is used as the second number (or in other words, always on the right side of the operator) and the variable itself is always the left hand value (or on the left of the operator). This shorthand is very neat especially for longer calculations.\n",
    "\n",
    "Examples of these operators can be seen in Example 2-4.\n"
   ]
  },
  {
   "cell_type": "code",
   "execution_count": 7,
   "metadata": {},
   "outputs": [
    {
     "name": "stdout",
     "output_type": "stream",
     "text": [
      "3\n",
      "2\n",
      "6\n",
      "3.0\n",
      "9.0\n",
      "4.0\n",
      "1.0\n"
     ]
    }
   ],
   "source": [
    "# Example 2-4: Math Assignment Operators\n",
    "number = 1\n",
    "\n",
    "number += 2     # number is now 3\n",
    "print(number)\n",
    "number -= 1     # number is now 2\n",
    "print(number)\n",
    "number *= 3     # number is now 6\n",
    "print(number)\n",
    "number /= 2     # number is now 3.0\n",
    "print(number)\n",
    "number **= 2    # number is now 9.0\n",
    "print(number)\n",
    "number //= 2    # number is now 4.0\n",
    "print(number)\n",
    "number %= 3     # number is now 1.0\n",
    "print(number)"
   ]
  }
 ],
 "metadata": {
  "kernelspec": {
   "display_name": "base",
   "language": "python",
   "name": "python3"
  },
  "language_info": {
   "codemirror_mode": {
    "name": "ipython",
    "version": 3
   },
   "file_extension": ".py",
   "mimetype": "text/x-python",
   "name": "python",
   "nbconvert_exporter": "python",
   "pygments_lexer": "ipython3",
   "version": "3.10.10"
  },
  "orig_nbformat": 4
 },
 "nbformat": 4,
 "nbformat_minor": 2
}
