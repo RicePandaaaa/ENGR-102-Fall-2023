{
 "cells": [
  {
   "cell_type": "markdown",
   "metadata": {},
   "source": [
    "<h2 style=\"color: orange;\"> Loops </h2>\n",
    "\n",
    "Loops refer to structures (namely `for` and `while`) that allow you to repeat code over and over as long you still have a value to process (`for`) or the condition remains `True` (`while`). These two loops, although quite similar, have distinct advantages and disadvantages over each other and of course, are coded differently. \n",
    "\n"
   ]
  },
  {
   "cell_type": "markdown",
   "metadata": {},
   "source": [
    "<h3 style=\"color: orange;\"> For Loops </h3>\n",
    "\n",
    "`for` loops are loops that iterate over something: in other words, they run as long they have some value to use. As an analogy, imagine you had to clean several items. You would clean each item one by one until you ran out of items to clean. \"Cleaning\" would be the code to perform and the \"items\" will be the values provided to the `for` loop. \n",
    "\n",
    "The basic `for` loop depends on a counter, mainly a generator called `range()`. `range()` takes at least one parameter:\n",
    "\n",
    "```python\n",
    "range(start, stop, step)\n",
    " - start: optional parameter, must be an integer, will be the first number generated (default: 0)\n",
    " - stop: mandatory parameter, must be an integer, dictates when the range function stops\n",
    " - step: optional parameter, must be an integer, dictates what number to add to the previous number to generate the upcoming number (default: 1)\n",
    "```\n",
    "\n",
    "Mathematically, you can think of `range()` as a function such that it returns a list of numbers within these boundaries: [start, stop). Examples of range are as follows with Example 1."
   ]
  },
  {
   "cell_type": "code",
   "execution_count": 4,
   "metadata": {},
   "outputs": [
    {
     "name": "stdout",
     "output_type": "stream",
     "text": [
      "Output of range(6):\t\t [0, 1, 2, 3, 4, 5]\n",
      "Output of range(1, 6):\t\t [1, 2, 3, 4, 5]\n",
      "Output of range(1, 6, 2): \t [1, 3, 5]\n"
     ]
    }
   ],
   "source": [
    "# Example 1: range()\n",
    "print(\"Output of range(6):\\t\\t\", list(range(6)))\n",
    "print(\"Output of range(1, 6):\\t\\t\", list(range(1, 6)))\n",
    "print(\"Output of range(1, 6, 2): \\t\", list(range(1, 6, 2)))"
   ]
  },
  {
   "cell_type": "markdown",
   "metadata": {},
   "source": [
    "As you can see, `range()` will never output `stop`, but `start` will always appear. Instead of adding 1 every time to get the next number, you can change `step` to be some other number. This is also how you count down instead of up. Note that `step` is always the third number: you cannot specify step by name, so you must always provide a start and stop value."
   ]
  },
  {
   "cell_type": "code",
   "execution_count": 9,
   "metadata": {},
   "outputs": [
    {
     "name": "stdout",
     "output_type": "stream",
     "text": [
      "Output of range(10, 0, -1):  [10, 9, 8, 7, 6, 5, 4, 3, 2, 1]\n"
     ]
    }
   ],
   "source": [
    "# Example 2: Backwards counting\n",
    "print(\"Output of range(10, 0, -1): \", list(range(10, 0, -1)))"
   ]
  },
  {
   "cell_type": "markdown",
   "metadata": {},
   "source": [
    "By now, hopefully you see that `range()` can help generate numbers needed for the `for` loop to iterate with. The format of a basic `for` loop looks like the following:\n",
    "```python\n",
    "for loop_variable in range(iterations):\n",
    "    pass    # Replace with code\n",
    "```\n",
    "\n",
    "`loop_varaible` technically can be a pre-existing variable, but it is recommended you use a variable name that hasn't been used (the `for` loop will create the variable for you without needing to assign it a value). In other words, if `loop_variable` does exist, that will be used to store the value from `range()`, but if it does not exist, Python will create a variable *local* to the `for` loop with that name to store the value from `range()`.\n",
    "\n",
    "A very basic `for` loop will be to count the first `n` numbers. It can look something like Example 3."
   ]
  },
  {
   "cell_type": "code",
   "execution_count": 10,
   "metadata": {},
   "outputs": [
    {
     "name": "stdout",
     "output_type": "stream",
     "text": [
      "1\n",
      "2\n",
      "3\n",
      "4\n",
      "5\n",
      "6\n",
      "7\n",
      "8\n",
      "9\n",
      "10\n"
     ]
    }
   ],
   "source": [
    "# Example 3: Counting the first n numbers\n",
    "number = int(input(\"Enter a number to count to: \"))\n",
    "\n",
    "for i in range(1, number+1):\n",
    "    print(i)"
   ]
  },
  {
   "cell_type": "markdown",
   "metadata": {},
   "source": [
    "So I inputted in \"10\" and you can see that the numbers from 1-10 are outputted. The reason I put `number+1` as my stop is due to the fact the stop value is *not included* in the list of numbers generated. To include it, I add 1 to it so it does end up being included. "
   ]
  },
  {
   "cell_type": "markdown",
   "metadata": {},
   "source": [
    "`for` loops will also work for any sort of iterable: anything that you can iterate over (more simply, anything you can index). This means that you can loop through strings and other data structures such as tuples, lists, and dictionaries (Module 7)."
   ]
  },
  {
   "cell_type": "code",
   "execution_count": 1,
   "metadata": {},
   "outputs": [
    {
     "name": "stdout",
     "output_type": "stream",
     "text": [
      "A\n",
      "n\n",
      "t\n",
      "h\n",
      "o\n",
      "n\n",
      "y\n"
     ]
    }
   ],
   "source": [
    "# Example 4: Iterating over a string\n",
    "name = \"Anthony\"\n",
    "\n",
    "for letter in name:\n",
    "    print(letter)"
   ]
  },
  {
   "cell_type": "markdown",
   "metadata": {},
   "source": [
    "Sometimes this is referred to as a \"for-each\" loop. In English, you can interpret Example 4 as \"**for** **each** letter **in** name, print out the letter\". Note that in this case, `letter` doesn't store the index of the letter, it actually just stores the letter itself. This means that this type of loop is generally used only when you don't really care about the index, just the value itself.\n",
    "\n",
    "If you want both at the same time, then `enumerate()` becomes your best friend:"
   ]
  },
  {
   "cell_type": "code",
   "execution_count": 2,
   "metadata": {},
   "outputs": [
    {
     "name": "stdout",
     "output_type": "stream",
     "text": [
      "Letter \"A\" can be found at index 0\n",
      "Letter \"n\" can be found at index 1\n",
      "Letter \"t\" can be found at index 2\n",
      "Letter \"h\" can be found at index 3\n",
      "Letter \"o\" can be found at index 4\n",
      "Letter \"n\" can be found at index 5\n",
      "Letter \"y\" can be found at index 6\n"
     ]
    }
   ],
   "source": [
    "# Example 5: enumerate()\n",
    "\n",
    "name = \"Anthony\"\n",
    "\n",
    "for index, letter, in enumerate(name):\n",
    "    print(f\"Letter \\\"{letter}\\\" can be found at index {index}\")"
   ]
  },
  {
   "cell_type": "markdown",
   "metadata": {},
   "source": [
    "<h3 style=\"color: orange\">While Loops</h3>\n",
    "\n",
    "`while` loops are loops that run *while* a condition is met. There are no limitations to how long a `while` loop can run other than the condition itself. The most basic loop taught is actually the infinite loop:"
   ]
  },
  {
   "cell_type": "code",
   "execution_count": 3,
   "metadata": {},
   "outputs": [
    {
     "ename": "KeyboardInterrupt",
     "evalue": "",
     "output_type": "error",
     "traceback": [
      "\u001b[1;31m---------------------------------------------------------------------------\u001b[0m",
      "\u001b[1;31mKeyboardInterrupt\u001b[0m                         Traceback (most recent call last)",
      "\u001b[1;32mc:\\Users\\antho\\Documents\\ENGR-102-Fall-2023\\Module 6\\module_six_notes.ipynb Cell 14\u001b[0m line \u001b[0;36m3\n\u001b[0;32m      <a href='vscode-notebook-cell:/c%3A/Users/antho/Documents/ENGR-102-Fall-2023/Module%206/module_six_notes.ipynb#X16sZmlsZQ%3D%3D?line=0'>1</a>\u001b[0m \u001b[39m# Example 6: Infinite Loop\u001b[39;00m\n\u001b[1;32m----> <a href='vscode-notebook-cell:/c%3A/Users/antho/Documents/ENGR-102-Fall-2023/Module%206/module_six_notes.ipynb#X16sZmlsZQ%3D%3D?line=2'>3</a>\u001b[0m \u001b[39mwhile\u001b[39;00m \u001b[39mTrue\u001b[39;00m:\n\u001b[0;32m      <a href='vscode-notebook-cell:/c%3A/Users/antho/Documents/ENGR-102-Fall-2023/Module%206/module_six_notes.ipynb#X16sZmlsZQ%3D%3D?line=3'>4</a>\u001b[0m     \u001b[39mpass\u001b[39;00m\n",
      "\u001b[1;31mKeyboardInterrupt\u001b[0m: "
     ]
    }
   ],
   "source": [
    "# Example 6: Infinite Loop\n",
    "\n",
    "while True:\n",
    "    pass"
   ]
  },
  {
   "cell_type": "markdown",
   "metadata": {},
   "source": [
    "As you can see, I had to physically stop the loop because it goes forever. The condition being given is `True`, which is a constant that cannot be changed. That means the code inside will run forever. `pass` is just a placeholder for any indented sections of code. I don't have anything to put inside the `while` loop yet, so I just put in `pass` to avoid any errors."
   ]
  },
  {
   "cell_type": "markdown",
   "metadata": {},
   "source": [
    "This being said, infinite loops are what you want to avoid. You want to use a `while` loop when you are not sure of the exact amount of iterations, but you know that you want code to be ran under a certain condition. \n",
    "\n",
    "For example, let's say I wanted to take input until I get a negative number. Assume all inputs are valid and are numeric. Since I grab input *until* I get a negative number, this means that I grab input *while* my input is non-negative (zero or positive). Remember that prompts generally tell you the stop condition: you need to negate the condition to get your `while` loop condition."
   ]
  },
  {
   "cell_type": "code",
   "execution_count": null,
   "metadata": {},
   "outputs": [],
   "source": [
    "# Example 7: Grabbing input until negative number is inputted\n",
    "\n",
    "number = int(input(\"Enter a number: \"))\n",
    "\n",
    "while number >= 0:\n",
    "    number = int(input(\"Enter a number: \"))"
   ]
  },
  {
   "cell_type": "markdown",
   "metadata": {},
   "source": [
    "Also note a very crucial detail: I ask for input *before* the `while` loop is executed. I need an initial condition for the condition to be `True`. Otherwise, Python has no idea what `number` is as it checks the condition first and then executes the code inside.\n",
    "\n",
    "The way I exit this loop is by inputting a negative number. I ensure this is possible by directly affecting the variable used in the condition within the `while` loop. "
   ]
  },
  {
   "cell_type": "markdown",
   "metadata": {},
   "source": [
    "<h5 style=\"color:orange\">\"break\" keyword</h5>\n",
    "\n",
    "In some scenarios, you want to immediately break out of the loop (either `for` or `while`). This is generally not ideal since it means you didn't create the `range` properly (for `for` loops) or you didn't correctly form the loop condition (for `while` loops). However, there are always special cases where you want to immediately break the loop. This is available with the `break` keyword.\n",
    "\n",
    "The second Python executes the `break` keyword, the *immediate* loop it is *inside* of is stopped. This is demonstrated in Example 8."
   ]
  },
  {
   "cell_type": "code",
   "execution_count": 9,
   "metadata": {},
   "outputs": [
    {
     "name": "stdout",
     "output_type": "stream",
     "text": [
      "0 0\n",
      "1 0\n",
      "2 0\n"
     ]
    }
   ],
   "source": [
    "# Example 8: using break\n",
    "\n",
    "for i in range(3):\n",
    "    for j in range(10):\n",
    "        if j >= 1:\n",
    "            break\n",
    "        print(i, j)"
   ]
  },
  {
   "cell_type": "markdown",
   "metadata": {},
   "source": [
    "As you can see, the `break` only affects the immediate loop it is inside of. In this case, it will only stop the `for` loop using `j`. The `for` loop that uses `i` does contain the `for` loop using `j`, but `break` belongs to just the `for` loop with `j` because it is directly contained by that loop."
   ]
  },
  {
   "cell_type": "markdown",
   "metadata": {},
   "source": [
    "<h5 style=\"color: orange\">\"continue\" keyword</h5>\n",
    "\n",
    "Other times, you want to skip the current iteration and go to the next. This is good for when you're processing some type of data, and there are data points that you will want to skip. `continue` lets you skip to the next iteration. Example 9 highlights this."
   ]
  },
  {
   "cell_type": "code",
   "execution_count": 10,
   "metadata": {},
   "outputs": [
    {
     "name": "stdout",
     "output_type": "stream",
     "text": [
      "n\n",
      "t\n",
      "h\n",
      "n\n",
      "y\n"
     ]
    }
   ],
   "source": [
    "# Example 9: We don't like vowels\n",
    "name = \"Anthony\"\n",
    "\n",
    "for letter in name:\n",
    "    if letter.lower() in \"aeiou\":\n",
    "        continue\n",
    "    print(letter)"
   ]
  },
  {
   "cell_type": "markdown",
   "metadata": {},
   "source": [
    "As you can see, all the letters that matched with `\"aeiou\"` after being sent to lowercase. "
   ]
  }
 ],
 "metadata": {
  "kernelspec": {
   "display_name": "Python 3",
   "language": "python",
   "name": "python3"
  },
  "language_info": {
   "codemirror_mode": {
    "name": "ipython",
    "version": 3
   },
   "file_extension": ".py",
   "mimetype": "text/x-python",
   "name": "python",
   "nbconvert_exporter": "python",
   "pygments_lexer": "ipython3",
   "version": "3.10.6"
  },
  "orig_nbformat": 4
 },
 "nbformat": 4,
 "nbformat_minor": 2
}
