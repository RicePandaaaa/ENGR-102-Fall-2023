{
 "cells": [
  {
   "cell_type": "markdown",
   "metadata": {},
   "source": [
    "<h2 style=\"color: #EC4000;\"> File Input/Output </h2>\n",
    "\n",
    "Up until now, input has been provided for you to hard-code into your program or it showed up in the form of user input (with `input()`). Now a new form of input (and output) is introduced: files! The most basic file type that you probably end up using will be a text file. It just stores text. These files have the `.txt` extension. An example is the \"example.txt\" file in the same folder as these notes. You can theoretically access and use any file type: you just need to ensure that your code has the correct support for the file extension you want to use.\n",
    "\n",
    "Do note that Python can open pretty much every file natively, but it does not necessarily mean that it will read the data correctly. For example, `csv` files can be read normally with basic Python, but it is more ideal to open `csv` files with the creatively-named `csv` module. The `csv` module will not be tested: I only reference it for your information. If you wish to try it out, do so as you like but do not do so expecting to be tested on it. In fact, it may be *banned* from usage as it overly simplifies certain types of problems."
   ]
  },
  {
   "cell_type": "markdown",
   "metadata": {},
   "source": [
    "<h5 style=\"color: #EC4000;\"> File Object </h5>\n",
    "\n",
    "We need some way of storing the contents and properties of an entire file, which can be *any* file, into a variable that Python can then read and process. In simple terms, Python has its own data type for files, and you can store a file as something we call a file object. This special object is something you can interact with to tell Python to do stuff with your file data. The actual specifics of what a file object, or any object, really is are not necessary to know. You'll run into objects a lot more once you get into what we call \"classes\" and eventually what is called \"object-orientated programming\" (OOP). However, I will go over the basics of what you can do with this file object in the rest of these notes."
   ]
  },
  {
   "cell_type": "markdown",
   "metadata": {},
   "source": [
    "<h5 style=\"color: #EC4000;\"> Opening and Closing a File </h5>\n",
    "\n",
    "Consider a file object to be a physical book. Reading this physical book typically requires the following steps:\n",
    "- Making the book (making a file object using a pre-existing file)\n",
    "- Storing the book (storing the object in some variable)\n",
    "- Grabbing the book (using the actual variable)\n",
    "- Opening the book (getting access to file contents)\n",
    "- Reading the book (doing whatever you want with the contents)\n",
    "- Closing the book (closing the file)\n",
    "\n",
    "It's a lot of steps! But not that many lines of code thankfully (other than the reading part). Example 11-1 will show the full process, and I'll explain each segment of code afterwards."
   ]
  },
  {
   "cell_type": "code",
   "execution_count": 1,
   "metadata": {},
   "outputs": [
    {
     "name": "stdout",
     "output_type": "stream",
     "text": [
      "This\n",
      "\n",
      "file\n",
      "\n",
      "has\n",
      "\n",
      "been\n",
      "\n",
      "opened\n"
     ]
    }
   ],
   "source": [
    "# Example 11-1: Opening, accessing, and closing the file\n",
    "\n",
    "file_object = open(\"example.txt\", \"r\")\n",
    "\n",
    "lines = file_object.readlines()\n",
    "for line in lines:\n",
    "    print(line)\n",
    "\n",
    "file_object.close()"
   ]
  },
  {
   "cell_type": "markdown",
   "metadata": {},
   "source": [
    "<h5 style=\"color: #EC4000;\"> Using open() </h5>\n",
    "\n",
    "Line 3 from Example 1:\n",
    "```python\n",
    "file_object = open(\"example.txt\", \"r\")\n",
    "```\n",
    "\n",
    "So this covers the first three bullet points (making the book, storing the book, and opening the book). First, let's talk about `open()`. `open()` is a built-in function that lets you create a file object given a file directory and the access mode. By default, Python will look for files in the same folder as your code. You may notice that this notebook is in the same folder (\"Module 11 - Files\") as the text file (\"example.txt\"). This means that I can just tell Python to directly look for the file. Suppose the file directory looked like this though:\n",
    "\n",
    "```css\n",
    "> Module 11 - Files\n",
    "  > Files\n",
    "    - example.txt\n",
    "  - module_eleven_notes.ipynb\n",
    "```\n",
    "\n",
    "The text file is no longer in the same folder. My directory must tell Python where to navigate *starting* in the folder the file I am running is currently in. So, I am in \"Module 11 - Files\" and thus, I'll navigate from there. I need to first access the \"Files\" folder and then I get to \"examples.txt\", so my directory becomes `\"Files/examples.txt\"`. When in doubt, just place your file in the same folder as your code or use absolute path (tells Python where to go starting at the very root of your file directory, so it doesn't matter where your code is).\n",
    "\n",
    "<h5 style=\"color: #EC4000;\"> Access Modes </h5>\n",
    "Access modes tell Python how exactly you want to access the file. There are several options, with the important ones being:\n",
    "\n",
    "- `r`: read-only mode\n",
    "- `a`: append-only mode\n",
    "- `w`: write-only mode\n",
    "\n",
    "There are three other modes:\n",
    "- `r+`: read + write mode\n",
    "- `a+`: append + read mode\n",
    "- `w+`: write + read mode\n",
    "\n",
    "Read only mode means that you can only read the file. You can access the contents, but you cannot overwrite, remove, or add any data. Append only mode means that you just want to add data to the end of the file. Write only mode means that the entire file is cleared and you can add to the file just like append. A second thing that write only mode does is that it will also create the file if it does not exist.\n",
    "\n",
    "Append + read mode is neat where you can read the file *and* add data to the end. However, `r+` and `w+` can be a bit confusing since they both allow for reading and writing. Note that `r+` has `r` in its name, which means read mode is its priority. The file will not be wiped (which write mode usually does), but in this case, you start writing data from the top of the file, overwriting any lines you write to. `w+` will clear the file first and allow you to write to the file, but you can still read the file contents. The `+` modes are rarely used, but I mention them for the sake of completion. I recommend you look up examples and play around with the modes by yourself to fully understand the modes.\n",
    "\n",
    "Now specifically for the code from Example 1, the file is opened in read only mode due to the `\"r\"` passed into `open()`. `open()` itself is the act of opening the book."
   ]
  },
  {
   "cell_type": "markdown",
   "metadata": {},
   "source": [
    "<h5 style=\"color: #EC4000;\"> Accessing file contents (readlines()) </h5>\n",
    "Lines 5-7 from Example 1:\n",
    "\n",
    "```python\n",
    "lines = file_object.readlines()\n",
    "for line in lines:\n",
    "    print(line)\n",
    "```\n",
    "\n",
    "This code snippet demonstrates the fourth and fifth bullets (grabbing the book and reading the book). Line 5 uses a function called `readlines()`. This returns a list of all the lines (see Example 11-2). Several functions will be covered for accessing the file contents (reading the book). Note that I have to call the function on the file object: which means I have to get the file object (grab the book) before I can access the contents (read the book).\n",
    "\n"
   ]
  },
  {
   "cell_type": "code",
   "execution_count": 2,
   "metadata": {},
   "outputs": [
    {
     "name": "stdout",
     "output_type": "stream",
     "text": [
      "['This\\n', 'file\\n', 'has\\n', 'been\\n', 'opened']\n"
     ]
    }
   ],
   "source": [
    "# Example 11-2: readlines()\n",
    "\n",
    "file_object = open(\"example.txt\", \"r\")\n",
    "\n",
    "print(file_object.readlines())\n",
    "\n",
    "file_object.close()"
   ]
  },
  {
   "cell_type": "markdown",
   "metadata": {},
   "source": [
    "Note that even the newline characters are stored in the line. Sometimes, the ending will be `\\r\\n`, with `\\r` called a carriage return. The details of what `\\r` does is not relevant to this course, but its existence does. When you are reading these lines, you need to filter out the potential `\\r`s and `\\n`s so you get just the data you want. The easiest way to do this is with `strip()`:"
   ]
  },
  {
   "cell_type": "code",
   "execution_count": 5,
   "metadata": {},
   "outputs": [
    {
     "name": "stdout",
     "output_type": "stream",
     "text": [
      "' \\r\\nHello\\r\\n'\n",
      "'Hello'\n"
     ]
    }
   ],
   "source": [
    "# Example 11-3: Stripping a line\n",
    "\n",
    "line = \" \\r\\nHello\\r\\n\"\n",
    "\n",
    "print(repr(line))\n",
    "print(repr(line.strip()))"
   ]
  },
  {
   "cell_type": "markdown",
   "metadata": {},
   "source": [
    "You can see that with `strip()`, the special characters at the end are stripped (note that `strip()` will also remove whitespace and it works on *both* ends of the string). `repr()` is a built-in function that shows the raw string (which means special characters will be outputted instead of processed). As you can see, even though `line` has a `\\n`, it still appears in the output, and there is not an additional newline. This is an extremely strong function to use to check the actual contents of strings, which can be very helpful if you have mysterious blank lines or line processing mishaps due to the normally invisible special characters.\n",
    "\n",
    "With `readlines()`,  you can just store the list in a variable and loop through that list as you need to. But what if you want to read line-by-line and not access everything at once?\n",
    "\n",
    "<h5 style=\"color: #EC4000;\"> Accessing file contents (readline()) </h5>\n",
    "\n",
    "Neatly enough, you can just request a line."
   ]
  },
  {
   "cell_type": "code",
   "execution_count": 6,
   "metadata": {},
   "outputs": [
    {
     "name": "stdout",
     "output_type": "stream",
     "text": [
      "This\n",
      "\n"
     ]
    }
   ],
   "source": [
    "# Example 11-4: readline()\n",
    "\n",
    "file_object = open(\"example.txt\", \"r\")\n",
    "\n",
    "print(file_object.readline())\n",
    "\n",
    "file_object.close()"
   ]
  },
  {
   "cell_type": "markdown",
   "metadata": {},
   "source": [
    "It's not my personal favorite to use since there are more elegant ways for me to read through a whole file than to call `readline()` over and over again, but it does have its time and place. If you know exactly how many lines you need, you can use a `for` loop and grab an exact amount of lines."
   ]
  },
  {
   "cell_type": "markdown",
   "metadata": {},
   "source": [
    "<h5 style=\"color: #EC4000;\"> Accessing file contents (read()) </h5>\n",
    "\n",
    "`read()` is very strong since it stores *the entire file into one string*."
   ]
  },
  {
   "cell_type": "code",
   "execution_count": 8,
   "metadata": {},
   "outputs": [
    {
     "name": "stdout",
     "output_type": "stream",
     "text": [
      "'This\\nfile\\nhas\\nbeen\\nopened'\n"
     ]
    }
   ],
   "source": [
    "# Example 11-5: read()\n",
    "\n",
    "file_object = open(\"example.txt\", \"r\")\n",
    "\n",
    "print(repr(file_object.read()))\n",
    "\n",
    "file_object.close()"
   ]
  },
  {
   "cell_type": "markdown",
   "metadata": {},
   "source": [
    "This is usually the alternative to `readlines()`, especially if there's a common pattern or lines are grouped together and it's easier to `split()` the string. `split()` will be discussed later in these notes but keep note of what it does in Example 11-6."
   ]
  },
  {
   "cell_type": "code",
   "execution_count": 9,
   "metadata": {},
   "outputs": [
    {
     "name": "stdout",
     "output_type": "stream",
     "text": [
      "['This', 'file', 'has', 'been', 'opened']\n"
     ]
    }
   ],
   "source": [
    "# Example 11-6: Splitting the read()\n",
    "\n",
    "file_object = open(\"example.txt\", \"r\")\n",
    "\n",
    "print(file_object.read().split(\"\\n\"))\n",
    "\n",
    "file_object.close()"
   ]
  },
  {
   "cell_type": "markdown",
   "metadata": {},
   "source": [
    "<h5 style=\"color: #EC4000;\"> Looping over the object </h5>\n",
    "\n",
    "Weirdly enough, you can treat the file object as an actual list of lines. Now of course, this is not entirely accurate, but for the sake of the course, it's accurate *enough* for our needs. Example 6 highlights using a `for` loop to iterate through the file object itself:"
   ]
  },
  {
   "cell_type": "code",
   "execution_count": 13,
   "metadata": {},
   "outputs": [
    {
     "name": "stdout",
     "output_type": "stream",
     "text": [
      "This\n",
      "\n",
      "file\n",
      "\n",
      "has\n",
      "\n",
      "been\n",
      "\n",
      "opened\n"
     ]
    }
   ],
   "source": [
    "# Example 11-7: Iterating over the file object\n",
    "\n",
    "file_object = open(\"example.txt\", \"r\")\n",
    "\n",
    "for line in file_object:\n",
    "    print(line)\n",
    "\n",
    "file_object.close()\n"
   ]
  },
  {
   "cell_type": "markdown",
   "metadata": {},
   "source": [
    "Although nearly identical to using `readlines()`, a major difference is that you do not store the lines as you go through the loop. You could circumvent this by making a list and appending each line into the list, but that's essentially `readlines()`. The use case differences are generally too small to consider (at least for this class), so it's up to personal preference. Sometimes I prefer `readlines()` when I know I want the whole list of lines immediately to do something to the strings, and technically doing `for line in file_object` is more memory efficient (and also arguably is cleaner looking), but regardless, these decisions are not important for this class. Whether you choose to use `readlines()` or a `for` loop, all that matters is that you use them correctly."
   ]
  },
  {
   "cell_type": "markdown",
   "metadata": {},
   "source": [
    "<h5 style=\"color: #EC4000;\"> Using close() </h5>\n",
    "\n",
    "Note that in all my snippets, I used `close()` on the file object. Line 9 from Example 1:\n",
    "\n",
    "```python\n",
    "file_object.close()\n",
    "```\n",
    "\n",
    "If I leave the file open, it opens opportunities for the file to be accidently be altered. To ensure the data stay safe and intact, I need to close the file (close the book). For an analogy, imagine that in real life, if I leave the book open, the inside pages are exposed to the outside and could be damaged by energetic pets or spilling a drink. Thus, I must close the book and return it (which Python will automatically do in the background after you `close()`) to make sure the book is as safe and intact as possible.\n",
    "\n",
    "Technically, you don't *need* to `close()` (Python won't throw an error), but it is extremely good practice to do so. The negative consequences of leaving a file open far outweighs the benefit of the time saved of skipping one line of code."
   ]
  },
  {
   "cell_type": "markdown",
   "metadata": {},
   "source": [
    "<h5 style=\"color: #EC4000;\"> Using\" with\" </h5>\n",
    "\n",
    "There's a way for you to open a file and have Python automatically close the file for you. This is possible through the `with` keyword. Example 11-8 shows how you can rewrite Example 1."
   ]
  },
  {
   "cell_type": "code",
   "execution_count": 12,
   "metadata": {},
   "outputs": [
    {
     "name": "stdout",
     "output_type": "stream",
     "text": [
      "This\n",
      "\n",
      "file\n",
      "\n",
      "has\n",
      "\n",
      "been\n",
      "\n",
      "opened\n"
     ]
    }
   ],
   "source": [
    "# Example 11-8: A cleaner Example 1\n",
    "\n",
    "with open(\"example.txt\", \"r\") as file_object:\n",
    "    lines = file_object.readlines()\n",
    "    for line in lines:\n",
    "        print(line)\n"
   ]
  },
  {
   "cell_type": "markdown",
   "metadata": {},
   "source": [
    "The `with` keyword is super powerful in that it opens *and* closes the file for you. Once Python is completely done executing the code within the `with` block, Python will close the file for you without you needing to explicitly call `close()`. Using `with` thus is the preferred way to open files in this class."
   ]
  },
  {
   "cell_type": "markdown",
   "metadata": {},
   "source": [
    "<h5 style=\"color:#EC4000;\"> split() </h5>\n",
    "\n",
    "`split()` lets you split a string into a list of strings. Although this doesn't sound super good, it can be incredibly powerful whenever you need to extract information from strings (which happens quite a lot). To determine what to split the string with, `split()` needs to know what the *delimiter* is: a sub-string that used to visually separate the data in the string:\n",
    "\n",
    "```python\n",
    "string = \"Hi|Yo|Bye\"\n",
    "```\n",
    "\n",
    "From the above line, you can expect `\"|\"` to be the delimiter since it is separating the words. If I wanted to split that string into a list of strings using `\"|\"` as the delimiter, then I would do it as shown in Example 11-9:\n",
    "\n"
   ]
  },
  {
   "cell_type": "code",
   "execution_count": 14,
   "metadata": {},
   "outputs": [
    {
     "name": "stdout",
     "output_type": "stream",
     "text": [
      "['Hi', 'Yo', 'Bye']\n"
     ]
    }
   ],
   "source": [
    "# Example 11-9: Splitting the string\n",
    "\n",
    "string = \"Hi|Yo|Bye\"\n",
    "\n",
    "print(string.split(\"|\"))"
   ]
  },
  {
   "cell_type": "markdown",
   "metadata": {},
   "source": [
    "Note that the delimiter itself is not included. It's similar to cutting a piece of paper in half: you can fold the paper in half or mark a line down the middle then use that fold or mark as a reference of where to cut. After you cut the piece of paper, the fold/mark disappears. Note that if you want to just split on whitespace, then you can `split()` with no argument provided:"
   ]
  },
  {
   "cell_type": "code",
   "execution_count": 15,
   "metadata": {},
   "outputs": [
    {
     "name": "stdout",
     "output_type": "stream",
     "text": [
      "['Tony', 'Alana', 'Sam', 'Luke']\n"
     ]
    }
   ],
   "source": [
    "# Example 11-10: Split without delimiter\n",
    "\n",
    "string = \"Tony Alana\\nSam\\rLuke\"\n",
    "\n",
    "print(string.split())"
   ]
  },
  {
   "cell_type": "markdown",
   "metadata": {},
   "source": [
    "<h5 style=\"color:#EC4000;\"> join() </h5>\n",
    "\n",
    "Unsuprisingly, there's a function to combine a list of strings using a delimiter. This function is called `join()`. Note that the list you are joining must all be strings. So if you want to combine a list of numbers, you need to first cast each number into a string and then you can join them together. Also note that `join()` is actually *called on the delimiter string* and *takes in the list as its argument*:"
   ]
  },
  {
   "cell_type": "code",
   "execution_count": 20,
   "metadata": {},
   "outputs": [
    {
     "name": "stdout",
     "output_type": "stream",
     "text": [
      "Tony, Anthony, Big T\n"
     ]
    }
   ],
   "source": [
    "# Example 11-11: join()\n",
    "\n",
    "names = [\"Tony\", \"Anthony\", \"Big T\"]\n",
    "\n",
    "print(\", \".join(names))"
   ]
  },
  {
   "cell_type": "markdown",
   "metadata": {},
   "source": [
    "<h5 style=\"color:#EC4000;\"> CSV Files </h5>\n",
    "\n",
    "CSV (comma-separated values) is a special type of text file. You can open and read this file exactly like a regular text file, but you can use the fact that this file has values separated by commas to `split()` and extract data. Typically, these files are primitive data tables. This means that processing a CSV file is really not that different than processing a text file: you just need an extra step of splitting."
   ]
  },
  {
   "cell_type": "code",
   "execution_count": 21,
   "metadata": {},
   "outputs": [
    {
     "name": "stdout",
     "output_type": "stream",
     "text": [
      "['T', 'To', 'Ton', 'Tony\\n']\n",
      "['L', 'Lu', 'Luk', 'Luke\\n']\n",
      "['A', 'Al', 'Ala', 'Alan', 'Alana\\n']\n",
      "['H', 'Ho', 'Hoi', 'Hoid']\n"
     ]
    }
   ],
   "source": [
    "# Example 11-12: Processing a CSV file\n",
    "\n",
    "with open(\"example.csv\", \"r\") as csv_file:\n",
    "    for line in csv_file:\n",
    "        print(line.split(\",\"))"
   ]
  },
  {
   "cell_type": "markdown",
   "metadata": {},
   "source": [
    "In the above, there are newlines still present in the last string of each line except the last! This can really mess up your string processing since that newline character is part of the string and can lead to some weird behaviors or even errors depending on what you plan to do with the string. This means that you should strip the string. **In general, if you are processing lines from a file, consider stripping the line**."
   ]
  },
  {
   "cell_type": "code",
   "execution_count": 22,
   "metadata": {},
   "outputs": [
    {
     "name": "stdout",
     "output_type": "stream",
     "text": [
      "['T', 'To', 'Ton', 'Tony']\n",
      "['L', 'Lu', 'Luk', 'Luke']\n",
      "['A', 'Al', 'Ala', 'Alan', 'Alana']\n",
      "['H', 'Ho', 'Hoi', 'Hoid']\n"
     ]
    }
   ],
   "source": [
    "# Example 11-13: Stripping before processing\n",
    "\n",
    "with open(\"example.csv\", \"r\") as csv_file:\n",
    "    for line in csv_file:\n",
    "        print(line.strip().split(\",\"))"
   ]
  },
  {
   "cell_type": "markdown",
   "metadata": {},
   "source": [
    "<h5 style=\"color:#EC4000;\"> Append Mode </h5>\n",
    "\n",
    "I left this section (along with write mode which will be after this section) at the end because I wanted to introduce tools such as `split()` and `join()`, which are really good for processing lines and creating strings. After splitting then joining, or just joining, you can reshape data to what you want and then add to your file. Append mode is `\"a\"` and it only adds lines to the end of the file. Let's add some more names to the csv file:"
   ]
  },
  {
   "cell_type": "code",
   "execution_count": 26,
   "metadata": {},
   "outputs": [
    {
     "name": "stdout",
     "output_type": "stream",
     "text": [
      "'T,To,Ton,Tony\\n'\n",
      "'L,Lu,Luk,Luke\\n'\n",
      "'A,Al,Ala,Alan,Alana\\n'\n",
      "'L,Lu,Lun,Luna\\n'\n",
      "'G,Ga,Gab,Gabe\\n'\n",
      "'A,An,And,Andr,Andre,Andrew\\n'\n"
     ]
    }
   ],
   "source": [
    "# Example 11-14: Appending to a file\n",
    "\n",
    "with open(\"example.csv\", \"a\") as csv_file:\n",
    "    names = [\"Luna\", \"Gabe\", \"Andrew\"]\n",
    "\n",
    "    # Form the cool names\n",
    "    for name in names:\n",
    "        name_partials = []\n",
    "\n",
    "        # Start with first char, then first two, etc.\n",
    "        # T, To, Ton, Tony\n",
    "        for i in range(len(name)):\n",
    "            name_partial = name[:i+1]\n",
    "            name_partials.append(name_partial)\n",
    "\n",
    "        # Join and append the list\n",
    "        new_line = \",\".join(name_partials)\n",
    "        csv_file.write(new_line + \"\\n\")   # Newline!!!!\n",
    "\n",
    "# Check contents\n",
    "with open(\"example.csv\", \"r\") as csv_file:\n",
    "    for line in csv_file:\n",
    "        print(repr(line))"
   ]
  },
  {
   "cell_type": "markdown",
   "metadata": {},
   "source": [
    "Two key things to note:\n",
    "- Appending to a file uses `write()` (it's the same function used in write mode!)\n",
    "- I had to add a newline to the end of each line\n",
    "\n",
    "`write()` is not the same as `print()` where `print()` will automatically go to the next line. If you want to write lines individually, you need to remember to add a newline to the end of each line so that the next line being written will actually be on the next line."
   ]
  },
  {
   "cell_type": "markdown",
   "metadata": {},
   "source": [
    "<h5 style=\"color:#EC4000;\"> Write Mode </h5>\n",
    "\n",
    "Write mode clears the file and then starts adding stuff to the file. It also can create the file for you if Python cannot find the file you specified. I won't make a new file, but I will demonstrate the file being cleared and then writing to it. Remember that to put a file in write mode, you need to use `\"w\"` as the access mode."
   ]
  },
  {
   "cell_type": "code",
   "execution_count": 32,
   "metadata": {},
   "outputs": [
    {
     "name": "stdout",
     "output_type": "stream",
     "text": [
      "Original file contents: ''\n",
      "New file contents:\n",
      "'This\\n'\n",
      "'file\\n'\n",
      "'has\\n'\n",
      "'been\\n'\n",
      "'opened\\n'\n"
     ]
    }
   ],
   "source": [
    "# Example 11-15: Write mode\n",
    "\n",
    "with open(\"example.txt\", \"w+\") as f:\n",
    "    # Demonstrate file is empty\n",
    "    print(\"Original file contents:\", repr(f.read()))\n",
    "\n",
    "    # Rewrite to the file\n",
    "    lines = \"This file has been opened\".split()\n",
    "    for line in lines:\n",
    "        f.write(line + \"\\n\")\n",
    "\n",
    "# Check contents\n",
    "with open(\"example.txt\", \"r\") as f:\n",
    "    print(\"New file contents:\")\n",
    "    for line in f:\n",
    "        print(repr(line))\n"
   ]
  },
  {
   "cell_type": "markdown",
   "metadata": {},
   "source": [
    "I used `\"w+\"` so I can also have access to read mode, which I need to have to use `read()`. But the primary access mode is `\"w\"` since I used `\"w+\"` instead of `\"r+\"`, so Example 11-15 does still show write mode. You can remove the first `print` statement, and the code will still work after changing `\"w+\"` to `\"w\"`. \n",
    "\n",
    "I use `repr()` here to show the raw string representation. You can see that after I open the file, there is nothing in the file as represented by the empty string. After writing to the file, then I have all five new lines inside the file."
   ]
  }
 ],
 "metadata": {
  "kernelspec": {
   "display_name": "Python 3",
   "language": "python",
   "name": "python3"
  },
  "language_info": {
   "codemirror_mode": {
    "name": "ipython",
    "version": 3
   },
   "file_extension": ".py",
   "mimetype": "text/x-python",
   "name": "python",
   "nbconvert_exporter": "python",
   "pygments_lexer": "ipython3",
   "version": "3.11.5"
  }
 },
 "nbformat": 4,
 "nbformat_minor": 2
}
