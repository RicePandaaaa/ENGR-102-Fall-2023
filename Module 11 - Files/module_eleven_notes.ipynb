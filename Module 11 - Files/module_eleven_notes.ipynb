{
 "cells": [
  {
   "cell_type": "markdown",
   "metadata": {},
   "source": [
    "<h2 style=\"color: orange;\"> File Input/Output </h2>\n",
    "\n",
    "Up until now, input has been provided for you to hard-code into your program or it showed up in the form of user input (with `input()`). Now a new form of input (and output) is introduced: files! The most basic file type that you probably end up using will be a text file. It just stores text. These files have the `.txt` extension. An example is the \"example.txt\" file in the same folder as these notes. You can theoretically access and use any file type: you just need to ensure that your code has the correct support for the file extension you want to use.\n",
    "\n",
    "Do note that Python can open pretty much every file natively, but it does not necessarily mean that it will read the data correctly. For example, `csv` files can be read normally with basic Python, but it is more ideal to open `csv` files with the creatively-named `csv` module. The `csv` module will not be tested: I only reference it for your information. If you wish to try it out, do so as you like but do not do so expecting to be tested on it. In fact, it may be *banned* from usage as it overly simplifies certain types of problems."
   ]
  },
  {
   "cell_type": "markdown",
   "metadata": {},
   "source": [
    "<h5 style=\"color: orange;\"> File Object </h5>\n",
    "\n",
    "We need some way of storing the contents and properties of an entire file, which can be *any* file, into a variable that Python can then read and process. In simple terms, Python has its own data type for files, and you can store a file as something we call a file object. This special object is something you can interact with to tell Python to do stuff with your file data. The actual specifics of what a file object, or any object, really is are not necessary to know. You'll run into objects a lot more once you get into what we call \"classes\" and eventually what is called \"object-orientated programming\" (OOP). However, I will go over the basics of what you can do with this file object in the rest of these notes."
   ]
  },
  {
   "cell_type": "markdown",
   "metadata": {},
   "source": [
    "<h5 style=\"color: orange;\"> Opening and Closing a File </h5>\n",
    "\n",
    "Consider a file object to be a physical book. Reading this physical book typically requires the following steps:\n",
    "- Making the book (making a file object using a pre-existing file)\n",
    "- Storing the book (storing the object in some variable)\n",
    "- Grabbing the book (using the actual variable)\n",
    "- Opening the book (getting access to file contents)\n",
    "- Reading the book (doing whatever you want with the contents)\n",
    "- Closing the book (closing the file)\n",
    "\n",
    "It's a lot of steps! But not that many lines of code thankfully (other than the reading part). Example 1 will show the full process, and I'll explain each segment of code afterwards."
   ]
  },
  {
   "cell_type": "code",
   "execution_count": 1,
   "metadata": {},
   "outputs": [
    {
     "name": "stdout",
     "output_type": "stream",
     "text": [
      "This\n",
      "\n",
      "file\n",
      "\n",
      "has\n",
      "\n",
      "been\n",
      "\n",
      "opened\n"
     ]
    }
   ],
   "source": [
    "# Example 1: Opening, accessing, and closing the file\n",
    "\n",
    "file_object = open(\"example.txt\", \"r\")\n",
    "\n",
    "lines = file_object.readlines()\n",
    "for line in lines:\n",
    "    print(line)\n",
    "\n",
    "file_object.close()"
   ]
  },
  {
   "cell_type": "markdown",
   "metadata": {},
   "source": [
    "<h5 style=\"color: orange;\"> Using open() </h5>\n",
    "\n",
    "Line 3 from Example 1:\n",
    "```python\n",
    "file_object = open(\"example.txt\", \"r\")\n",
    "```\n",
    "\n",
    "So this covers the first three bullet points (making the book, storing the book, and opening the book). First, let's talk about `open()`. `open()` is a built-in function that lets you create a file object given a file directory and the access mode. By default, Python will look for files in the same folder as your code. You may notice that this notebook is in the same folder (\"Module 11 - Files\") as the text file (\"example.txt\"). This means that I can just tell Python to directly look for the file. Suppose the file directory looked like this though:\n",
    "\n",
    "```css\n",
    "> Module 11 - Files\n",
    "  > Files\n",
    "    - example.txt\n",
    "  - module_eleven_notes.ipynb\n",
    "```\n",
    "\n",
    "The text file is no longer in the same folder. My directory must tell Python where to navigate *starting* in the folder the file I am running is currently in. So, I am in \"Module 11 - Files\" and thus, I'll navigate from there. I need to first access the \"Files\" folder and then I get to \"examples.txt\", so my directory becomes `\"Files/examples.txt\"`. When in doubt, just place your file in the same folder as your code or use absolute path (tells Python where to go starting at the very root of your file directory, so it doesn't matter where your code is).\n",
    "\n",
    "<h5 style=\"color: orange;\"> Access Modes </h5>\n",
    "Access modes tell Python how exactly you want to access the file. There are several options, with the important ones being:\n",
    "\n",
    "- `r`: read-only mode\n",
    "- `a`: append-only mode\n",
    "- `w`: write-only mode\n",
    "\n",
    "There are three other modes:\n",
    "- `r+`: read + write mode\n",
    "- `a+`: append + read mode\n",
    "- `w+`: write + read mode\n",
    "\n",
    "Read only mode means that you can only read the file. You can access the contents, but you cannot overwrite, remove, or add any data. Append only mode means that you just want to add data to the end of the file. Write only mode means that the entire file is cleared and you can add to the file just like append. A second thing that write only mode does is that it will also create the file if it does not exist.\n",
    "\n",
    "Append + read mode is neat where you can read the file *and* add data to the end. However, `r+` and `w+` can be a bit confusing since they both allow for reading and writing. Note that `r+` has `r` in its name, which means read mode is its priority. The file will not be wiped (which write mode usually does), but in this case, you start writing data from the top of the file, overwriting any lines you write to. `w+` will clear the file first and allow you to write to the file, but you can still read the file contents. The `+` modes are rarely used, but I mention them for the sake of completion. I recommend you look up examples and play around with the modes by yourself to fully understand the modes.\n",
    "\n",
    "Now specifically for the code from Example 1, the file is opened in read only mode due to the `\"r\"` passed into `open()`. `open()` itself is the act of opening the book."
   ]
  },
  {
   "cell_type": "markdown",
   "metadata": {},
   "source": [
    "<h5 style=\"color: orange;\"> Accessing file contents (readlines()) </h5>\n",
    "Lines 5-7 from Example 1:\n",
    "\n",
    "```python\n",
    "lines = file_object.readlines()\n",
    "for line in lines:\n",
    "    print(line)\n",
    "```\n",
    "\n",
    "This code snippet demonstrates the fourth and fifth bullets (grabbing the book and reading the book). Line 5 uses a function called `readlines()`. This returns a list of all the lines (see Example 2). Several functions will be covered for accessing the file contents (reading the book). Note that I have to call the function on the file object: which means I have to get the file object (grab the book) before I can access the contents (read the book).\n",
    "\n"
   ]
  },
  {
   "cell_type": "code",
   "execution_count": 2,
   "metadata": {},
   "outputs": [
    {
     "name": "stdout",
     "output_type": "stream",
     "text": [
      "['This\\n', 'file\\n', 'has\\n', 'been\\n', 'opened']\n"
     ]
    }
   ],
   "source": [
    "# Example 2: readlines()\n",
    "\n",
    "file_object = open(\"example.txt\", \"r\")\n",
    "\n",
    "print(file_object.readlines())\n",
    "\n",
    "file_object.close()"
   ]
  },
  {
   "cell_type": "markdown",
   "metadata": {},
   "source": [
    "Note that even the newline characters are stored in the line. Sometimes, the ending will be `\\r\\n`, with `\\r` called a carriage return. The details of what `\\r` does is not relevant to this course, but its existence does. When you are reading these lines, you need to filter out the potential `\\r`s and `\\n`s so you get just the data you want. The easiest way to do this is with `strip()`:"
   ]
  },
  {
   "cell_type": "code",
   "execution_count": 5,
   "metadata": {},
   "outputs": [
    {
     "name": "stdout",
     "output_type": "stream",
     "text": [
      "' \\r\\nHello\\r\\n'\n",
      "'Hello'\n"
     ]
    }
   ],
   "source": [
    "# Example 3: Stripping a line\n",
    "\n",
    "line = \" \\r\\nHello\\r\\n\"\n",
    "\n",
    "print(repr(line))\n",
    "print(repr(line.strip()))"
   ]
  },
  {
   "cell_type": "markdown",
   "metadata": {},
   "source": [
    "You can see that with `strip()`, the special characters at the end are stripped (note that `strip()` will also remove whitespace and it works on *both* ends of the string). `repr()` is a built-in function that shows the raw string (which means special characters will be outputted instead of processed). As you can see, even though `line` has a `\\n`, it still appears in the output, and there is not an additional newline. This is an extremely strong function to use to check the actual contents of strings, which can be very helpful if you have mysterious blank lines or line processing mishaps due to the normally invisible special characters.\n",
    "\n",
    "With `readlines()`,  you can just store the list in a variable and loop through that list as you need to. But what if you want to read line-by-line and not access everything at once?\n",
    "\n",
    "<h5 style=\"color: orange;\"> Accessing file contents (readline()) </h5>\n",
    "\n",
    "Neatly enough, you can just request a line."
   ]
  },
  {
   "cell_type": "code",
   "execution_count": 6,
   "metadata": {},
   "outputs": [
    {
     "name": "stdout",
     "output_type": "stream",
     "text": [
      "This\n",
      "\n"
     ]
    }
   ],
   "source": [
    "# Example 4: readline()\n",
    "\n",
    "file_object = open(\"example.txt\", \"r\")\n",
    "\n",
    "print(file_object.readline())\n",
    "\n",
    "file_object.close()"
   ]
  },
  {
   "cell_type": "markdown",
   "metadata": {},
   "source": [
    "It's not my personal favorite to use since there are more elegant ways for me to read through a whole file than to call `readline()` over and over again, but it does have its time and place. If you know exactly how many lines you need, you can use a `for` loop and grab an exact amount of lines."
   ]
  },
  {
   "cell_type": "markdown",
   "metadata": {},
   "source": [
    "<h5 style=\"color: orange;\"> Accessing file contents (read()) </h5>\n",
    "\n",
    "`read()` is very strong since it stores *the entire file into one string*."
   ]
  },
  {
   "cell_type": "code",
   "execution_count": 8,
   "metadata": {},
   "outputs": [
    {
     "name": "stdout",
     "output_type": "stream",
     "text": [
      "'This\\nfile\\nhas\\nbeen\\nopened'\n"
     ]
    }
   ],
   "source": [
    "# Example 5: read()\n",
    "\n",
    "file_object = open(\"example.txt\", \"r\")\n",
    "\n",
    "print(repr(file_object.read()))\n",
    "\n",
    "file_object.close()"
   ]
  },
  {
   "cell_type": "markdown",
   "metadata": {},
   "source": [
    "This is usually the alternative to `readlines()`, especially if there's a common pattern or lines are grouped together and it's easier to `split()` the string. `split()` will be discussed later in these notes but keep note of what it does in Example 5."
   ]
  },
  {
   "cell_type": "code",
   "execution_count": 9,
   "metadata": {},
   "outputs": [
    {
     "name": "stdout",
     "output_type": "stream",
     "text": [
      "['This', 'file', 'has', 'been', 'opened']\n"
     ]
    }
   ],
   "source": [
    "# Example 5: Splitting the read()\n",
    "\n",
    "file_object = open(\"example.txt\", \"r\")\n",
    "\n",
    "print(file_object.read().split(\"\\n\"))\n",
    "\n",
    "file_object.close()"
   ]
  },
  {
   "cell_type": "markdown",
   "metadata": {},
   "source": [
    "<h5 style=\"color: orange;\"> Looping over the object </h5>\n",
    "\n",
    "Weirdly enough, you can treat the file object as an actual list of lines. Now of course, this is not entirely accurate, but for the sake of the course, it's accurate *enough* for our needs. Example 6 highlights using a `for` loop to iterate through the file object itself:"
   ]
  },
  {
   "cell_type": "code",
   "execution_count": 13,
   "metadata": {},
   "outputs": [
    {
     "name": "stdout",
     "output_type": "stream",
     "text": [
      "This\n",
      "\n",
      "file\n",
      "\n",
      "has\n",
      "\n",
      "been\n",
      "\n",
      "opened\n"
     ]
    }
   ],
   "source": [
    "# Example 6: Iterating over the file object\n",
    "\n",
    "file_object = open(\"example.txt\", \"r\")\n",
    "\n",
    "for line in file_object:\n",
    "    print(line)\n",
    "\n",
    "file_object.close()\n"
   ]
  },
  {
   "cell_type": "markdown",
   "metadata": {},
   "source": [
    "Although nearly identical to using `readlines()`, a major difference is that you do not store the lines as you go through the loop. You could circumvent this by making a list and appending each line into the list, but that's essentially `readlines()`. The use case differences are generally too small to consider (at least for this class), so it's up to personal preference. Sometimes I prefer `readlines()` when I know I want the whole list of lines immediately to do something to the strings, and technically doing `for line in file_object` is more memory efficient (and also arguably is cleaner looking), but regardless, these decisions are not important for this class. Whether you choose to use `readlines()` or a `for` loop, all that matters is that you use them correctly."
   ]
  },
  {
   "cell_type": "markdown",
   "metadata": {},
   "source": [
    "<h5 style=\"color: orange;\"> Using close() </h5>\n",
    "\n",
    "Note that in all my snippets, I used `close()` on the file object. Line 9 from Example 1:\n",
    "\n",
    "```python\n",
    "file_object.close()\n",
    "```\n",
    "\n",
    "If I leave the file open, it opens opportunities for the file to be accidently be altered. To ensure the data stay safe and intact, I need to close the file (close the book). For an analogy, imagine that in real life, if I leave the book open, the inside pages are exposed to the outside and could be damaged by energetic pets or spilling a drink. Thus, I must close the book and return it (which Python will automatically do in the background after you `close()`) to make sure the book is as safe and intact as possible.\n",
    "\n",
    "Technically, you don't *need* to `close()` (Python won't throw an error), but it is extremely good practice to do so. The negative consequences of leaving a file open far outweighs the benefit of the time saved of skipping one line of code."
   ]
  },
  {
   "cell_type": "markdown",
   "metadata": {},
   "source": [
    "<h5 style=\"color: orange;\"> Using\" with\" </h5>\n",
    "\n",
    "There's a way for you to open a file and have Python automatically close the file for you. This is possible through the `with` keyword. Example 7 shows how you can rewrite Example 1."
   ]
  },
  {
   "cell_type": "code",
   "execution_count": 12,
   "metadata": {},
   "outputs": [
    {
     "name": "stdout",
     "output_type": "stream",
     "text": [
      "This\n",
      "\n",
      "file\n",
      "\n",
      "has\n",
      "\n",
      "been\n",
      "\n",
      "opened\n"
     ]
    }
   ],
   "source": [
    "# Example 7: A cleaner Example 1\n",
    "\n",
    "with open(\"example.txt\", \"r\") as file_object:\n",
    "    lines = file_object.readlines()\n",
    "    for line in lines:\n",
    "        print(line)\n"
   ]
  },
  {
   "cell_type": "markdown",
   "metadata": {},
   "source": [
    "The `with` keyword is super powerful in that it opens *and* closes the file for you. Once Python is completely done executing the code within the `with` block, Python will close the file for you without you needing to explicitly call `close()`. Using `with` thus is the preferred way to open files in this class."
   ]
  }
 ],
 "metadata": {
  "kernelspec": {
   "display_name": "Python 3",
   "language": "python",
   "name": "python3"
  },
  "language_info": {
   "codemirror_mode": {
    "name": "ipython",
    "version": 3
   },
   "file_extension": ".py",
   "mimetype": "text/x-python",
   "name": "python",
   "nbconvert_exporter": "python",
   "pygments_lexer": "ipython3",
   "version": "3.11.5"
  }
 },
 "nbformat": 4,
 "nbformat_minor": 2
}
